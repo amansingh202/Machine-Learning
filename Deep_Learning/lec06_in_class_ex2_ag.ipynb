{
  "nbformat": 4,
  "nbformat_minor": 0,
  "metadata": {
    "colab": {
      "provenance": [],
      "include_colab_link": true
    },
    "kernelspec": {
      "name": "python3",
      "display_name": "Python 3"
    },
    "language_info": {
      "name": "python"
    }
  },
  "cells": [
    {
      "cell_type": "markdown",
      "metadata": {
        "id": "view-in-github",
        "colab_type": "text"
      },
      "source": [
        "<a href=\"https://colab.research.google.com/github/amansingh202/Machine-Learning/blob/main/Deep_Learning/lec06_in_class_ex2_ag.ipynb\" target=\"_parent\"><img src=\"https://colab.research.google.com/assets/colab-badge.svg\" alt=\"Open In Colab\"/></a>"
      ]
    },
    {
      "cell_type": "code",
      "execution_count": 23,
      "metadata": {
        "id": "nsP6CD1CAK32"
      },
      "outputs": [],
      "source": [
        "import math\n",
        "class ag: # AutoGrad\n",
        "#auto differentiation\n",
        "\n",
        "\n",
        "    def log(input):\n",
        "        output = ag.Scalar(math.log(input.value), inputs=[input], op=\"log\")\n",
        "\n",
        "        def _backward():\n",
        "            input.grad += output.grad / input.value\n",
        "            return None\n",
        "\n",
        "        output._backward = _backward\n",
        "        return output\n",
        "\n",
        "    def exp(input):\n",
        "\n",
        "        output = ag.Scalar(math.exp(input.value), inputs=[input], op=\"exp\")\n",
        "\n",
        "        def _backward():\n",
        "            ## EXERCISE 2.B\n",
        "            ## YOUR CODE HERE\n",
        "            return None\n",
        "\n",
        "        output._backward = _backward\n",
        "        return output\n",
        "\n",
        "    def relu(input):\n",
        "        output = ag.Scalar(max(0, input.value), inputs=[input], op=\"relu\")\n",
        "\n",
        "        def _backward():\n",
        "            ## EXERCISE 2.C\n",
        "            ## YOUR CODE HERE\n",
        "            return None\n",
        "\n",
        "        output._backward = _backward\n",
        "        return output\n",
        "\n",
        "    class Scalar: # Scalars with grads\n",
        "        def __init__(self,  value, op=\"\", _backward= lambda : None, inputs=[], label=\"\"):\n",
        "\n",
        "            self.value = float(value)\n",
        "            self.grad = 0.0\n",
        "\n",
        "            self._backward = _backward\n",
        "            self.inputs = inputs\n",
        "\n",
        "            self.op = op\n",
        "            self.label = label\n",
        "\n",
        "\n",
        "        def topological_sort(self):\n",
        "            ## EXERCISE 2.A\n",
        "            ## YOUR CODE HERE\n",
        "            visited = set()  # Keep track of visited nodes\n",
        "            sorted_nodes = []  # Result list for topological order\n",
        "\n",
        "            def dfs(node):\n",
        "                if node in visited:  # If already visited, return\n",
        "                    return\n",
        "                visited.add(node)  # Mark the node as visited\n",
        "                for input_node in node.inputs:  # Visit all inputs (dependencies)\n",
        "                    dfs(input_node)  # Recursive DFS call\n",
        "                sorted_nodes.append(node)  # Add the node to the sorted list\n",
        "\n",
        "            dfs(self)  # Start DFS from the current node\n",
        "            return sorted_nodes\n",
        "\n",
        "        def backward(self):\n",
        "            self.grad = 1.0\n",
        "\n",
        "            topo_order = self.topological_sort()\n",
        "\n",
        "            for node in reversed(topo_order):\n",
        "                node._backward()\n",
        "\n",
        "\n",
        "        def __add__(self, other):\n",
        "            assert isinstance(other, ag.Scalar)\n",
        "\n",
        "            output = ag.Scalar(self.value + other.value,\n",
        "                               inputs=[self, other], op=\"add\")\n",
        "\n",
        "            def _backward():\n",
        "                self.grad += output.grad\n",
        "                other.grad += output.grad\n",
        "\n",
        "            output._backward = _backward\n",
        "            return output\n",
        "\n",
        "\n",
        "        def __mul__(self, other):\n",
        "            assert isinstance(other, ag.Scalar)\n",
        "            output = ag.Scalar(self.value * other.value, inputs=[self, other], op=\"mul\")\n",
        "\n",
        "            def _backward():\n",
        "                ## EXERCISE 2.B\n",
        "\n",
        "                self.grad += other.value * output.grad  # YOUR CODE HERE\n",
        "                other.grad += self.value * output.grad  # YOUR CODE HERE\n",
        "\n",
        "                return self.grad\n",
        "\n",
        "            output._backward = _backward #\n",
        "\n",
        "            return output\n",
        "\n",
        "        def __pow__(self, exponent): # exponent is just a python float\n",
        "            output = ag.Scalar(self.value ** exponent, inputs=[self], op=f\"pow({exponent})\")\n",
        "\n",
        "            def _backward():\n",
        "                ## EXERCISE 2.B\n",
        "\n",
        "                self.grad += exponent * (self.value ** (exponent - 1)) * output.grad # YOUR CODE HERE\n",
        "                return self.grad\n",
        "\n",
        "            output._backward = _backward\n",
        "            return output\n",
        "\n",
        "        def __repr__(self) -> str:\n",
        "            if self.op == \"\":\n",
        "                return self.label\n",
        "            else:\n",
        "                return self.label + \"    \" + self.op\n",
        "\n"
      ]
    },
    {
      "cell_type": "code",
      "source": [
        "x = ag.Scalar(2, label=\"z2:x\")\n",
        "y = ag.Scalar(3, label=\"z3:y\")\n",
        "\n",
        "# implement log(x^2+1)*exp(y) + y^2*x\n",
        "def f(x,y):\n",
        "    z1 = ag.Scalar(1,label= \"z1:1\")\n",
        "    z2 = x\n",
        "    z3 = y\n",
        "\n",
        "    z4 = z2**2\n",
        "    z4.label = \"z4:x^2\"\n",
        "\n",
        "    z5 = z4 + z1\n",
        "    z5.label = \"z5:x^2 + 1\"\n",
        "\n",
        "    z6 = ag.log(z5)\n",
        "    z6.label = \"z6:log(x^2 + 1)\"\n",
        "\n",
        "    z7 = ag.exp(z3)\n",
        "    z7.label = \"z7:exp(y)\"\n",
        "\n",
        "    z8 = z6 * z7\n",
        "    z8.label = \"z8:log(x^2 + 1) * exp(y)\"\n",
        "\n",
        "    z9 = z3**2\n",
        "    z9.label = \"z9:y^2\"\n",
        "\n",
        "    z10 = z9 * z2\n",
        "    z10.label = \"z10:y^2 * x\"\n",
        "\n",
        "    z11 = z8 + z10\n",
        "    z11.label = \"z11:log(x^2 + 1) * exp(y) + y^2 * x\"\n",
        "\n",
        "    return z11"
      ],
      "metadata": {
        "id": "IM6xlPmqgUtm"
      },
      "execution_count": 24,
      "outputs": []
    },
    {
      "cell_type": "markdown",
      "source": [
        "## Exercise 2.A --- run this after you're done"
      ],
      "metadata": {
        "id": "ejr-_CdXhLCv"
      }
    },
    {
      "cell_type": "code",
      "source": [
        "output = f(x,y)\n",
        "\n",
        "output.topological_sort()"
      ],
      "metadata": {
        "colab": {
          "base_uri": "https://localhost:8080/"
        },
        "id": "Qhf_7i6kgX92",
        "outputId": "07270d7b-4a8f-4318-a71e-f24c215e5598"
      },
      "execution_count": 25,
      "outputs": [
        {
          "output_type": "execute_result",
          "data": {
            "text/plain": [
              "[z2:x,\n",
              " z4:x^2    pow(2),\n",
              " z1:1,\n",
              " z5:x^2 + 1    add,\n",
              " z6:log(x^2 + 1)    log,\n",
              " z3:y,\n",
              " z7:exp(y)    exp,\n",
              " z8:log(x^2 + 1) * exp(y)    mul,\n",
              " z9:y^2    pow(2),\n",
              " z10:y^2 * x    mul,\n",
              " z11:log(x^2 + 1) * exp(y) + y^2 * x    add]"
            ]
          },
          "metadata": {},
          "execution_count": 25
        }
      ]
    },
    {
      "cell_type": "markdown",
      "source": [
        "# Exercise 2.B --- run this after you're done"
      ],
      "metadata": {
        "id": "ho0MF2gbibQd"
      }
    },
    {
      "cell_type": "code",
      "source": [
        "output = f(x,y)\n",
        "output.backward()\n",
        "print(\"f(x,y)\", output.value)\n",
        "print(\"x.grad\", x.grad)\n",
        "print(\"y.grad\", y.grad)"
      ],
      "metadata": {
        "colab": {
          "base_uri": "https://localhost:8080/"
        },
        "id": "-Ks6zJqsgTQ3",
        "outputId": "ea45cd26-e188-458e-b2ec-1ed95d3a2e39"
      },
      "execution_count": 26,
      "outputs": [
        {
          "output_type": "stream",
          "name": "stdout",
          "text": [
            "f(x,y) 50.3264246157732\n",
            "x.grad 25.068429538550134\n",
            "y.grad 12.0\n"
          ]
        }
      ]
    },
    {
      "cell_type": "markdown",
      "source": [
        "# Check against actual mathematics"
      ],
      "metadata": {
        "id": "2Yfqdg0Voaib"
      }
    },
    {
      "cell_type": "code",
      "source": [
        "print(\"f(x,y)\", math.log(x.value**2 + 1) * math.exp(y.value) + y.value**2 * x.value)\n",
        "print(\"x.grad\", (2*x.value)/(x.value**2 + 1) * math.exp(y.value) + y.value**2)\n",
        "print(\"y.grad\", math.log(x.value**2 + 1) * math.exp(y.value) + 2*y.value * x.value)"
      ],
      "metadata": {
        "colab": {
          "base_uri": "https://localhost:8080/"
        },
        "id": "-mtiM1a4A0wh",
        "outputId": "9560fd2b-ed23-4a37-8d5d-5016a912570d"
      },
      "execution_count": null,
      "outputs": [
        {
          "output_type": "stream",
          "name": "stdout",
          "text": [
            "f(x,y) 50.3264246157732\n",
            "x.grad 25.068429538550134\n",
            "y.grad 44.3264246157732\n"
          ]
        }
      ]
    },
    {
      "cell_type": "markdown",
      "source": [
        "# Exercise 2.C --- run this after you're done"
      ],
      "metadata": {
        "id": "IZ7TgIBTxF5h"
      }
    },
    {
      "cell_type": "code",
      "source": [
        "import matplotlib.pyplot as plt\n",
        "xs_raw = [i - 5 for i in range(10)]\n",
        "xs = [ag.Scalar(i) for i in xs_raw]\n",
        "ys = [ag.relu(x)**3 for x in xs]\n",
        "[y.backward() for y in ys]\n",
        "grads = [x.grad for x in xs]\n",
        "plt.plot(xs_raw, grads, label='autograd')\n",
        "plt.plot(xs_raw, [3*max(0,x_raw)**2 for x_raw in xs_raw], label='manual grad')\n",
        "plt.title(\"The two plots should coincide\")\n",
        "plt.legend()\n",
        "plt.show()"
      ],
      "metadata": {
        "colab": {
          "base_uri": "https://localhost:8080/",
          "height": 452
        },
        "id": "HCB52W35xIRj",
        "outputId": "3aa4d435-1dae-4ce0-d8ab-c41736dcbc5d"
      },
      "execution_count": null,
      "outputs": [
        {
          "output_type": "display_data",
          "data": {
            "text/plain": [
              "<Figure size 640x480 with 1 Axes>"
            ],
            "image/png": "[encoded data removed]"
          },
          "metadata": {}
        }
      ]
    },
    {
      "cell_type": "code",
      "source": [],
      "metadata": {
        "id": "fMZUw5BNxedX"
      },
      "execution_count": null,
      "outputs": []
    }
  ]
}