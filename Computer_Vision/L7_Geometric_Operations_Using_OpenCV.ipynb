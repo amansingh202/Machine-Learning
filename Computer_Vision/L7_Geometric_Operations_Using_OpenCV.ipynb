{
 "cells": [
  {
   "cell_type": "markdown",
   "id": "05c0e6bb",
   "metadata": {},
   "source": [
    "# Geometric Operations using OpenCV"
   ]
  },
  {
   "cell_type": "markdown",
   "id": "e06ce354",
   "metadata": {},
   "source": [
    "In the first part of the lab, you will apply geometric transformations to an image. This allows you to perform different operations like reshape translation i.e. to shift, reshape and rotate the image. In the second part of the lab, you will learn how to apply some basic array and matrix operations to the image.\n",
    "\n",
    "Geometric Operations<br>\n",
    "Scaling<br>\n",
    "Translation<br>\n",
    "Rotation<br>\n",
    "Mathematical Operations<br>\n",
    "Array Operations<br>\n",
    "Matix Operations n"
   ]
  },
  {
   "cell_type": "code",
   "execution_count": 1,
   "id": "6f629c3b",
   "metadata": {},
   "outputs": [],
   "source": [
    "import matplotlib.pyplot as plt\n",
    "import cv2\n",
    "import numpy as np"
   ]
  },
  {
   "cell_type": "markdown",
   "id": "412c83f4",
   "metadata": {},
   "source": [
    "First, let's define a helper function to plot two images side-by-side. You will not need to understand this code this moment, but this function will be used repeatedly in this tutorial to showcase the results."
   ]
  },
  {
   "cell_type": "code",
   "execution_count": 2,
   "id": "25ae720e",
   "metadata": {},
   "outputs": [],
   "source": [
    "def plot_image(image_1, image_2, title_1 = \"Original\", title_2 = \"New Image\"):\n",
    "    plt.figure(figsize=(10,10))\n",
    "    plt.subplot(1,2,1)\n",
    "    plt.imshow(image_1, cmap=\"gray\")\n",
    "    plt.title(title_1)\n",
    "    plt.subplot(1,2,2)\n",
    "    plt.imshow(image_2, cmap='gray')\n",
    "    plt.title(title_2)\n",
    "    plt.show()"
   ]
  },
  {
   "cell_type": "markdown",
   "id": "bff2d336",
   "metadata": {},
   "source": [
    "# Geometric Transformations\n",
    "Geometric transformations allow you to perform different operations like translation i.e. to shift, reshape and rotate the image.\n",
    "\n",
    "<h2>Scaling</h2>\n",
    "We can resize an image using the function resize() from cv2 module for this purpose. You can specify the scaling factor or the size of the image:\n",
    "\n",
    "Consider the following image with the corresponding intensity values:"
   ]
  },
  {
   "cell_type": "code",
   "execution_count": null,
   "id": "01a3359d",
   "metadata": {},
   "outputs": [],
   "source": [
    "toy_image = np.zeros((6,6))\n",
    "toy_image[1:5, 1:5] = 255\n",
    "toy_image[2:4,2:4] = 0\n",
    "plt.imshow(toy_image, cmap = 'gray')\n",
    "plt.show()\n",
    "tou"
   ]
  }
 ],
 "metadata": {
  "kernelspec": {
   "display_name": "Python 3 (ipykernel)",
   "language": "python",
   "name": "python3"
  },
  "language_info": {
   "codemirror_mode": {
    "name": "ipython",
    "version": 3
   },
   "file_extension": ".py",
   "mimetype": "text/x-python",
   "name": "python",
   "nbconvert_exporter": "python",
   "pygments_lexer": "ipython3",
   "version": "3.11.5"
  }
 },
 "nbformat": 4,
 "nbformat_minor": 5
}
