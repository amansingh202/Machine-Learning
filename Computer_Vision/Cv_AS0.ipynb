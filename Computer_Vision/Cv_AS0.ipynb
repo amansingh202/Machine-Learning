{
  "nbformat": 4,
  "nbformat_minor": 0,
  "metadata": {
    "colab": {
      "provenance": [],
      "toc_visible": true,
      "authorship_tag": "ABX9TyNbze+r4vnhuJeM2ZU4p2xz",
      "include_colab_link": true
    },
    "kernelspec": {
      "name": "python3",
      "display_name": "Python 3"
    },
    "language_info": {
      "name": "python"
    }
  },
  "cells": [
    {
      "cell_type": "markdown",
      "metadata": {
        "id": "view-in-github",
        "colab_type": "text"
      },
      "source": [
        "<a href=\"https://colab.research.google.com/github/amansingh202/Machine-Learning/blob/main/Computer_Vision/Cv_AS0.ipynb\" target=\"_parent\"><img src=\"https://colab.research.google.com/assets/colab-badge.svg\" alt=\"Open In Colab\"/></a>"
      ]
    },
    {
      "cell_type": "markdown",
      "source": [
        "Name: Aman Kumar <br>\n",
        "Hawk Id: A20538809 <br>\n",
        "CS 512 (Computer Vision)"
      ],
      "metadata": {
        "id": "HYNH59ogg_yb"
      }
    },
    {
      "cell_type": "markdown",
      "source": [
        "**Part A: Vector Operations**\n",
        "Let, p = [2,-1,4], q = [0,3,5], r = [1,-2,2]"
      ],
      "metadata": {
        "id": "BPe34HnkgPC8"
      }
    },
    {
      "cell_type": "markdown",
      "source": [
        "**Find:**\n",
        "1. 3p+2q"
      ],
      "metadata": {
        "id": "q6GlClGog0Jh"
      }
    },
    {
      "cell_type": "code",
      "source": [
        "#Solution:\n",
        "import numpy as np"
      ],
      "metadata": {
        "id": "8WiEQwl7g6uv"
      },
      "execution_count": 2,
      "outputs": []
    },
    {
      "cell_type": "code",
      "source": [
        "#Solution Part A: 1\n",
        "p = np.array([2, -1, 4])\n",
        "q = np.array([0, 3, 5])\n",
        "r = np.array([1, -2, 2])\n",
        "\n",
        "result = 3*p + 2*q\n",
        "result"
      ],
      "metadata": {
        "colab": {
          "base_uri": "https://localhost:8080/"
        },
        "id": "jI8jzK1whTlx",
        "outputId": "7708b608-ba74-4d30-cee0-b7393d23c67f"
      },
      "execution_count": 3,
      "outputs": [
        {
          "output_type": "execute_result",
          "data": {
            "text/plain": [
              "array([ 6,  3, 22])"
            ]
          },
          "metadata": {},
          "execution_count": 3
        }
      ]
    },
    {
      "cell_type": "markdown",
      "source": [
        "2. ^p: a unit vector in the direction of p"
      ],
      "metadata": {
        "id": "-pE4dwT-iqcm"
      }
    },
    {
      "cell_type": "code",
      "source": [
        "#Solution\n",
        "magnitude_p = np.linalg.norm(p)\n",
        "unit_vector_p = p/magnitude_p\n",
        "unit_vector_p"
      ],
      "metadata": {
        "colab": {
          "base_uri": "https://localhost:8080/"
        },
        "id": "83lN-Qe0ht4D",
        "outputId": "5fa2402b-aea1-423e-ec9c-c87133e9258c"
      },
      "execution_count": 4,
      "outputs": [
        {
          "output_type": "execute_result",
          "data": {
            "text/plain": [
              "array([ 0.43643578, -0.21821789,  0.87287156])"
            ]
          },
          "metadata": {},
          "execution_count": 4
        }
      ]
    },
    {
      "cell_type": "markdown",
      "source": [
        "3. ||p|| and the angle of p relative to the positive y-axis"
      ],
      "metadata": {
        "id": "_IFB-4Qoj0Sp"
      }
    },
    {
      "cell_type": "code",
      "source": [
        "#Solution:\n",
        "magnitude_p = np.linalg.norm(p)\n",
        "angle_wrt_yAxis = np.arccos(p[1]/magnitude_p)\n",
        "angle_in_degrees = np.degrees(angle_wrt_yAxis)\n",
        "print(angle_in_degrees)"
      ],
      "metadata": {
        "colab": {
          "base_uri": "https://localhost:8080/"
        },
        "id": "X0VqFGqjjIyE",
        "outputId": "25b952e0-5480-46e2-edab-0f5dcb64e150"
      },
      "execution_count": 5,
      "outputs": [
        {
          "output_type": "stream",
          "name": "stdout",
          "text": [
            "102.60438264837919\n"
          ]
        }
      ]
    },
    {
      "cell_type": "markdown",
      "source": [
        "4. The direction cosines of p"
      ],
      "metadata": {
        "id": "umZs3u9vlW74"
      }
    },
    {
      "cell_type": "code",
      "source": [
        "#Solution:\n",
        "direction_cosines_p = p/magnitude_p\n",
        "direction_cosines_p"
      ],
      "metadata": {
        "colab": {
          "base_uri": "https://localhost:8080/"
        },
        "id": "A5xI9B83kAfW",
        "outputId": "41a301be-2fa5-49a1-c02b-e5db6c33e698"
      },
      "execution_count": 6,
      "outputs": [
        {
          "output_type": "execute_result",
          "data": {
            "text/plain": [
              "array([ 0.43643578, -0.21821789,  0.87287156])"
            ]
          },
          "metadata": {},
          "execution_count": 6
        }
      ]
    },
    {
      "cell_type": "markdown",
      "source": [
        "5. The angle between p and q"
      ],
      "metadata": {
        "id": "yc01u9wTlmCu"
      }
    },
    {
      "cell_type": "code",
      "source": [
        "#Solution:\n",
        "dot_product_pq = np.dot(p,q)\n",
        "magnitude_q = np.linalg.norm(q)\n",
        "cosine_angle_pq = dot_product_pq/(magnitude_p*magnitude_q)\n",
        "angle_between_pq = np.arccos(cosine_angle_pq)\n",
        "angle_between_pq_degrees = np.degrees(angle_between_pq)\n",
        "angle_between_pq_degrees"
      ],
      "metadata": {
        "colab": {
          "base_uri": "https://localhost:8080/"
        },
        "id": "OswOqg8slkME",
        "outputId": "fbebf5bd-4830-4d4b-ebc9-1d03e46c536e"
      },
      "execution_count": 7,
      "outputs": [
        {
          "output_type": "execute_result",
          "data": {
            "text/plain": [
              "50.490287713806076"
            ]
          },
          "metadata": {},
          "execution_count": 7
        }
      ]
    },
    {
      "cell_type": "markdown",
      "source": [
        "6. p ⋅q and q ⋅ p"
      ],
      "metadata": {
        "id": "Qx1Wytx3nExA"
      }
    },
    {
      "cell_type": "code",
      "source": [
        "#Solution:\n",
        "p_dot_q = np.dot(p,q)\n",
        "print(p_dot_q)\n",
        "q_dot_p = np.dot(q,p)\n",
        "print(q_dot_p)\n",
        "print(\"As Dot product is commutative\")"
      ],
      "metadata": {
        "colab": {
          "base_uri": "https://localhost:8080/"
        },
        "id": "s1Hkt7D4mKsz",
        "outputId": "7b42e624-44f0-4109-a133-77dd0e62092f"
      },
      "execution_count": 8,
      "outputs": [
        {
          "output_type": "stream",
          "name": "stdout",
          "text": [
            "17\n",
            "17\n",
            "As Dot product is commutative\n"
          ]
        }
      ]
    },
    {
      "cell_type": "markdown",
      "source": [
        "7. p⋅q using the angle between p and q"
      ],
      "metadata": {
        "id": "yTsfbPNLoBAw"
      }
    },
    {
      "cell_type": "code",
      "source": [
        "#Solution:\n",
        "p_dot_q_usingAngle = magnitude_p*magnitude_q*np.cos(angle_between_pq)\n",
        "print(p_dot_q_usingAngle)"
      ],
      "metadata": {
        "colab": {
          "base_uri": "https://localhost:8080/"
        },
        "id": "7h2P4FCknVni",
        "outputId": "f1d9ea4c-5a88-46a4-a43b-46dcf9c72194"
      },
      "execution_count": 9,
      "outputs": [
        {
          "output_type": "stream",
          "name": "stdout",
          "text": [
            "17.0\n"
          ]
        }
      ]
    },
    {
      "cell_type": "markdown",
      "source": [
        "8. The scalar projection of q onto p"
      ],
      "metadata": {
        "id": "cOi7UlTzgPtj"
      }
    },
    {
      "cell_type": "code",
      "source": [
        "#Solution:\n",
        "scalar_proj_q_onto_p = np.dot(p,q)/magnitude_p\n",
        "scalar_proj_q_onto_p"
      ],
      "metadata": {
        "id": "8-YoKWm9oX1y",
        "colab": {
          "base_uri": "https://localhost:8080/"
        },
        "outputId": "335111b8-0231-422a-b3f2-d63765106212"
      },
      "execution_count": 10,
      "outputs": [
        {
          "output_type": "execute_result",
          "data": {
            "text/plain": [
              "3.709704134011871"
            ]
          },
          "metadata": {},
          "execution_count": 10
        }
      ]
    },
    {
      "cell_type": "markdown",
      "source": [
        "9. A vector that is perpendicular to p"
      ],
      "metadata": {
        "id": "Z20iRGZ1gzzG"
      }
    },
    {
      "cell_type": "code",
      "source": [
        "#Solution:\n",
        "perpendicular_to_p = np.cross(p, np.array([1,0,0]))\n",
        "perpendicular_to_p"
      ],
      "metadata": {
        "colab": {
          "base_uri": "https://localhost:8080/"
        },
        "id": "gNzN_z-zgS9X",
        "outputId": "ee26f175-b1b8-4ee7-db6d-77f4882ea3da"
      },
      "execution_count": 11,
      "outputs": [
        {
          "output_type": "execute_result",
          "data": {
            "text/plain": [
              "array([0, 4, 1])"
            ]
          },
          "metadata": {},
          "execution_count": 11
        }
      ]
    },
    {
      "cell_type": "markdown",
      "source": [
        "10. pxq and qxp"
      ],
      "metadata": {
        "id": "NloS257ik_bZ"
      }
    },
    {
      "cell_type": "code",
      "source": [
        "#Solution:\n",
        "pxq = np.cross(p,q)\n",
        "qxp = np.cross(q,p)\n",
        "\n",
        "print(f\"pxq is {pxq}\")\n",
        "print(f\"qxp is {qxp}\")"
      ],
      "metadata": {
        "colab": {
          "base_uri": "https://localhost:8080/"
        },
        "id": "rBw9cW3ak7_9",
        "outputId": "c3d40357-f946-4682-d22d-664326035f63"
      },
      "execution_count": 12,
      "outputs": [
        {
          "output_type": "stream",
          "name": "stdout",
          "text": [
            "pxq is [-17 -10   6]\n",
            "qxp is [17 10 -6]\n"
          ]
        }
      ]
    },
    {
      "cell_type": "markdown",
      "source": [
        "\n",
        "11. A vector that is perpendicular to both p and q"
      ],
      "metadata": {
        "id": "qILFW2bSmQZW"
      }
    },
    {
      "cell_type": "code",
      "source": [
        "#Solution:\n",
        "perpendicular_to_p_q = np.cross(p,q)\n",
        "perpendicular_to_p_q"
      ],
      "metadata": {
        "colab": {
          "base_uri": "https://localhost:8080/"
        },
        "id": "ItAc0Z0clP5_",
        "outputId": "592775c8-2caa-44b3-d764-523b2cf5a58b"
      },
      "execution_count": 13,
      "outputs": [
        {
          "output_type": "execute_result",
          "data": {
            "text/plain": [
              "array([-17, -10,   6])"
            ]
          },
          "metadata": {},
          "execution_count": 13
        }
      ]
    },
    {
      "cell_type": "markdown",
      "source": [
        "12. The linear dependency between p, q, and r"
      ],
      "metadata": {
        "id": "75AoJmMhmdlA"
      }
    },
    {
      "cell_type": "code",
      "source": [
        "#Solution:\n",
        "matrix = np.column_stack((p,q,r))\n",
        "rank = np.linalg.matrix_rank(matrix)\n",
        "\n",
        "if rank < 3:\n",
        "  print(\"p, q, r are linearly dependent\")\n",
        "else:\n",
        "  print(\"p, q, r are linearly independent\")"
      ],
      "metadata": {
        "colab": {
          "base_uri": "https://localhost:8080/"
        },
        "id": "zmJjs4z_mZL_",
        "outputId": "ebad2ce7-5ab5-4c5b-96f0-d97ca8ee3379"
      },
      "execution_count": 14,
      "outputs": [
        {
          "output_type": "stream",
          "name": "stdout",
          "text": [
            "p, q, r are linearly independent\n"
          ]
        }
      ]
    },
    {
      "cell_type": "markdown",
      "source": [
        "13. p(transpose)q and pq(transpose)"
      ],
      "metadata": {
        "id": "YdBMqt3IpH-X"
      }
    },
    {
      "cell_type": "code",
      "source": [
        "#Solution:\n",
        "p_transpose_q = np.dot(p.T, q)\n",
        "print(p_transpose_q)\n",
        "\n",
        "p_q_transpose = np.dot(p, q.T)\n",
        "print(p_q_transpose)"
      ],
      "metadata": {
        "colab": {
          "base_uri": "https://localhost:8080/"
        },
        "id": "AjzyNGodoYz9",
        "outputId": "342624b8-6998-4de4-eae1-5bd1113e82fd"
      },
      "execution_count": 15,
      "outputs": [
        {
          "output_type": "stream",
          "name": "stdout",
          "text": [
            "17\n",
            "17\n"
          ]
        }
      ]
    },
    {
      "cell_type": "markdown",
      "source": [
        "**Part B: Matrix Operations**"
      ],
      "metadata": {
        "id": "4XWl_5DysGo-"
      }
    },
    {
      "cell_type": "code",
      "source": [
        "x = np.array([[2,1,0],[-1,3,4],[3,2,-2]])\n",
        "y = np.array([[4,-1,2],[3,0,-3],[1,2,1]])\n",
        "z = np.array([[2,0,-1],[1,4,5],[3,1,2]])\n",
        "s = np.array([[-1],[4],[0]])"
      ],
      "metadata": {
        "id": "JXbo2EAUpan3"
      },
      "execution_count": 16,
      "outputs": []
    },
    {
      "cell_type": "markdown",
      "source": [
        "**Find:**\n",
        "  1. X+2Y"
      ],
      "metadata": {
        "id": "lmr1jG7XtJho"
      }
    },
    {
      "cell_type": "code",
      "source": [
        "#Solution:\n",
        "x_plus_2y = x + 2*y\n",
        "x_plus_2y"
      ],
      "metadata": {
        "colab": {
          "base_uri": "https://localhost:8080/"
        },
        "id": "_QSnPyWBtG2J",
        "outputId": "f66e69af-1c80-414e-ccea-76b4340cc142"
      },
      "execution_count": 17,
      "outputs": [
        {
          "output_type": "execute_result",
          "data": {
            "text/plain": [
              "array([[10, -1,  4],\n",
              "       [ 5,  3, -2],\n",
              "       [ 5,  6,  0]])"
            ]
          },
          "metadata": {},
          "execution_count": 17
        }
      ]
    },
    {
      "cell_type": "markdown",
      "source": [
        "2. XY and YX"
      ],
      "metadata": {
        "id": "kfgic3Attgp1"
      }
    },
    {
      "cell_type": "code",
      "source": [
        "#Solution\n",
        "x_y = np.dot(x,y)\n",
        "y_x = np.dot(y,x)\n",
        "print(x_y)\n",
        "print(y_x)"
      ],
      "metadata": {
        "colab": {
          "base_uri": "https://localhost:8080/"
        },
        "id": "VM5uNeVUtaBk",
        "outputId": "4c34a85c-fe15-4838-9d91-0fdb95ff3b0b"
      },
      "execution_count": 18,
      "outputs": [
        {
          "output_type": "stream",
          "name": "stdout",
          "text": [
            "[[11 -2  1]\n",
            " [ 9  9 -7]\n",
            " [16 -7 -2]]\n",
            "[[15  5 -8]\n",
            " [-3 -3  6]\n",
            " [ 3  9  6]]\n"
          ]
        }
      ]
    },
    {
      "cell_type": "markdown",
      "source": [
        "3. (XY)^T and Y^T.X^t"
      ],
      "metadata": {
        "id": "WAAzIfXVvUyq"
      }
    },
    {
      "cell_type": "code",
      "source": [
        "#Solution:\n",
        "xy_T = x_y.T\n",
        "print(xy_T)\n",
        "\n",
        "yT_xT = np.dot(y.T, x.T)\n",
        "print(yT_xT)"
      ],
      "metadata": {
        "colab": {
          "base_uri": "https://localhost:8080/"
        },
        "id": "R7tK3o3ouYmm",
        "outputId": "893fbbd5-e727-4c48-98b5-ba995d78bf7a"
      },
      "execution_count": 19,
      "outputs": [
        {
          "output_type": "stream",
          "name": "stdout",
          "text": [
            "[[11  9 16]\n",
            " [-2  9 -7]\n",
            " [ 1 -7 -2]]\n",
            "[[11  9 16]\n",
            " [-2  9 -7]\n",
            " [ 1 -7 -2]]\n"
          ]
        }
      ]
    },
    {
      "cell_type": "markdown",
      "source": [
        "4. X|andZ|(see question A-12)"
      ],
      "metadata": {
        "id": "_EQuJk-mMHe3"
      }
    },
    {
      "cell_type": "code",
      "source": [
        "#Solution:\n",
        "def check_linear_dependency(A, B):\n",
        "    try:\n",
        "        for i in range(A.shape[1]):\n",
        "            solution, residuals, rank, s = np.linalg.lstsq(B, A[:, i], rcond=None)\n",
        "            if not np.allclose(np.dot(B, solution), A[:, i]):\n",
        "                return False\n",
        "        return True\n",
        "    except np.linalg.LinAlgError:\n",
        "        return False\n",
        "\n",
        "linear_dependency_XZ = check_linear_dependency(x, z)\n",
        "linear_dependency_ZX = check_linear_dependency(z, x)\n",
        "\n",
        "print(\"Linear dependency between columns of X and Z:\")\n",
        "print(f\"   X columns are dependent on Z columns: {linear_dependency_XZ}\")\n",
        "print(f\"   Z columns are dependent on X columns: {linear_dependency_ZX}\")"
      ],
      "metadata": {
        "colab": {
          "base_uri": "https://localhost:8080/"
        },
        "id": "21t97ldbvSkE",
        "outputId": "f1723e83-a052-44a6-bae0-4f712aff76cf"
      },
      "execution_count": 20,
      "outputs": [
        {
          "output_type": "stream",
          "name": "stdout",
          "text": [
            "Linear dependency between columns of X and Z:\n",
            "   X columns are dependent on Z columns: True\n",
            "   Z columns are dependent on X columns: True\n"
          ]
        }
      ]
    },
    {
      "cell_type": "code",
      "source": [],
      "metadata": {
        "id": "LB-77caXNtgd"
      },
      "execution_count": null,
      "outputs": []
    }
  ]
}