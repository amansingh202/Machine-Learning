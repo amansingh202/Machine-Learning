{
  "nbformat": 4,
  "nbformat_minor": 0,
  "metadata": {
    "colab": {
      "provenance": [],
      "authorship_tag": "ABX9TyNCiUozinnkM26/OkNT/J6r",
      "include_colab_link": true
    },
    "kernelspec": {
      "name": "python3",
      "display_name": "Python 3"
    },
    "language_info": {
      "name": "python"
    }
  },
  "cells": [
    {
      "cell_type": "markdown",
      "metadata": {
        "id": "view-in-github",
        "colab_type": "text"
      },
      "source": [
        "<a href=\"https://colab.research.google.com/github/amansingh202/Machine-Learning/blob/main/Computer_Vision/Cv_AS0.ipynb\" target=\"_parent\"><img src=\"https://colab.research.google.com/assets/colab-badge.svg\" alt=\"Open In Colab\"/></a>"
      ]
    },
    {
      "cell_type": "markdown",
      "source": [
        "Name: Aman Kumar <br>\n",
        "Hawk Id: A20538809 <br>\n",
        "CS 512 (Computer Vision)"
      ],
      "metadata": {
        "id": "HYNH59ogg_yb"
      }
    },
    {
      "cell_type": "markdown",
      "source": [
        "**Part A: Vector Operations**\n",
        "Let, p = [2,-1,4], q = [0,3,5], r = [1,-2,2]"
      ],
      "metadata": {
        "id": "BPe34HnkgPC8"
      }
    },
    {
      "cell_type": "markdown",
      "source": [
        "**Find:**\n",
        "1. 3p+2q"
      ],
      "metadata": {
        "id": "q6GlClGog0Jh"
      }
    },
    {
      "cell_type": "code",
      "source": [
        "#Solution:\n",
        "import numpy as np"
      ],
      "metadata": {
        "id": "8WiEQwl7g6uv"
      },
      "execution_count": 1,
      "outputs": []
    },
    {
      "cell_type": "code",
      "source": [
        "#Solution Part A: 1\n",
        "p = np.array([2, -1, 4])\n",
        "q = np.array([0, 3, 5])\n",
        "\n",
        "result = 3*p + 2*q\n",
        "result"
      ],
      "metadata": {
        "colab": {
          "base_uri": "https://localhost:8080/"
        },
        "id": "jI8jzK1whTlx",
        "outputId": "0495a760-9f1c-412b-8df0-838819e0b18d"
      },
      "execution_count": 4,
      "outputs": [
        {
          "output_type": "execute_result",
          "data": {
            "text/plain": [
              "array([ 6,  3, 22])"
            ]
          },
          "metadata": {},
          "execution_count": 4
        }
      ]
    },
    {
      "cell_type": "markdown",
      "source": [
        "1. ^p: a unit vector in the direction of p"
      ],
      "metadata": {
        "id": "-pE4dwT-iqcm"
      }
    },
    {
      "cell_type": "code",
      "source": [
        "#Solution\n",
        "magnitude_p = np.linalg.norm(p)\n",
        "unit_vector_p = p/magnitude_p\n",
        "unit_vector_p"
      ],
      "metadata": {
        "colab": {
          "base_uri": "https://localhost:8080/"
        },
        "id": "83lN-Qe0ht4D",
        "outputId": "348784da-76e3-4f4e-8c33-8195d27f7f60"
      },
      "execution_count": 6,
      "outputs": [
        {
          "output_type": "execute_result",
          "data": {
            "text/plain": [
              "array([ 0.43643578, -0.21821789,  0.87287156])"
            ]
          },
          "metadata": {},
          "execution_count": 6
        }
      ]
    },
    {
      "cell_type": "markdown",
      "source": [
        "2. ||p|| and the angle of p relative to the positive y-axis"
      ],
      "metadata": {
        "id": "_IFB-4Qoj0Sp"
      }
    },
    {
      "cell_type": "code",
      "source": [
        "#Solution:\n",
        "magnitude_p = np.linalg.norm(p)\n",
        "angle_wrt_yAxis = np.arccos(p[1]/magnitude_p)\n",
        "angle_in_degrees = np.degrees(angle_wrt_yAxis)\n",
        "print(angle_in_degrees)"
      ],
      "metadata": {
        "colab": {
          "base_uri": "https://localhost:8080/"
        },
        "id": "X0VqFGqjjIyE",
        "outputId": "f5efeda4-eef6-44ff-ae45-e9ca6f37b85e"
      },
      "execution_count": 10,
      "outputs": [
        {
          "output_type": "stream",
          "name": "stdout",
          "text": [
            "102.60438264837919\n"
          ]
        }
      ]
    },
    {
      "cell_type": "markdown",
      "source": [
        "3. The direction cosines of p"
      ],
      "metadata": {
        "id": "umZs3u9vlW74"
      }
    },
    {
      "cell_type": "code",
      "source": [
        "#Solution:\n",
        "direction_cosines_p = p/magnitude_p\n",
        "direction_cosines_p"
      ],
      "metadata": {
        "colab": {
          "base_uri": "https://localhost:8080/"
        },
        "id": "A5xI9B83kAfW",
        "outputId": "91ca9db6-c9c0-4eae-89a7-76113ee8af24"
      },
      "execution_count": 11,
      "outputs": [
        {
          "output_type": "execute_result",
          "data": {
            "text/plain": [
              "array([ 0.43643578, -0.21821789,  0.87287156])"
            ]
          },
          "metadata": {},
          "execution_count": 11
        }
      ]
    },
    {
      "cell_type": "markdown",
      "source": [
        "4. The angle between p and q"
      ],
      "metadata": {
        "id": "yc01u9wTlmCu"
      }
    },
    {
      "cell_type": "code",
      "source": [
        "#Solution:\n",
        "dot_product_pq = np.dot(p,q)\n",
        "magnitude_q = np.linalg.norm(q)\n",
        "cosine_angle_pq = dot_product_pq/(magnitude_p*magnitude_q)\n",
        "angle_between_pq = np.arccos(cosine_angle_pq)\n",
        "angle_between_pq_degrees = np.degrees(angle_between_pq)\n",
        "angle_between_pq_degrees"
      ],
      "metadata": {
        "colab": {
          "base_uri": "https://localhost:8080/"
        },
        "id": "OswOqg8slkME",
        "outputId": "cb064ebe-82fb-4469-fbef-4de745a089c5"
      },
      "execution_count": 14,
      "outputs": [
        {
          "output_type": "execute_result",
          "data": {
            "text/plain": [
              "50.490287713806076"
            ]
          },
          "metadata": {},
          "execution_count": 14
        }
      ]
    },
    {
      "cell_type": "markdown",
      "source": [
        "5. p ⋅q and q ⋅ p"
      ],
      "metadata": {
        "id": "Qx1Wytx3nExA"
      }
    },
    {
      "cell_type": "code",
      "source": [
        "#Solution:\n",
        "p_dot_q = np.dot(p,q)\n",
        "print(p_dot_q)\n",
        "q_dot_p = np.dot(q,p)\n",
        "print(q_dot_p)\n",
        "print(\"As Dot product is commutative\")"
      ],
      "metadata": {
        "colab": {
          "base_uri": "https://localhost:8080/"
        },
        "id": "s1Hkt7D4mKsz",
        "outputId": "7ae163cd-226a-47b3-a24c-39187d01e209"
      },
      "execution_count": 16,
      "outputs": [
        {
          "output_type": "stream",
          "name": "stdout",
          "text": [
            "17\n",
            "17\n",
            "As Dot product is commutative\n"
          ]
        }
      ]
    },
    {
      "cell_type": "code",
      "source": [],
      "metadata": {
        "id": "7h2P4FCknVni"
      },
      "execution_count": null,
      "outputs": []
    }
  ]
}