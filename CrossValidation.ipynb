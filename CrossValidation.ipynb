{
 "cells": [
  {
   "cell_type": "markdown",
   "id": "302b2b67",
   "metadata": {},
   "source": [
    "# Cross Validation"
   ]
  },
  {
   "cell_type": "code",
   "execution_count": 1,
   "id": "8b1d8afe",
   "metadata": {},
   "outputs": [],
   "source": [
    "from sklearn import datasets\n",
    "\n",
    "X, y = datasets.load_iris(return_X_y=True)"
   ]
  },
  {
   "cell_type": "markdown",
   "id": "54f3c30f",
   "metadata": {},
   "source": [
    "Methods of Cross validation"
   ]
  },
  {
   "cell_type": "markdown",
   "id": "b5d21d65",
   "metadata": {},
   "source": [
    "# 1. K-fold cross validation"
   ]
  },
  {
   "cell_type": "code",
   "execution_count": 2,
   "id": "53c4af2e",
   "metadata": {},
   "outputs": [],
   "source": [
    "from sklearn.tree import DecisionTreeClassifier\n",
    "from sklearn.model_selection import KFold, cross_val_score\n",
    "\n",
    "clf = DecisionTreeClassifier(random_state=42)\n",
    "\n",
    "k_folds = KFold(n_splits=5)\n",
    "scores = cross_val_score(clf, X, y, cv = k_folds)"
   ]
  },
  {
   "cell_type": "code",
   "execution_count": 4,
   "id": "b8247fe4",
   "metadata": {},
   "outputs": [
    {
     "name": "stdout",
     "output_type": "stream",
     "text": [
      "Cross validation scores:  [1.         1.         0.83333333 0.93333333 0.8       ]\n",
      "Average CV score:  0.9133333333333333\n",
      "Number of CV scores used in average 5\n"
     ]
    }
   ],
   "source": [
    "print(\"Cross validation scores: \", scores)\n",
    "print(\"Average CV score: \", scores.mean())\n",
    "print(\"Number of CV scores used in average\", len(scores))"
   ]
  },
  {
   "cell_type": "code",
   "execution_count": null,
   "id": "ea13910b",
   "metadata": {},
   "outputs": [],
   "source": []
  }
 ],
 "metadata": {
  "kernelspec": {
   "display_name": "Python 3 (ipykernel)",
   "language": "python",
   "name": "python3"
  },
  "language_info": {
   "codemirror_mode": {
    "name": "ipython",
    "version": 3
   },
   "file_extension": ".py",
   "mimetype": "text/x-python",
   "name": "python",
   "nbconvert_exporter": "python",
   "pygments_lexer": "ipython3",
   "version": "3.11.5"
  }
 },
 "nbformat": 4,
 "nbformat_minor": 5
}
