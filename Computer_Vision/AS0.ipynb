{
  "cells": [
    {
      "cell_type": "markdown",
      "metadata": {
        "id": "HYNH59ogg_yb"
      },
      "source": [
        "Name: Aman Kumar <br>\n",
        "Hawk Id: A20538809 <br>\n",
        "CS 512 (Computer Vision) <br>\n",
        "Fall'24"
      ]
    },
    {
      "cell_type": "markdown",
      "metadata": {
        "id": "BPe34HnkgPC8"
      },
      "source": [
        "**Part A: Vector Operations**\n",
        "Let, p = [2,-1,4], q = [0,3,5], r = [1,-2,2]"
      ]
    },
    {
      "cell_type": "markdown",
      "metadata": {
        "id": "q6GlClGog0Jh"
      },
      "source": [
        "**Find:**\n",
        "1. 3p+2q"
      ]
    },
    {
      "cell_type": "code",
      "execution_count": 76,
      "metadata": {
        "id": "8WiEQwl7g6uv"
      },
      "outputs": [],
      "source": [
        "#Solution:\n",
        "import numpy as np\n",
        "import math"
      ]
    },
    {
      "cell_type": "code",
      "execution_count": 3,
      "metadata": {
        "colab": {
          "base_uri": "https://localhost:8080/"
        },
        "id": "jI8jzK1whTlx",
        "outputId": "7708b608-ba74-4d30-cee0-b7393d23c67f"
      },
      "outputs": [
        {
          "data": {
            "text/plain": [
              "array([ 6,  3, 22])"
            ]
          },
          "execution_count": 3,
          "metadata": {},
          "output_type": "execute_result"
        }
      ],
      "source": [
        "#Solution Part A: 1\n",
        "p = np.array([2, -1, 4])\n",
        "q = np.array([0, 3, 5])\n",
        "r = np.array([1, -2, 2])\n",
        "\n",
        "result = 3*p + 2*q\n",
        "result"
      ]
    },
    {
      "cell_type": "markdown",
      "metadata": {
        "id": "-pE4dwT-iqcm"
      },
      "source": [
        "2. ^p: a unit vector in the direction of p"
      ]
    },
    {
      "cell_type": "code",
      "execution_count": 4,
      "metadata": {
        "colab": {
          "base_uri": "https://localhost:8080/"
        },
        "id": "83lN-Qe0ht4D",
        "outputId": "5fa2402b-aea1-423e-ec9c-c87133e9258c"
      },
      "outputs": [
        {
          "data": {
            "text/plain": [
              "array([ 0.43643578, -0.21821789,  0.87287156])"
            ]
          },
          "execution_count": 4,
          "metadata": {},
          "output_type": "execute_result"
        }
      ],
      "source": [
        "#Solution for unit vector\n",
        "magnitude_p = np.linalg.norm(p)\n",
        "unit_vector_p = p/magnitude_p\n",
        "unit_vector_p"
      ]
    },
    {
      "cell_type": "markdown",
      "metadata": {
        "id": "_IFB-4Qoj0Sp"
      },
      "source": [
        "3. ||p|| and the angle of p relative to the positive y-axis"
      ]
    },
    {
      "cell_type": "code",
      "execution_count": 5,
      "metadata": {
        "colab": {
          "base_uri": "https://localhost:8080/"
        },
        "id": "X0VqFGqjjIyE",
        "outputId": "25b952e0-5480-46e2-edab-0f5dcb64e150"
      },
      "outputs": [
        {
          "name": "stdout",
          "output_type": "stream",
          "text": [
            "102.60438264837919\n"
          ]
        }
      ],
      "source": [
        "#Solution:\n",
        "magnitude_p = np.linalg.norm(p)\n",
        "angle_wrt_yAxis = np.arccos(p[1]/magnitude_p)\n",
        "angle_in_degrees = np.degrees(angle_wrt_yAxis)\n",
        "print(angle_in_degrees)"
      ]
    },
    {
      "cell_type": "markdown",
      "metadata": {
        "id": "umZs3u9vlW74"
      },
      "source": [
        "4. The direction cosines of p"
      ]
    },
    {
      "cell_type": "code",
      "execution_count": 6,
      "metadata": {
        "colab": {
          "base_uri": "https://localhost:8080/"
        },
        "id": "A5xI9B83kAfW",
        "outputId": "41a301be-2fa5-49a1-c02b-e5db6c33e698"
      },
      "outputs": [
        {
          "data": {
            "text/plain": [
              "array([ 0.43643578, -0.21821789,  0.87287156])"
            ]
          },
          "execution_count": 6,
          "metadata": {},
          "output_type": "execute_result"
        }
      ],
      "source": [
        "#Solution:\n",
        "direction_cosines_p = p/magnitude_p\n",
        "direction_cosines_p"
      ]
    },
    {
      "cell_type": "markdown",
      "metadata": {
        "id": "yc01u9wTlmCu"
      },
      "source": [
        "5. The angle between p and q"
      ]
    },
    {
      "cell_type": "code",
      "execution_count": 7,
      "metadata": {
        "colab": {
          "base_uri": "https://localhost:8080/"
        },
        "id": "OswOqg8slkME",
        "outputId": "fbebf5bd-4830-4d4b-ebc9-1d03e46c536e"
      },
      "outputs": [
        {
          "data": {
            "text/plain": [
              "50.490287713806076"
            ]
          },
          "execution_count": 7,
          "metadata": {},
          "output_type": "execute_result"
        }
      ],
      "source": [
        "#Solution:\n",
        "dot_product_pq = np.dot(p,q)\n",
        "magnitude_q = np.linalg.norm(q)\n",
        "cosine_angle_pq = dot_product_pq/(magnitude_p*magnitude_q)\n",
        "angle_between_pq = np.arccos(cosine_angle_pq)\n",
        "angle_between_pq_degrees = np.degrees(angle_between_pq)\n",
        "angle_between_pq_degrees"
      ]
    },
    {
      "cell_type": "markdown",
      "metadata": {
        "id": "Qx1Wytx3nExA"
      },
      "source": [
        "6. p ⋅q and q ⋅ p"
      ]
    },
    {
      "cell_type": "code",
      "execution_count": 8,
      "metadata": {
        "colab": {
          "base_uri": "https://localhost:8080/"
        },
        "id": "s1Hkt7D4mKsz",
        "outputId": "7b42e624-44f0-4109-a133-77dd0e62092f"
      },
      "outputs": [
        {
          "name": "stdout",
          "output_type": "stream",
          "text": [
            "17\n",
            "17\n",
            "As Dot product is commutative\n"
          ]
        }
      ],
      "source": [
        "#Solution:\n",
        "p_dot_q = np.dot(p,q)\n",
        "print(p_dot_q)\n",
        "q_dot_p = np.dot(q,p)\n",
        "print(q_dot_p)\n",
        "print(\"As Dot product is commutative\")"
      ]
    },
    {
      "cell_type": "markdown",
      "metadata": {
        "id": "yTsfbPNLoBAw"
      },
      "source": [
        "7. p⋅q using the angle between p and q"
      ]
    },
    {
      "cell_type": "code",
      "execution_count": 9,
      "metadata": {
        "colab": {
          "base_uri": "https://localhost:8080/"
        },
        "id": "7h2P4FCknVni",
        "outputId": "f1d9ea4c-5a88-46a4-a43b-46dcf9c72194"
      },
      "outputs": [
        {
          "name": "stdout",
          "output_type": "stream",
          "text": [
            "17.0\n"
          ]
        }
      ],
      "source": [
        "#Solution:\n",
        "p_dot_q_usingAngle = magnitude_p*magnitude_q*np.cos(angle_between_pq)\n",
        "print(p_dot_q_usingAngle)"
      ]
    },
    {
      "cell_type": "markdown",
      "metadata": {
        "id": "cOi7UlTzgPtj"
      },
      "source": [
        "8. The scalar projection of q onto p"
      ]
    },
    {
      "cell_type": "code",
      "execution_count": 10,
      "metadata": {
        "colab": {
          "base_uri": "https://localhost:8080/"
        },
        "id": "8-YoKWm9oX1y",
        "outputId": "335111b8-0231-422a-b3f2-d63765106212"
      },
      "outputs": [
        {
          "data": {
            "text/plain": [
              "3.709704134011871"
            ]
          },
          "execution_count": 10,
          "metadata": {},
          "output_type": "execute_result"
        }
      ],
      "source": [
        "#Solution:\n",
        "scalar_proj_q_onto_p = np.dot(p,q)/magnitude_p\n",
        "scalar_proj_q_onto_p"
      ]
    },
    {
      "cell_type": "markdown",
      "metadata": {
        "id": "Z20iRGZ1gzzG"
      },
      "source": [
        "9. A vector that is perpendicular to p"
      ]
    },
    {
      "cell_type": "code",
      "execution_count": 11,
      "metadata": {
        "colab": {
          "base_uri": "https://localhost:8080/"
        },
        "id": "gNzN_z-zgS9X",
        "outputId": "ee26f175-b1b8-4ee7-db6d-77f4882ea3da"
      },
      "outputs": [
        {
          "data": {
            "text/plain": [
              "array([0, 4, 1])"
            ]
          },
          "execution_count": 11,
          "metadata": {},
          "output_type": "execute_result"
        }
      ],
      "source": [
        "#Solution:\n",
        "perpendicular_to_p = np.cross(p, np.array([1,0,0]))\n",
        "perpendicular_to_p"
      ]
    },
    {
      "cell_type": "markdown",
      "metadata": {
        "id": "NloS257ik_bZ"
      },
      "source": [
        "10. pxq and qxp"
      ]
    },
    {
      "cell_type": "code",
      "execution_count": 12,
      "metadata": {
        "colab": {
          "base_uri": "https://localhost:8080/"
        },
        "id": "rBw9cW3ak7_9",
        "outputId": "c3d40357-f946-4682-d22d-664326035f63"
      },
      "outputs": [
        {
          "name": "stdout",
          "output_type": "stream",
          "text": [
            "pxq is [-17 -10   6]\n",
            "qxp is [17 10 -6]\n"
          ]
        }
      ],
      "source": [
        "#Solution:\n",
        "pxq = np.cross(p,q)\n",
        "qxp = np.cross(q,p)\n",
        "\n",
        "print(f\"pxq is {pxq}\")\n",
        "print(f\"qxp is {qxp}\")"
      ]
    },
    {
      "cell_type": "markdown",
      "metadata": {
        "id": "qILFW2bSmQZW"
      },
      "source": [
        "\n",
        "11. A vector that is perpendicular to both p and q"
      ]
    },
    {
      "cell_type": "code",
      "execution_count": 13,
      "metadata": {
        "colab": {
          "base_uri": "https://localhost:8080/"
        },
        "id": "ItAc0Z0clP5_",
        "outputId": "592775c8-2caa-44b3-d764-523b2cf5a58b"
      },
      "outputs": [
        {
          "data": {
            "text/plain": [
              "array([-17, -10,   6])"
            ]
          },
          "execution_count": 13,
          "metadata": {},
          "output_type": "execute_result"
        }
      ],
      "source": [
        "#Solution:\n",
        "perpendicular_to_p_q = np.cross(p,q)\n",
        "perpendicular_to_p_q"
      ]
    },
    {
      "cell_type": "markdown",
      "metadata": {
        "id": "75AoJmMhmdlA"
      },
      "source": [
        "12. The linear dependency between p, q, and r"
      ]
    },
    {
      "cell_type": "code",
      "execution_count": 14,
      "metadata": {
        "colab": {
          "base_uri": "https://localhost:8080/"
        },
        "id": "zmJjs4z_mZL_",
        "outputId": "ebad2ce7-5ab5-4c5b-96f0-d97ca8ee3379"
      },
      "outputs": [
        {
          "name": "stdout",
          "output_type": "stream",
          "text": [
            "p, q, r are linearly independent\n"
          ]
        }
      ],
      "source": [
        "#Solution:\n",
        "matrix = np.column_stack((p,q,r))\n",
        "rank = np.linalg.matrix_rank(matrix)\n",
        "\n",
        "if rank < 3:\n",
        "  print(\"p, q, r are linearly dependent\")\n",
        "else:\n",
        "  print(\"p, q, r are linearly independent\")"
      ]
    },
    {
      "cell_type": "markdown",
      "metadata": {
        "id": "YdBMqt3IpH-X"
      },
      "source": [
        "13. p(transpose)q and pq(transpose)"
      ]
    },
    {
      "cell_type": "code",
      "execution_count": 15,
      "metadata": {
        "colab": {
          "base_uri": "https://localhost:8080/"
        },
        "id": "AjzyNGodoYz9",
        "outputId": "342624b8-6998-4de4-eae1-5bd1113e82fd"
      },
      "outputs": [
        {
          "name": "stdout",
          "output_type": "stream",
          "text": [
            "17\n",
            "17\n"
          ]
        }
      ],
      "source": [
        "#Solution:\n",
        "p_transpose_q = np.dot(p.T, q)\n",
        "print(p_transpose_q)\n",
        "\n",
        "p_q_transpose = np.dot(p, q.T)\n",
        "print(p_q_transpose)"
      ]
    },
    {
      "cell_type": "markdown",
      "metadata": {
        "id": "4XWl_5DysGo-"
      },
      "source": [
        "**Part B: Matrix Operations**"
      ]
    },
    {
      "cell_type": "code",
      "execution_count": 16,
      "metadata": {
        "id": "JXbo2EAUpan3"
      },
      "outputs": [],
      "source": [
        "x = np.array([[2,1,0],[-1,3,4],[3,2,-2]])\n",
        "y = np.array([[4,-1,2],[3,0,-3],[1,2,1]])\n",
        "z = np.array([[2,0,-1],[1,4,5],[3,1,2]])\n",
        "s = np.array([[-1],[4],[0]])"
      ]
    },
    {
      "cell_type": "markdown",
      "metadata": {
        "id": "lmr1jG7XtJho"
      },
      "source": [
        "**Find:**\n",
        "  1. X+2Y"
      ]
    },
    {
      "cell_type": "code",
      "execution_count": 17,
      "metadata": {
        "colab": {
          "base_uri": "https://localhost:8080/"
        },
        "id": "_QSnPyWBtG2J",
        "outputId": "f66e69af-1c80-414e-ccea-76b4340cc142"
      },
      "outputs": [
        {
          "data": {
            "text/plain": [
              "array([[10, -1,  4],\n",
              "       [ 5,  3, -2],\n",
              "       [ 5,  6,  0]])"
            ]
          },
          "execution_count": 17,
          "metadata": {},
          "output_type": "execute_result"
        }
      ],
      "source": [
        "#Solution:\n",
        "x_plus_2y = x + 2*y\n",
        "x_plus_2y"
      ]
    },
    {
      "cell_type": "markdown",
      "metadata": {
        "id": "kfgic3Attgp1"
      },
      "source": [
        "2. XY and YX"
      ]
    },
    {
      "cell_type": "code",
      "execution_count": 18,
      "metadata": {
        "colab": {
          "base_uri": "https://localhost:8080/"
        },
        "id": "VM5uNeVUtaBk",
        "outputId": "4c34a85c-fe15-4838-9d91-0fdb95ff3b0b"
      },
      "outputs": [
        {
          "name": "stdout",
          "output_type": "stream",
          "text": [
            "[[11 -2  1]\n",
            " [ 9  9 -7]\n",
            " [16 -7 -2]]\n",
            "[[15  5 -8]\n",
            " [-3 -3  6]\n",
            " [ 3  9  6]]\n"
          ]
        }
      ],
      "source": [
        "#Solution\n",
        "x_y = np.dot(x,y)\n",
        "y_x = np.dot(y,x)\n",
        "print(x_y)\n",
        "print(y_x)"
      ]
    },
    {
      "cell_type": "markdown",
      "metadata": {
        "id": "WAAzIfXVvUyq"
      },
      "source": [
        "3. (XY)^T and Y^T.X^t"
      ]
    },
    {
      "cell_type": "code",
      "execution_count": 19,
      "metadata": {
        "colab": {
          "base_uri": "https://localhost:8080/"
        },
        "id": "R7tK3o3ouYmm",
        "outputId": "893fbbd5-e727-4c48-98b5-ba995d78bf7a"
      },
      "outputs": [
        {
          "name": "stdout",
          "output_type": "stream",
          "text": [
            "[[11  9 16]\n",
            " [-2  9 -7]\n",
            " [ 1 -7 -2]]\n",
            "[[11  9 16]\n",
            " [-2  9 -7]\n",
            " [ 1 -7 -2]]\n"
          ]
        }
      ],
      "source": [
        "#Solution:\n",
        "xy_T = x_y.T\n",
        "print(xy_T)\n",
        "\n",
        "yT_xT = np.dot(y.T, x.T)\n",
        "print(yT_xT)"
      ]
    },
    {
      "cell_type": "markdown",
      "metadata": {
        "id": "_EQuJk-mMHe3"
      },
      "source": [
        "4. X|andZ|(see question A-12)"
      ]
    },
    {
      "cell_type": "code",
      "execution_count": 20,
      "metadata": {
        "colab": {
          "base_uri": "https://localhost:8080/"
        },
        "id": "21t97ldbvSkE",
        "outputId": "f1723e83-a052-44a6-bae0-4f712aff76cf"
      },
      "outputs": [
        {
          "name": "stdout",
          "output_type": "stream",
          "text": [
            "Linear dependency between columns of X and Z:\n",
            "   X columns are dependent on Z columns: True\n",
            "   Z columns are dependent on X columns: True\n"
          ]
        }
      ],
      "source": [
        "#Solution:\n",
        "def check_linear_dependency(A, B):\n",
        "    try:\n",
        "        for i in range(A.shape[1]):\n",
        "            solution, residuals, rank, s = np.linalg.lstsq(B, A[:, i], rcond=None)\n",
        "            if not np.allclose(np.dot(B, solution), A[:, i]):\n",
        "                return False\n",
        "        return True\n",
        "    except np.linalg.LinAlgError:\n",
        "        return False\n",
        "\n",
        "linear_dependency_XZ = check_linear_dependency(x, z)\n",
        "linear_dependency_ZX = check_linear_dependency(z, x)\n",
        "\n",
        "print(\"Linear dependency between columns of X and Z:\")\n",
        "print(f\"   X columns are dependent on Z columns: {linear_dependency_XZ}\")\n",
        "print(f\"   Z columns are dependent on X columns: {linear_dependency_ZX}\")"
      ]
    },
    {
      "cell_type": "markdown",
      "metadata": {
        "id": "-scv02lYOe4q"
      },
      "source": [
        "5 The matrix (either X, Y, or Z) in which the row vectors form an orthogonal set"
      ]
    },
    {
      "cell_type": "code",
      "execution_count": 26,
      "metadata": {
        "id": "LB-77caXNtgd"
      },
      "outputs": [],
      "source": [
        "#Solution:\n",
        "def is_orthogonal(matrix):\n",
        "    for i in range(matrix.shape[0]):\n",
        "        for j in range(i + 1, matrix.shape[0]):\n",
        "            if not np.isclose(np.dot(matrix[i], matrix[j]), 0):\n",
        "                return False\n",
        "    return True"
      ]
    },
    {
      "cell_type": "code",
      "execution_count": 27,
      "metadata": {
        "colab": {
          "base_uri": "https://localhost:8080/"
        },
        "id": "0FfVGTeyPVZ5",
        "outputId": "a1aad467-3ad8-4167-c4d7-55dfa494ad6a"
      },
      "outputs": [
        {
          "name": "stdout",
          "output_type": "stream",
          "text": [
            "5. Matrix with orthogonal row vectors: None\n"
          ]
        }
      ],
      "source": [
        "orthogonal_matrix = None\n",
        "if is_orthogonal(x):\n",
        "    orthogonal_matrix = \"x\"\n",
        "elif is_orthogonal(y):\n",
        "    orthogonal_matrix = \"y\"\n",
        "elif is_orthogonal(z):\n",
        "    orthogonal_matrix = \"z\"\n",
        "\n",
        "print(f\"5. Matrix with orthogonal row vectors: {orthogonal_matrix}\")"
      ]
    },
    {
      "cell_type": "markdown",
      "metadata": {
        "id": "fZHSk9p4S0Ck"
      },
      "source": [
        "6. X' and Y' (see question B-5)"
      ]
    },
    {
      "cell_type": "code",
      "execution_count": 32,
      "metadata": {
        "colab": {
          "base_uri": "https://localhost:8080/"
        },
        "id": "GAVFG6UIPpbg",
        "outputId": "1b4c71b8-e535-49cc-b038-8395673ee285"
      },
      "outputs": [
        {
          "name": "stdout",
          "output_type": "stream",
          "text": [
            "Inverse of x is [[ 0.77777778 -0.11111111 -0.22222222]\n",
            " [-0.55555556  0.22222222  0.44444444]\n",
            " [ 0.61111111  0.05555556 -0.38888889]]\n",
            "Inverse of y is [[ 0.14285714  0.11904762  0.07142857]\n",
            " [-0.14285714  0.04761905  0.42857143]\n",
            " [ 0.14285714 -0.21428571  0.07142857]]\n"
          ]
        }
      ],
      "source": [
        "#Solution:\n",
        "inv_x = np.linalg.inv(x)\n",
        "inv_y = np.linalg.inv(y)\n",
        "\n",
        "print(f\"Inverse of x is {inv_x}\")\n",
        "print(f\"Inverse of y is {inv_y}\")"
      ]
    },
    {
      "cell_type": "markdown",
      "metadata": {
        "id": "g7aGyNtWUA0s"
      },
      "source": [
        "7. inv(Z) (see question B-4)"
      ]
    },
    {
      "cell_type": "code",
      "execution_count": 33,
      "metadata": {
        "colab": {
          "base_uri": "https://localhost:8080/"
        },
        "id": "u6V2fKrRUCb3",
        "outputId": "1bb8054b-1a73-429e-86ce-9ebbee93408d"
      },
      "outputs": [
        {
          "data": {
            "text/plain": [
              "array([[ 0.17647059, -0.05882353,  0.23529412],\n",
              "       [ 0.76470588,  0.41176471, -0.64705882],\n",
              "       [-0.64705882, -0.11764706,  0.47058824]])"
            ]
          },
          "execution_count": 33,
          "metadata": {},
          "output_type": "execute_result"
        }
      ],
      "source": [
        "inv_z = np.linalg.inv(z)\n",
        "inv_z"
      ]
    },
    {
      "cell_type": "markdown",
      "metadata": {
        "id": "rOextph4UK29"
      },
      "source": [
        "8. The product Xs"
      ]
    },
    {
      "cell_type": "code",
      "execution_count": 34,
      "metadata": {
        "colab": {
          "base_uri": "https://localhost:8080/"
        },
        "id": "plZ6_AVfUH4A",
        "outputId": "313b2805-2be4-4f6a-b6a7-14c165d5f813"
      },
      "outputs": [
        {
          "data": {
            "text/plain": [
              "array([[ 2],\n",
              "       [13],\n",
              "       [ 5]])"
            ]
          },
          "execution_count": 34,
          "metadata": {},
          "output_type": "execute_result"
        }
      ],
      "source": [
        "x_s = np.dot(x,s)\n",
        "x_s"
      ]
    },
    {
      "cell_type": "markdown",
      "metadata": {
        "id": "ISJqM8PuUvl_"
      },
      "source": [
        "9. The scalar projection of the rows of X onto the vector s (with s normalized)"
      ]
    },
    {
      "cell_type": "code",
      "execution_count": 35,
      "metadata": {
        "colab": {
          "base_uri": "https://localhost:8080/"
        },
        "id": "QifCDAmpUQS-",
        "outputId": "adf05553-7cdc-46e0-ab7a-a249b90d333f"
      },
      "outputs": [
        {
          "data": {
            "text/plain": [
              "array([[0.48507125],\n",
              "       [3.15296313],\n",
              "       [1.21267813]])"
            ]
          },
          "execution_count": 35,
          "metadata": {},
          "output_type": "execute_result"
        }
      ],
      "source": [
        "#Solution:\n",
        "s_magnitude = np.linalg.norm(s)\n",
        "s_normalised = s/s_magnitude\n",
        "\n",
        "scalar_projections_x_onto_s_norm = np.dot(x, s_normalised)\n",
        "scalar_projections_x_onto_s_norm"
      ]
    },
    {
      "cell_type": "markdown",
      "metadata": {
        "id": "C1828RKsWoZ2"
      },
      "source": [
        "10. The vector projection of the rows of X onto the vector s (with s normalized)"
      ]
    },
    {
      "cell_type": "code",
      "execution_count": 36,
      "metadata": {
        "colab": {
          "base_uri": "https://localhost:8080/"
        },
        "id": "RRgSQHvWWCAm",
        "outputId": "22bd0c44-7b13-4dfa-c65f-72845d2d605e"
      },
      "outputs": [
        {
          "data": {
            "text/plain": [
              "array([[[-0.11764706,  0.47058824,  0.        ]],\n",
              "\n",
              "       [[-0.76470588,  3.05882353,  0.        ]],\n",
              "\n",
              "       [[-0.29411765,  1.17647059,  0.        ]]])"
            ]
          },
          "execution_count": 36,
          "metadata": {},
          "output_type": "execute_result"
        }
      ],
      "source": [
        "#Solution:\n",
        "vector_projection_x_onto_s_norm = scalar_projections_x_onto_s_norm[:, np.newaxis]* s_normalised.T\n",
        "vector_projection_x_onto_s_norm"
      ]
    },
    {
      "cell_type": "markdown",
      "metadata": {
        "id": "WNf6KmMnXpjS"
      },
      "source": [
        "11. The linear combination of the columns of X using the elements of s\n",
        "\n"
      ]
    },
    {
      "cell_type": "code",
      "execution_count": 37,
      "metadata": {
        "colab": {
          "base_uri": "https://localhost:8080/"
        },
        "id": "yybcxU3FW6x9",
        "outputId": "1f09d932-7549-494e-8e4e-6edaf411d975"
      },
      "outputs": [
        {
          "data": {
            "text/plain": [
              "array([[ 2],\n",
              "       [13],\n",
              "       [ 5]])"
            ]
          },
          "execution_count": 37,
          "metadata": {},
          "output_type": "execute_result"
        }
      ],
      "source": [
        "#Solution:\n",
        "linear_combination_x_s = np.dot(x,s)\n",
        "linear_combination_x_s"
      ]
    },
    {
      "cell_type": "markdown",
      "metadata": {
        "id": "yvujX99PX3nS"
      },
      "source": [
        "12. The solution t for the equation Yt = s"
      ]
    },
    {
      "cell_type": "code",
      "execution_count": 42,
      "metadata": {
        "colab": {
          "base_uri": "https://localhost:8080/"
        },
        "id": "nqogUUVvX0NK",
        "outputId": "9331673b-b0e0-4212-c666-85b300798cfe"
      },
      "outputs": [
        {
          "data": {
            "text/plain": [
              "array([[ 0.33333333],\n",
              "       [ 0.33333333],\n",
              "       [-1.        ]])"
            ]
          },
          "execution_count": 42,
          "metadata": {},
          "output_type": "execute_result"
        }
      ],
      "source": [
        "#Solution:\n",
        "# Step 1: Compute the transpose of Y\n",
        "Y_T = y.T\n",
        "\n",
        "# Step 2: Compute Y^T Y\n",
        "Y_T_Y = np.dot(Y_T, y)\n",
        "\n",
        "# Step 3: Compute the inverse of Y^T Y\n",
        "Y_T_Y_inv = np.linalg.inv(Y_T_Y)\n",
        "\n",
        "# Step 4: Compute Y^T s\n",
        "Y_T_s = np.dot(Y_T, s)\n",
        "\n",
        "# Step 5: Compute the solution t\n",
        "t = np.dot(Y_T_Y_inv, Y_T_s)\n",
        "\n",
        "t"
      ]
    },
    {
      "cell_type": "markdown",
      "metadata": {
        "id": "XMWKYwCvaXRs"
      },
      "source": [
        "13. The solution t for the equation Z t = s and the reason for it (see question B-7)"
      ]
    },
    {
      "cell_type": "code",
      "execution_count": 44,
      "metadata": {
        "colab": {
          "base_uri": "https://localhost:8080/"
        },
        "id": "Li4UvD2yYKX3",
        "outputId": "00c48402-b20f-4a64-d378-b42d17107ae8"
      },
      "outputs": [
        {
          "data": {
            "text/plain": [
              "array([[-0.41176471],\n",
              "       [ 0.88235294],\n",
              "       [ 0.17647059]])"
            ]
          },
          "execution_count": 44,
          "metadata": {},
          "output_type": "execute_result"
        }
      ],
      "source": [
        "#Solution:\n",
        "# Step 1: Compute the transpose of Z\n",
        "Z_T = z.T\n",
        "\n",
        "# Step 2: Compute Z^T Z\n",
        "Z_T_Z = np.dot(Z_T, z)\n",
        "\n",
        "# Step 3: Compute the inverse of Z^T Z\n",
        "Z_T_Z_inv = np.linalg.inv(Z_T_Z)\n",
        "\n",
        "# Step 4: Compute Z^T s\n",
        "Z_T_s = np.dot(Z_T, s)\n",
        "\n",
        "# Step 5: Compute the solution t\n",
        "t = np.dot(Z_T_Z_inv, Z_T_s)\n",
        "t"
      ]
    },
    {
      "cell_type": "markdown",
      "metadata": {
        "id": "N50Zc2TpbKGP"
      },
      "source": [
        "**Part C: Eigenvalues and Eigenvectors**"
      ]
    },
    {
      "cell_type": "code",
      "execution_count": 45,
      "metadata": {
        "id": "OyhJ057mavIs"
      },
      "outputs": [],
      "source": [
        "m = np.array([[3,2],[-1,4]])\n",
        "n = np.array([[5,-3],[-3,6]])\n",
        "p = np.array([[2,4],[4,8]])"
      ]
    },
    {
      "cell_type": "markdown",
      "metadata": {
        "id": "6SLPmakEcR-b"
      },
      "source": [
        "Find: <br>\n",
        "1. The eigenvalues and corresponding eigenvectors of M"
      ]
    },
    {
      "cell_type": "code",
      "execution_count": 46,
      "metadata": {
        "colab": {
          "base_uri": "https://localhost:8080/"
        },
        "id": "ocZqqjY5bgJg",
        "outputId": "716f7abe-5d63-446a-bee9-d24de2683ac6"
      },
      "outputs": [
        {
          "name": "stdout",
          "output_type": "stream",
          "text": [
            "eigen values of m are : [3.5+1.32287566j 3.5-1.32287566j]\n",
            "eigen vectors of m are : [[0.81649658+0.j         0.81649658-0.j        ]\n",
            " [0.20412415+0.54006172j 0.20412415-0.54006172j]]\n"
          ]
        }
      ],
      "source": [
        "#Solution:\n",
        "eigenvalues, eigenvectors = np.linalg.eig(m)\n",
        "\n",
        "print(f\"eigen values of m are : {eigenvalues}\")\n",
        "print(f\"eigen vectors of m are : {eigenvectors}\")"
      ]
    },
    {
      "cell_type": "markdown",
      "metadata": {
        "id": "CP4932r2cxFD"
      },
      "source": [
        "2. The dot product between the eigenvectors of M"
      ]
    },
    {
      "cell_type": "code",
      "execution_count": 47,
      "metadata": {
        "colab": {
          "base_uri": "https://localhost:8080/"
        },
        "id": "iX1jg8yicknh",
        "outputId": "7b95e0d6-185f-43f8-93c3-240cd9183b53"
      },
      "outputs": [
        {
          "data": {
            "text/plain": [
              "(1.0000000000000002+0j)"
            ]
          },
          "execution_count": 47,
          "metadata": {},
          "output_type": "execute_result"
        }
      ],
      "source": [
        "#Solution:\n",
        "dot_product_eigen_vector_m = np.dot(eigenvectors[:, 0], eigenvectors[:, 1])\n",
        "dot_product_eigen_vector_m"
      ]
    },
    {
      "cell_type": "markdown",
      "metadata": {
        "id": "ZGeZXDQVdXR7"
      },
      "source": [
        "3. The dot product between the eigenvectors of N"
      ]
    },
    {
      "cell_type": "code",
      "execution_count": 52,
      "metadata": {
        "colab": {
          "base_uri": "https://localhost:8080/"
        },
        "id": "3UAOF45vdKkM",
        "outputId": "f6e2d325-43a9-4556-d71d-c43440144be9"
      },
      "outputs": [
        {
          "name": "stdout",
          "output_type": "stream",
          "text": [
            "[[-0.76301998  0.6463749 ]\n",
            " [-0.6463749  -0.76301998]]\n"
          ]
        },
        {
          "data": {
            "text/plain": [
              "0.0"
            ]
          },
          "execution_count": 52,
          "metadata": {},
          "output_type": "execute_result"
        }
      ],
      "source": [
        "#Solution:\n",
        "eigenvalues_n, eigenvectors_n = np.linalg.eig(n)\n",
        "\n",
        "print(eigenvectors_n)\n",
        "\n",
        "dot_product_eigen_vector_n = np.dot(eigenvectors_n[:,0], eigenvectors_n[:,1])\n",
        "\n",
        "dot_product_eigen_vector_n"
      ]
    },
    {
      "cell_type": "markdown",
      "metadata": {
        "id": "xxf0-c53fizC"
      },
      "source": [
        "4. The property of the eigenvectors of N and the reason for it (see question C-4)"
      ]
    },
    {
      "cell_type": "code",
      "execution_count": 57,
      "metadata": {
        "colab": {
          "base_uri": "https://localhost:8080/"
        },
        "id": "7hEBxLtygNm5",
        "outputId": "eaac0930-78c7-4593-8a15-fbb77c9fb2ce"
      },
      "outputs": [
        {
          "name": "stdout",
          "output_type": "stream",
          "text": [
            "[[-0.76301998  0.6463749 ]\n",
            " [-0.6463749  -0.76301998]]\n",
            "dot product of eigen vectors of n is [[-0.76301998  0.6463749 ]\n",
            " [-0.6463749  -0.76301998]]\n",
            "Dot product of eigen values of n is close to 0 so the eigen vectors of n are orthogonal\n"
          ]
        }
      ],
      "source": [
        "#Solution:\n",
        "print(eigenvectors_n)\n",
        "\n",
        "print(f\"dot product of eigen vectors of n is {eigenvectors_n}\")\n",
        "\n",
        "print(\"Dot product of eigen values of n is close to 0 so the eigen vectors of n are orthogonal\")"
      ]
    },
    {
      "cell_type": "markdown",
      "metadata": {
        "id": "iNw_FEQxhjfS"
      },
      "source": [
        "5. The value of a trivial solution t to the equation Pt = 0"
      ]
    },
    {
      "cell_type": "code",
      "execution_count": 61,
      "metadata": {
        "colab": {
          "base_uri": "https://localhost:8080/"
        },
        "id": "FYhC7OJkgVJn",
        "outputId": "4ed3c2af-a2bb-4b78-eaaa-68376bbc0802"
      },
      "outputs": [
        {
          "name": "stdout",
          "output_type": "stream",
          "text": [
            "Trivial solution to Pt = 0: [0 0]\n"
          ]
        }
      ],
      "source": [
        "#Solution:\n",
        "t = np.array([0,0])\n",
        "\n",
        "print(f\"Trivial solution to Pt = 0: {t}\")"
      ]
    },
    {
      "cell_type": "markdown",
      "metadata": {
        "id": "kqWWePmuiX6c"
      },
      "source": [
        "6. The value of two non-trivial solutions t to the equation Pt =0"
      ]
    },
    {
      "cell_type": "code",
      "execution_count": 71,
      "metadata": {
        "colab": {
          "base_uri": "https://localhost:8080/"
        },
        "id": "Uy21TPwyhz0L",
        "outputId": "4aeb7995-204e-46aa-d5a4-92e2a7199fbb"
      },
      "outputs": [
        {
          "name": "stdout",
          "output_type": "stream",
          "text": [
            "Non-trivial solutions to Pt = 0 (before scaling):\n",
            "[[-0.89442719]\n",
            " [ 0.4472136 ]]\n",
            "Scaled non-trivial solutions to Pt = 0:\n",
            "[[-1.78885438]\n",
            " [ 0.89442719]]\n"
          ]
        }
      ],
      "source": [
        "from scipy.linalg import svd\n",
        "\n",
        "U, S, Vt = svd(p)\n",
        "\n",
        "\n",
        "non_zero_singular_values = S > 1e-10\n",
        "\n",
        "\n",
        "null_space_vectors = Vt.T[:, ~non_zero_singular_values]\n",
        "\n",
        "\n",
        "print(\"Non-trivial solutions to Pt = 0 (before scaling):\")\n",
        "print(null_space_vectors)\n",
        "\n",
        "\n",
        "scaling_factor = 2 / np.linalg.norm(null_space_vectors)\n",
        "scaled_solutions = null_space_vectors * scaling_factor\n",
        "\n",
        "print(\"Scaled non-trivial solutions to Pt = 0:\")\n",
        "print(scaled_solutions)"
      ]
    },
    {
      "cell_type": "markdown",
      "metadata": {
        "id": "YuAFO0gtknyJ"
      },
      "source": [
        "7. The only solution t to the equation M t = 0 and the reason for having a single solution"
      ]
    },
    {
      "cell_type": "code",
      "execution_count": 72,
      "metadata": {
        "colab": {
          "base_uri": "https://localhost:8080/"
        },
        "id": "D7OogL-AivMC",
        "outputId": "ebaeffba-4cee-4126-a79f-a8610a4cb77a"
      },
      "outputs": [
        {
          "name": "stdout",
          "output_type": "stream",
          "text": [
            "Solution to Mt = 0:\n",
            "[]\n"
          ]
        }
      ],
      "source": [
        "U, S, Vt = svd(m)\n",
        "\n",
        "# Find null space vectors corresponding to zero singular values\n",
        "null_space_vectors = Vt.T[:, np.isclose(S, 0)]\n",
        "\n",
        "print(\"Solution to Mt = 0:\")\n",
        "print(null_space_vectors)"
      ]
    },
    {
      "cell_type": "markdown",
      "metadata": {
        "id": "iGhC2DpjknAK"
      },
      "source": [
        "**Part D: Neural Networks Basics** <br>\n",
        ".1 Given a neuron with input values x, =05., x2= - 0.8, and x3=0.3, weights w,=0.4, w=, - 0.6, and w3=0.9, and a bias b=0.2, compute the output of the neuron before applying any activation function."
      ]
    },
    {
      "cell_type": "code",
      "execution_count": 73,
      "metadata": {
        "id": "wXl3bxHEbrjs"
      },
      "outputs": [],
      "source": [
        "x1, x2, x3 = 0.5, -0.8, 0.3\n",
        "w1, w2, w3 = 0.4, -0.6, 0.9\n",
        "b = 0.2\n"
      ]
    },
    {
      "cell_type": "code",
      "execution_count": 75,
      "metadata": {
        "colab": {
          "base_uri": "https://localhost:8080/"
        },
        "id": "Gz18WPyhb-DN",
        "outputId": "100a6c20-11d5-43d0-b25c-4447305cab32"
      },
      "outputs": [
        {
          "name": "stdout",
          "output_type": "stream",
          "text": [
            "output of the neuron before applying any activation function is : 1.15\n"
          ]
        }
      ],
      "source": [
        "#output of the neuron before applying any activation function.\n",
        "output = x1*w1 + x2*w2 + x3*w3 + b\n",
        "print(f\"output of the neuron before applying any activation function is : {output}\")"
      ]
    },
    {
      "cell_type": "markdown",
      "metadata": {
        "id": "91tO_NxVcbMN"
      },
      "source": [
        "2. Using the output computed ni the previous question, apply the sigmoid activation function to find the activation value."
      ]
    },
    {
      "cell_type": "code",
      "execution_count": 77,
      "metadata": {
        "colab": {
          "base_uri": "https://localhost:8080/"
        },
        "id": "3H3c0-BucO1K",
        "outputId": "0c36c037-f236-42f4-9566-e7ec04fbc794"
      },
      "outputs": [
        {
          "name": "stdout",
          "output_type": "stream",
          "text": [
            "activation value is : 0.759510916949111\n"
          ]
        }
      ],
      "source": [
        "sigmoid = 1 / (1 + math.exp(-output))\n",
        "\n",
        "print(f\"activation value is : {sigmoid}\")"
      ]
    },
    {
      "cell_type": "markdown",
      "metadata": {
        "id": "iZqUfSTUc7_w"
      },
      "source": [
        "3. Given the same input values and weights as ni question 1, compute the output of the neuron after applying a ReLU activation function."
      ]
    },
    {
      "cell_type": "code",
      "execution_count": 78,
      "metadata": {
        "colab": {
          "base_uri": "https://localhost:8080/"
        },
        "id": "Y4a_-Fvsc01M",
        "outputId": "1c2f99d0-e20f-4fb7-eb21-2d453458fe75"
      },
      "outputs": [
        {
          "name": "stdout",
          "output_type": "stream",
          "text": [
            "output (relu): 1.15\n"
          ]
        }
      ],
      "source": [
        "relu = max(0, output)\n",
        "\n",
        "print(f\"output (relu): {relu}\")"
      ]
    },
    {
      "cell_type": "markdown",
      "metadata": {
        "id": "JWTw0EWshZkE"
      },
      "source": [
        "4. Given a neural network layer with weights Wi bias bh, and input x, as follows: <br>\n",
        "compute the output of the layer using ReLU activation."
      ]
    },
    {
      "cell_type": "code",
      "execution_count": 80,
      "metadata": {
        "id": "Jb8Xl61xhI0A"
      },
      "outputs": [],
      "source": [
        "#Solution:\n",
        "w = np.array([[0.4, 0.3],[0.2, 0.7]])\n",
        "b = np.array([[0.1],[-0.1]])\n",
        "x = np.array([[1],[2]])"
      ]
    },
    {
      "cell_type": "code",
      "execution_count": 81,
      "metadata": {
        "colab": {
          "base_uri": "https://localhost:8080/"
        },
        "id": "U21FDEmziYtW",
        "outputId": "60c4e500-2b31-46c2-d63f-2bbf1348d086"
      },
      "outputs": [
        {
          "name": "stdout",
          "output_type": "stream",
          "text": [
            "output of layer using ReLU activation is : [[1.1]\n",
            " [1.5]]\n"
          ]
        }
      ],
      "source": [
        "z = np.dot(w,x) + b\n",
        "\n",
        "relu_output = np.maximum(0,z)\n",
        "\n",
        "print(f\"output of layer using ReLU activation is : {relu_output}\")"
      ]
    },
    {
      "cell_type": "markdown",
      "metadata": {
        "id": "RKAdwYINkdOg"
      },
      "source": [
        "5. Feed the output of the layer from the previous question into an output layer with weights W., bias bo, as folows:<br>\n",
        "w.=|0.5 - 0.3),b.=|0.1)<br>\n",
        "compute the output of the layer using sigmoid activation."
      ]
    },
    {
      "cell_type": "code",
      "execution_count": 85,
      "metadata": {
        "colab": {
          "base_uri": "https://localhost:8080/"
        },
        "id": "dbtEEB2cj0yb",
        "outputId": "69b13fc7-f661-4752-e822-1124d737691e"
      },
      "outputs": [
        {
          "name": "stdout",
          "output_type": "stream",
          "text": [
            "output of the layer using sigmoid activation: [0.549834]\n"
          ]
        }
      ],
      "source": [
        "#Solution:\n",
        "w_out = np.array([0.5, -0.3])\n",
        "b_out = np.array([0.1])\n",
        "z_output = np.dot(w_out, z) + b_out\n",
        "\n",
        "sigmoid_out = 1/(1 + np.exp(-z_output))\n",
        "\n",
        "print(f\"output of the layer using sigmoid activation: {sigmoid_out}\")"
      ]
    },
    {
      "cell_type": "markdown",
      "metadata": {
        "id": "TsRNEw0SnYpO"
      },
      "source": []
    },
    {
      "cell_type": "code",
      "execution_count": null,
      "metadata": {
        "id": "BQ9dWdi2lpYN"
      },
      "outputs": [],
      "source": []
    }
  ],
  "metadata": {
    "colab": {
      "provenance": [],
      "toc_visible": true
    },
    "kernelspec": {
      "display_name": "Python 3",
      "name": "python3"
    },
    "language_info": {
      "name": "python"
    }
  },
  "nbformat": 4,
  "nbformat_minor": 0
}
