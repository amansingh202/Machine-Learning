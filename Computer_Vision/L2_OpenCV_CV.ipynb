{
 "cells": [
  {
   "cell_type": "markdown",
   "id": "658ab0e5",
   "metadata": {},
   "source": [
    "# OpenCV Library¶\n",
    "Image processing and computer vision tasks include displaying, cropping, flipping, rotating, image segmentation, classification, image restoration, image recognition, image generation. Also, working with images via the cloud requires storing and transmitting, and gathering images through the internet. Python is an excellent choice as it has many image processing tools, computer vision, and artificial intelligence libraries. Finally, it has many libraries for working with files in the cloud and the internet. A digital image is simply a file on your computer. In this lab, you will gain an understanding of these files and learn to work with these files with some popular libraries"
   ]
  },
  {
   "cell_type": "code",
   "execution_count": null,
   "id": "62666510",
   "metadata": {},
   "outputs": [],
   "source": []
  }
 ],
 "metadata": {
  "kernelspec": {
   "display_name": "Python 3 (ipykernel)",
   "language": "python",
   "name": "python3"
  },
  "language_info": {
   "codemirror_mode": {
    "name": "ipython",
    "version": 3
   },
   "file_extension": ".py",
   "mimetype": "text/x-python",
   "name": "python",
   "nbconvert_exporter": "python",
   "pygments_lexer": "ipython3",
   "version": "3.11.5"
  }
 },
 "nbformat": 4,
 "nbformat_minor": 5
}
