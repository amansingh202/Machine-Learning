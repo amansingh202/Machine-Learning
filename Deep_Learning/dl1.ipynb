{
  "nbformat": 4,
  "nbformat_minor": 0,
  "metadata": {
    "colab": {
      "provenance": [],
      "authorship_tag": "ABX9TyO6xD21lxVERhIIyS1hs7RF",
      "include_colab_link": true
    },
    "kernelspec": {
      "name": "python3",
      "display_name": "Python 3"
    },
    "language_info": {
      "name": "python"
    }
  },
  "cells": [
    {
      "cell_type": "markdown",
      "metadata": {
        "id": "view-in-github",
        "colab_type": "text"
      },
      "source": [
        "<a href=\"https://colab.research.google.com/github/amansingh202/Machine-Learning/blob/main/Deep_Learning/dl1.ipynb\" target=\"_parent\"><img src=\"https://colab.research.google.com/assets/colab-badge.svg\" alt=\"Open In Colab\"/></a>"
      ]
    },
    {
      "cell_type": "code",
      "execution_count": 1,
      "metadata": {
        "id": "erBlhQm0a5uf"
      },
      "outputs": [],
      "source": [
        "import matplotlib.pyplot as plt\n",
        "import numpy as np"
      ]
    },
    {
      "cell_type": "code",
      "source": [
        "#number of samples\n",
        "N = 10000\n",
        "\n",
        "mu = np.pi\n",
        "sigma = 0.42\n",
        "x = sigma*np.random.randn(N) + mu\n",
        "\n",
        "_ = plt.hist(x, bins=100)\n",
        "\n",
        "plt.axvline(x = mu, color = 'red')\n",
        "plt.axvline(x = mu+sigma, color = 'red', linestyle = ':')\n",
        "plt.axvline(x = mu-sigma, color = 'red', linestyle = ':')\n",
        "\n",
        "plt.show()"
      ],
      "metadata": {
        "colab": {
          "base_uri": "https://localhost:8080/",
          "height": 430
        },
        "id": "UoTeQXwybPJT",
        "outputId": "928b0ea3-11ae-4430-cb99-ef209cb7c574"
      },
      "execution_count": 12,
      "outputs": [
        {
          "output_type": "display_data",
          "data": {
            "text/plain": [
              "<Figure size 640x480 with 1 Axes>"
            ],
            "image/png": "[encoded data removed]"
          },
          "metadata": {}
        }
      ]
    },
    {
      "cell_type": "code",
      "source": [
        "np.sum(((x-mu) < sigma)*((x-mu)>-sigma))/N"
      ],
      "metadata": {
        "colab": {
          "base_uri": "https://localhost:8080/"
        },
        "id": "utIjJLCjbRpw",
        "outputId": "347a35e7-dc2a-4d9d-f333-eba73d77b00c"
      },
      "execution_count": 13,
      "outputs": [
        {
          "output_type": "execute_result",
          "data": {
            "text/plain": [
              "0.677"
            ]
          },
          "metadata": {},
          "execution_count": 13
        }
      ]
    },
    {
      "cell_type": "code",
      "source": [],
      "metadata": {
        "id": "6YaD-WjjbinR"
      },
      "execution_count": null,
      "outputs": []
    }
  ]
}