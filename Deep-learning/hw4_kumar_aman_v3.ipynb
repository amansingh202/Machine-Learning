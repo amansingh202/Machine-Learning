{
  "cells": [
    {
      "cell_type": "markdown",
      "metadata": {
        "id": "view-in-github",
        "colab_type": "text"
      },
      "source": [
        "<a href=\"https://colab.research.google.com/github/amansingh202/Machine-Learning/blob/main/Deep-learning/hw4_kumar_aman_v3.ipynb\" target=\"_parent\"><img src=\"https://colab.research.google.com/assets/colab-badge.svg\" alt=\"Open In Colab\"/></a>"
      ]
    },
    {
      "cell_type": "code",
      "execution_count": 1,
      "id": "a83469fd-7716-4562-9edc-9a71d3fa1b99",
      "metadata": {
        "id": "a83469fd-7716-4562-9edc-9a71d3fa1b99"
      },
      "outputs": [],
      "source": [
        "import math\n",
        "import matplotlib.pyplot as plt\n",
        "\n",
        "class ag: # AutoGrad\n",
        "\n",
        "    def abs(input):\n",
        "        # FIX THIS FUNCTION\n",
        "        output = ag.Scalar(abs(input.value), inputs=[input], op=\"abs\")\n",
        "\n",
        "        def _backward():\n",
        "            if input.value > 0:\n",
        "                input.grad += output.grad\n",
        "            elif input.value < 0:\n",
        "                input.grad -= output.grad\n",
        "            else:\n",
        "                input.grad += 0  # The gradient is zero at x = 0\n",
        "            return None\n",
        "\n",
        "        output._backward = _backward\n",
        "        return output\n",
        "\n",
        "\n",
        "    def log(input):\n",
        "        output = ag.Scalar(math.log(input.value), inputs=[input], op=\"log\")\n",
        "\n",
        "        def _backward():\n",
        "            input.grad += output.grad / input.value\n",
        "            return None\n",
        "\n",
        "        output._backward = _backward\n",
        "        return output\n",
        "\n",
        "    def exp(input):\n",
        "\n",
        "        output = ag.Scalar(math.exp(input.value), inputs=[input], op=\"exp\")\n",
        "\n",
        "        def _backward():\n",
        "            input.grad += output.grad * output.value\n",
        "            return None\n",
        "\n",
        "        output._backward = _backward\n",
        "        return output\n",
        "\n",
        "    def relu(input):\n",
        "        output = ag.Scalar(max(0, input.value), inputs=[input], op=\"relu\")\n",
        "\n",
        "        def _backward():\n",
        "            if input.value > 0:\n",
        "                input.grad += output.grad\n",
        "            return None\n",
        "\n",
        "        output._backward = _backward\n",
        "        return output\n",
        "\n",
        "    class Scalar: # Scalars with grads\n",
        "        def __init__(self,\n",
        "                     value,\n",
        "                     op=\"\",\n",
        "                     _backward= lambda : None,\n",
        "                     inputs=[],\n",
        "                     label=\"\"):\n",
        "\n",
        "            self.value = float(value)\n",
        "            self.grad = 0.0\n",
        "\n",
        "            self._backward = _backward\n",
        "            self.inputs = inputs\n",
        "\n",
        "            self.op = op\n",
        "            self.label = label\n",
        "\n",
        "\n",
        "\n",
        "        def backward(self):\n",
        "            self.grad = 1.0\n",
        "\n",
        "            topo_order = self.topological_sort()\n",
        "\n",
        "            for node in reversed(topo_order):\n",
        "                node._backward()\n",
        "\n",
        "        def topological_sort(self):\n",
        "            topo_order = []\n",
        "            visited = set()\n",
        "\n",
        "            def dfs(node):\n",
        "                if node not in visited:\n",
        "                    visited.add(node)\n",
        "                    for input in node.inputs:\n",
        "                        dfs(input)\n",
        "                    topo_order.append(node)\n",
        "\n",
        "            dfs(self)\n",
        "            return topo_order\n",
        "\n",
        "\n",
        "        def __add__(self, other):\n",
        "            if not isinstance(other, ag.Scalar):\n",
        "                other = ag.Scalar(other, label=f\"{other}\\nconst\")\n",
        "\n",
        "            output = ag.Scalar(self.value + other.value,\n",
        "                               inputs=[self, other], op=\"add\")\n",
        "\n",
        "            def _backward():\n",
        "                # pass\n",
        "                self.grad += output.grad\n",
        "                other.grad += output.grad\n",
        "\n",
        "            output._backward = _backward\n",
        "            return output\n",
        "\n",
        "\n",
        "        def __mul__(self, other):\n",
        "            if not isinstance(other, ag.Scalar):\n",
        "                other = ag.Scalar(other, label=f\"{other}\\nconst\")\n",
        "\n",
        "            output = ag.Scalar(self.value * other.value,\n",
        "                               inputs=[self, other], op=\"mul\")\n",
        "\n",
        "            def _backward():\n",
        "\n",
        "                self.grad += other.value * output.grad\n",
        "                other.grad += self.value * output.grad\n",
        "\n",
        "                return None\n",
        "\n",
        "            output._backward = _backward\n",
        "\n",
        "            return output\n",
        "        def __truediv__(self,other):\n",
        "            return self*(other**(-1))\n",
        "\n",
        "        def __neg__(self):\n",
        "            output = ag.Scalar(-self.value, inputs=[self], op=\"neg\")\n",
        "            def _backward():\n",
        "                self.grad -= output.grad\n",
        "                return None\n",
        "            output._backward = _backward\n",
        "            return output\n",
        "        def __sub__(self,other):\n",
        "            return self + -other\n",
        "\n",
        "        def __pow__(self, exponent): # exponent is just a python float\n",
        "            output = ag.Scalar(self.value ** exponent, inputs=[self], op=f\"pow({exponent})\")\n",
        "\n",
        "            def _backward():\n",
        "\n",
        "                self.grad += (exponent * self.value**(exponent-1)) * output.grad\n",
        "                return None\n",
        "\n",
        "            output._backward = _backward\n",
        "            return output\n",
        "\n",
        "        def __repr__(self) -> str:\n",
        "            if self.op == \"\":\n",
        "                return self.label\n",
        "            else:\n",
        "                return self.label + \"\\n\" + self.op\n"
      ]
    },
    {
      "cell_type": "markdown",
      "source": [
        "# Justification\n",
        "\n",
        "<b>Forward Pass </b>: An ag.Scalar object is constructed to store the result once the absolute value is computed using Python's abs() function.\n",
        "\n",
        "<b>Backward Pass </b>: The gradient is modified using the input value in the _backward() function; if the input is positive, the gradient stays the same (input.grad += output.grad). The gradient is inverted (input.grad -= output.grad) if the input is negative. The gradient is set to zero (input.grad += 0) if the input is zero. Now that the abs function has been fully built into your framework for automatic differentiation, it operates in a manner akin to the other functions you have used, such log, exp, etc."
      ],
      "metadata": {
        "id": "8-d9D-vfzdjb"
      },
      "id": "8-d9D-vfzdjb"
    },
    {
      "cell_type": "markdown",
      "id": "5377fedf-7941-4959-9239-7bba11103ba1",
      "metadata": {
        "id": "5377fedf-7941-4959-9239-7bba11103ba1"
      },
      "source": [
        "# Visualization code not needed"
      ]
    },
    {
      "cell_type": "code",
      "execution_count": 2,
      "id": "d3ecf0d3-18b1-4749-8584-72ef21a5b609",
      "metadata": {
        "id": "d3ecf0d3-18b1-4749-8584-72ef21a5b609"
      },
      "outputs": [],
      "source": [
        "import networkx as nx\n",
        "import matplotlib.pyplot as plt\n",
        "from matplotlib.patches import FancyArrowPatch\n",
        "\n",
        "def build_computation_graph(final_scalar):\n",
        "    graph = nx.DiGraph()\n",
        "\n",
        "    # DFS\n",
        "    topo_order = final_scalar.topological_sort()\n",
        "\n",
        "    # Count how many leaves\n",
        "    # By convention, we hand-label our inputs\n",
        "    # constants are labeled automatically\n",
        "    labeled_nodes = [node for node in topo_order if node.label != \"\" and 'const' not in node.label]\n",
        "    index = len(labeled_nodes) + 1\n",
        "\n",
        "    for node in topo_order:\n",
        "        if not node.label:  # If a node has no label, assign one\n",
        "            node.label = f\"z{index}\"\n",
        "            index += 1\n",
        "\n",
        "        graph.add_node(node)\n",
        "        if len(node.inputs) > 1:\n",
        "            for idx, input_node in enumerate(node.inputs):\n",
        "                graph.add_edge(input_node, node)\n",
        "        elif len(node.inputs) == 1:\n",
        "            graph.add_edge(node.inputs[0], node)\n",
        "\n",
        "    return graph\n",
        "\n",
        "def plot_computation_graph(graph, rad=0.2,node_size=2000):\n",
        "    node_labels = {node: node.label + \"\\n\" + node.op if node.op != \"\" else node.label for node in graph.nodes}\n",
        "\n",
        "    # Assign layers to nodes for multipartite layout\n",
        "    for layer, nodes in enumerate(nx.topological_generations(graph)):\n",
        "        for node in nodes:\n",
        "            graph.nodes[node][\"layer\"] = layer\n",
        "\n",
        "    pos = nx.multipartite_layout(graph, subset_key=\"layer\")\n",
        "\n",
        "    node_colors = []\n",
        "    node_edge_colors = []\n",
        "\n",
        "    for node in graph.nodes:\n",
        "        if \"leaf\" in node.label:\n",
        "            node_colors.append('none')  # Input nodes: no fill\n",
        "            node_edge_colors.append('black')\n",
        "        elif \"const\" in node.label:\n",
        "            node_colors.append('none')\n",
        "            node_edge_colors.append('lightgray')\n",
        "        else:\n",
        "            node_colors.append('lightblue')\n",
        "            node_edge_colors.append('none')\n",
        "\n",
        "    curved_edges = []\n",
        "    straight_edges = []\n",
        "\n",
        "    for node in graph.nodes:\n",
        "        incoming_edges = list(graph.in_edges(node))\n",
        "        if len(incoming_edges) > 1:\n",
        "            curved_edges.extend(incoming_edges)\n",
        "        else:\n",
        "            straight_edges.extend(incoming_edges)\n",
        "\n",
        "    # Draw straight edges\n",
        "    nx.draw(graph, pos, with_labels=False, edgelist=straight_edges,\n",
        "            node_color=node_colors, edgecolors=node_edge_colors, node_size=node_size,\n",
        "            font_size=10, font_weight='bold', arrows=True)\n",
        "\n",
        "    # Draw curved edges with a specified curvature\n",
        "    nx.draw(graph, pos, with_labels=False, edgelist=curved_edges,\n",
        "            connectionstyle=f'arc3, rad={rad}', node_color=node_colors,\n",
        "            edgecolors=node_edge_colors, node_size=node_size, font_size=10,\n",
        "            font_weight='bold', arrows=True)\n",
        "\n",
        "    nx.draw_networkx_labels(graph, pos=pos, labels=node_labels)\n"
      ]
    },
    {
      "cell_type": "markdown",
      "id": "5fae351d-51dd-455e-b23a-bf7c659b16e3",
      "metadata": {
        "id": "5fae351d-51dd-455e-b23a-bf7c659b16e3"
      },
      "source": [
        "# Demo of the visulization code"
      ]
    },
    {
      "cell_type": "code",
      "execution_count": 3,
      "id": "de694abe-b561-4b7c-97c4-4fa84d8eea90",
      "metadata": {
        "id": "de694abe-b561-4b7c-97c4-4fa84d8eea90",
        "colab": {
          "base_uri": "https://localhost:8080/",
          "height": 516
        },
        "outputId": "bcb49f04-86eb-43a2-881b-a3fa74963661"
      },
      "outputs": [
        {
          "output_type": "display_data",
          "data": {
            "text/plain": [
              "<Figure size 640x480 with 1 Axes>"
            ],
            "image/png": "[encoded data removed]"
          },
          "metadata": {}
        }
      ],
      "source": [
        "\n",
        "\n",
        "x = ag.Scalar(2.0, label=\"z1\\nleaf(x)\")  # z1\n",
        "y = ag.Scalar(3.0, label=\"z2\\nleaf(y)\")  # z2\n",
        "\n",
        "z1 = x\n",
        "z2 = y\n",
        "\n",
        "z3 = x+y\n",
        "\n",
        "final_output = z3*ag.log(ag.exp(-(z3))+1)\n",
        "\n",
        "\n",
        "\n",
        "computation_graph = build_computation_graph(final_output)\n",
        "plot_computation_graph(computation_graph,0.2)"
      ]
    },
    {
      "cell_type": "code",
      "execution_count": 4,
      "id": "57bbe644-cbb5-4069-8dd8-bfb789bc0102",
      "metadata": {
        "id": "57bbe644-cbb5-4069-8dd8-bfb789bc0102",
        "colab": {
          "base_uri": "https://localhost:8080/"
        },
        "outputId": "6e724ed1-bbaa-49ec-a38d-18edff629182"
      },
      "outputs": [
        {
          "output_type": "execute_result",
          "data": {
            "text/plain": [
              "['z1:leaf(x)',\n",
              " 'z2:leaf(y)',\n",
              " 'z3:add',\n",
              " 'z4:neg',\n",
              " 'z5:exp',\n",
              " '1:const',\n",
              " 'z6:add',\n",
              " 'z7:log',\n",
              " 'z8:mul']"
            ]
          },
          "metadata": {},
          "execution_count": 4
        }
      ],
      "source": [
        "dfs_node_ordering = final_output.topological_sort()\n",
        "[dfs_node_ordering[i].__repr__().replace(\"\\n\",\":\") for i in range(len(dfs_node_ordering))]"
      ]
    },
    {
      "cell_type": "markdown",
      "id": "c5aa4135-1f2c-433d-99fd-0d4cc8e8d2e7",
      "metadata": {
        "id": "c5aa4135-1f2c-433d-99fd-0d4cc8e8d2e7"
      },
      "source": [
        "# Problem 3 Gradient descent [10pts]\n",
        "\n",
        "\n",
        "\n",
        "\n",
        "Consider the following extremely simple model: The model $f ( x ; \\theta )$ has only a single real-valued parameter $\\theta = b$ where $b \\in \\mathbb{R}$.\n",
        "Regardless of the input,\n",
        "the model always outputs $b$, i.e., $f(x ; \\theta) = b$ for all $x$.\n",
        "Suppose that we have $N=5$ samples. Moreover, the labels are\n",
        "$$\n",
        "y^{(1)} = 3, \\quad y^{(2)} = 6 \\quad y^{(3)} = 8.5 \\quad y^{(4)} =11 \\quad y^{(5)} = 16\n",
        "$$\n",
        "Using ag.Scalar, compute 10 iterations of (full batch) gradient descent on the empirical risk/loss function\n",
        "$$\n",
        "  \\textstyle\n",
        "  J(b) =\n",
        "\\frac{1}{N}\\sum_{i=1}^{N}  | y^{(i)} - b|.\n",
        "$$\n",
        "Use $b = 0$ as initialization and $\\eta = 5$ as the step size.\n",
        "\n",
        "\n",
        "The loss derivative is\n",
        "$$\n",
        "  \\frac{\\partial}{\\partial b}\n",
        "| y - b|\n",
        "=\n",
        "\\begin{cases}\n",
        "  -1 &: \\mbox{ if $b \\le y$ } \\\\\n",
        "  1 &: \\mbox{ if $b > y$ }. \\\\\n",
        "\\end{cases}\n",
        "$$\n",
        "Note: the step size $\\eta = 5$ is rather large and is not typical in actual usage.\n",
        "\n",
        "\n",
        "## Your tasks\n",
        "- implement the absolute value function in the `ag` class on line 7 in the first code block. Currently, it doesn't do anything.\n",
        "- complete the following training loop"
      ]
    },
    {
      "cell_type": "code",
      "execution_count": 5,
      "id": "68a1cd60-3e01-4185-bc70-98651afb0d41",
      "metadata": {
        "id": "68a1cd60-3e01-4185-bc70-98651afb0d41",
        "colab": {
          "base_uri": "https://localhost:8080/"
        },
        "outputId": "8fa1c712-3958-425e-91cd-33d4e7fc06b9"
      },
      "outputs": [
        {
          "output_type": "execute_result",
          "data": {
            "text/plain": [
              "[0]"
            ]
          },
          "metadata": {},
          "execution_count": 5
        }
      ],
      "source": [
        "yvals = [3, 6, 8.5, 11, 16]\n",
        "bval = 0\n",
        "bvals = [bval]\n",
        "eta = 5\n",
        "y = [ag.Scalar(v) for v in yvals]\n",
        "b = ag.Scalar(bval)\n",
        "\n",
        "# ONLY MODIFY THE INTERIOR OF THE FOR LOOP\n",
        "for t in range(10):\n",
        "    pass\n",
        "\n",
        "# ONLY MODIFY THE INTERIOR OF THE FOR LOOP\n",
        "\n",
        "bvals\n"
      ]
    },
    {
      "cell_type": "code",
      "source": [
        "yvals = [3, 6, 8.5, 11, 16]  # Target values\n",
        "bval = 0  # Initial value for b\n",
        "bvals = [bval]  # List to store values of b\n",
        "eta = 5  # Step size\n",
        "\n",
        "# Convert target values to ag.Scalar\n",
        "y = [ag.Scalar(v) for v in yvals]\n",
        "b = ag.Scalar(bval)  # Initialize b as ag.Scalar\n",
        "\n",
        "# Gradient descent for 10 iterations\n",
        "for t in range(10):\n",
        "    # Compute the total loss using the absolute value function\n",
        "    losses = [ag.abs(ag.Scalar(y_i.value - b.value)) for y_i in y]\n",
        "    loss = ag.Scalar(0)\n",
        "    for l in losses:\n",
        "        loss.value += l.value\n",
        "    loss.value /= len(y)  # Average loss\n",
        "\n",
        "    # Compute the gradient\n",
        "    b.grad = 0\n",
        "    for y_i in y:\n",
        "        b.grad += -1 if y_i.value > b.value else 1\n",
        "    b.grad /= len(y)\n",
        "\n",
        "    # Update the parameter b using gradient descent\n",
        "    b.value -= eta * b.grad\n",
        "\n",
        "    # Store the updated value of b\n",
        "    bvals.append(b.value)\n",
        "\n",
        "# Output the list of b values\n",
        "print(bvals)"
      ],
      "metadata": {
        "colab": {
          "base_uri": "https://localhost:8080/"
        },
        "id": "vz8mlny30MFv",
        "outputId": "4fc55263-a7f0-411c-b464-524da44fdd68"
      },
      "id": "vz8mlny30MFv",
      "execution_count": 6,
      "outputs": [
        {
          "output_type": "stream",
          "name": "stdout",
          "text": [
            "[0, 5.0, 8.0, 9.0, 8.0, 9.0, 8.0, 9.0, 8.0, 9.0, 8.0]\n"
          ]
        }
      ]
    },
    {
      "cell_type": "markdown",
      "id": "cf753e97-0015-4790-992d-ff45670323ff",
      "metadata": {
        "id": "cf753e97-0015-4790-992d-ff45670323ff"
      },
      "source": [
        "# Expected output\n"
      ]
    },
    {
      "cell_type": "code",
      "execution_count": 7,
      "id": "7ed317e5-9731-4589-8a4e-a4b133e84981",
      "metadata": {
        "id": "7ed317e5-9731-4589-8a4e-a4b133e84981"
      },
      "outputs": [],
      "source": [
        "# bvals\n",
        "# [0, 5.0, 8.0, 9.0, 8.0, 9.0, 8.0, 9.0, 8.0, 9.0, 8.0]"
      ]
    },
    {
      "cell_type": "markdown",
      "id": "7e5a4eeb-975c-4dd7-bc30-91f0ffba6b85",
      "metadata": {
        "id": "7e5a4eeb-975c-4dd7-bc30-91f0ffba6b85"
      },
      "source": [
        "# Problem 4 Transformer [bonus 20pts]\n",
        "\n",
        "\n",
        "Calculate using `ag.Scalar` the following: `dJdw3` `dJdW2` and `dJdW1` from homework 3. Use the configuration/data below.\n",
        "\n",
        "`X_raw` corresponds to `X` from homework 3.\n",
        "\n",
        "`y_raw` corresponds to `y` from homework 3.\n",
        "\n",
        "And so on.\n",
        "\n",
        "Do not change the following block."
      ]
    },
    {
      "cell_type": "code",
      "execution_count": 8,
      "id": "16107d04-e1d0-451a-8336-ea34525b8fe2",
      "metadata": {
        "id": "16107d04-e1d0-451a-8336-ea34525b8fe2"
      },
      "outputs": [],
      "source": [
        "n_context = 4\n",
        "n_features = 3\n",
        "n_samples = 5\n",
        "n_reduced = 2\n",
        "\n",
        "X_raw = [[[-0.707, -0.707, 1.0],\n",
        "          [0.963, -0.268, 1.0],\n",
        "          [0.391, 0.92, -1.0],\n",
        "          [0.899, 0.437, -1.0]],\n",
        "         [[0.327, -0.945, 1.0],\n",
        "          [0.3, -0.954, -1.0],\n",
        "          [-0.485, -0.874, -1.0],\n",
        "          [-0.694, 0.72, 1.0]],\n",
        "         [[-0.309, 0.951, -1.0],\n",
        "          [-0.951, 0.31, 1.0],\n",
        "          [-0.9, -0.437, 1.0],\n",
        "          [-0.013, -1.0, -1.0]],\n",
        "         [[0.829, -0.559, -1.0],\n",
        "          [-0.856, 0.518, 1.0],\n",
        "          [-0.2, -0.98, -1.0],\n",
        "          [-0.842, -0.539, 1.0]],\n",
        "         [[-0.938, -0.346, 1.0],\n",
        "          [-0.742, 0.67, -1.0],\n",
        "          [0.742, 0.67, -1.0],\n",
        "          [0.322, 0.947, -1.0]]]\n",
        "y_raw = [-1.0, -1.0, 1.0, 1.0, -1.0]\n",
        "\n",
        "W1_raw = [[0.74, 0.529], [-0.589, 0.189], [-0.759, -0.933]] # n_features by n_reduced\n",
        "W2_raw = [[0.504, 0.651], [-0.319, -0.848], [0.606, -2.018]] # n_features by n_reduced\n",
        "w3_raw = [2.707, 0.628, 0.908] # n_features"
      ]
    },
    {
      "cell_type": "markdown",
      "id": "2f1c699d-fd40-49b9-893a-6390366dd89b",
      "metadata": {
        "id": "2f1c699d-fd40-49b9-893a-6390366dd89b"
      },
      "source": [
        "## Expected output"
      ]
    },
    {
      "cell_type": "code",
      "execution_count": 9,
      "id": "99b2edd8-d6de-45bf-aae4-aee9a9a1ac4e",
      "metadata": {
        "id": "99b2edd8-d6de-45bf-aae4-aee9a9a1ac4e"
      },
      "outputs": [],
      "source": [
        "# output of forward\n",
        "# [ 1.6528977 , -0.50304305, -1.54629904, -1.18000691,  0.74528666]\n",
        "\n",
        "# dJdw3\n",
        "# [ 0.29006619,  0.31213455, -0.22591685]\n",
        "\n",
        "# dJdW2\n",
        "# [[ 0.05486582,  0.13401244],\n",
        "#  [-0.01348159, -0.00905539],\n",
        "#  [ 0.01421121,  0.01478831]]\n",
        "\n",
        "\n",
        "# dJdW1\n",
        "# [[ 0.02673784,  0.01136829],\n",
        "#  [ 0.04348804,  0.05114747],\n",
        "#  [-0.06112444, -0.05294486]]"
      ]
    },
    {
      "cell_type": "markdown",
      "id": "68d2a95f-62ce-4f15-a981-eea37a48db14",
      "metadata": {
        "id": "68d2a95f-62ce-4f15-a981-eea37a48db14"
      },
      "source": [
        "## Your code"
      ]
    },
    {
      "cell_type": "code",
      "source": [
        "def scalar_sum(scalars):\n",
        "    return ag.Scalar(sum(s.value for s in scalars))"
      ],
      "metadata": {
        "id": "KeGdG6m8O3vl"
      },
      "id": "KeGdG6m8O3vl",
      "execution_count": 10,
      "outputs": []
    },
    {
      "cell_type": "code",
      "source": [
        "def compute_dJdW1(X, y, theta):\n",
        "    W1, W2, w3 = theta['W1'], theta['W2'], theta['w3']\n",
        "    n_samples = len(X)\n",
        "    n_timesteps = len(X[0])\n",
        "    n_features = len(X[0][0])\n",
        "    n_reduced = len(W1[0])\n",
        "\n",
        "    # Compute query and Key for all samples\n",
        "    query = [[scalar_sum(X[i][-1][j] * W1[j][k] for j in range(n_features)) for k in range(n_reduced)] for i in range(n_samples)]\n",
        "    Key = [[[scalar_sum(X[i][t][j] * W2[j][k] for j in range(n_features)) for k in range(n_reduced)] for t in range(n_timesteps)] for i in range(n_samples)]\n",
        "\n",
        "    # Compute attention\n",
        "    attention = [[scalar_sum(Key[i][t][k] * query[i][k] for k in range(n_reduced)) for t in range(n_timesteps)] for i in range(n_samples)]\n",
        "\n",
        "    # Compute exp_key_query\n",
        "    exp_key_query = [[ag.Scalar(np.exp(attention[i][t].value)) for t in range(n_timesteps)] for i in range(n_samples)]\n",
        "\n",
        "    # Compute softmax\n",
        "    softmaxKq = [[exp_key_query[i][t] * (ag.Scalar(1) / scalar_sum(exp_key_query[i])) for t in range(n_timesteps)] for i in range(n_samples)]\n",
        "\n",
        "    # Compute z\n",
        "    z = [scalar_sum(scalar_sum(softmaxKq[i][t] * X[i][t][j] for t in range(n_timesteps)) * w3[j] for j in range(n_features)) for i in range(n_samples)]\n",
        "\n",
        "    # Compute loss derivative\n",
        "    loss_derivative = [y[i] * (ag.Scalar(-np.exp(-y[i].value * z[i].value)) / (ag.Scalar(1) + ag.Scalar(np.exp(-y[i].value * z[i].value)))) for i in range(n_samples)]\n",
        "\n",
        "    # Compute derivative of softmax output\n",
        "    softmaxDer = [[[softmaxKq[i][t1] * (ag.Scalar(1) if t1 == t2 else ag.Scalar(0)) - softmaxKq[i][t1] * softmaxKq[i][t2] for t2 in range(n_timesteps)] for t1 in range(n_timesteps)] for i in range(n_samples)]\n",
        "\n",
        "    # Compute intermediate results\n",
        "    X_w3 = [[scalar_sum(X[i][t][j] * w3[j] for j in range(n_features)) for t in range(n_timesteps)] for i in range(n_samples)]\n",
        "\n",
        "    # Modified ir1 computation\n",
        "    ir1 = [[scalar_sum(scalar_sum(Key[i][t1][k] * softmaxDer[i][t1][t2] for t1 in range(n_timesteps)) * X_w3[i][t2] for t2 in range(n_timesteps)) for k in range(n_reduced)] for i in range(n_samples)]\n",
        "\n",
        "    ir2 = [X[i][-1] for i in range(n_samples)]\n",
        "\n",
        "    # Compute the final result\n",
        "    result = [[scalar_sum(ir2[i][j] * ir1[i][k] * loss_derivative[i] for i in range(n_samples)) for k in range(n_reduced)] for j in range(n_features)]\n",
        "\n",
        "    # Normalize the results\n",
        "    dJdW1 = [[result[j][k] * (ag.Scalar(1) / ag.Scalar(n_samples)) for k in range(n_reduced)] for j in range(n_features)]\n",
        "\n",
        "    print(\"\\nFinal dJdW1 result:\")\n",
        "    for row in dJdW1:\n",
        "        print([scalar.value for scalar in row])\n",
        "\n",
        "    return dJdW1"
      ],
      "metadata": {
        "id": "a2I2emmp5qAp"
      },
      "id": "a2I2emmp5qAp",
      "execution_count": 11,
      "outputs": []
    },
    {
      "cell_type": "code",
      "source": [
        "import numpy as np\n",
        "# Convert raw data to ag.Scalar objects\n",
        "X = [[[ag.Scalar(val) for val in timestep] for timestep in sample] for sample in X_raw]\n",
        "y = [ag.Scalar(val) for val in y_raw]\n",
        "W1 = [[ag.Scalar(val) for val in row] for row in W1_raw]\n",
        "W2 = [[ag.Scalar(val) for val in row] for row in W2_raw]\n",
        "w3 = [ag.Scalar(val) for val in w3_raw]\n",
        "\n",
        "theta = {'W1': W1, 'W2': W2, 'w3': w3}\n",
        "\n",
        "# Call the function\n",
        "result = compute_dJdW1(X, y, theta)"
      ],
      "metadata": {
        "id": "-OLdgHQ_5ruD",
        "colab": {
          "base_uri": "https://localhost:8080/"
        },
        "outputId": "06c6e0d4-326f-4033-aa54-b044b1cb4666"
      },
      "id": "-OLdgHQ_5ruD",
      "execution_count": 12,
      "outputs": [
        {
          "output_type": "stream",
          "name": "stdout",
          "text": [
            "\n",
            "Final dJdW1 result:\n",
            "[0.026737842820472923, 0.0113682946765902]\n",
            "[0.043488040049078316, 0.05114747020150523]\n",
            "[-0.06112443715812871, -0.05294485874898052]\n"
          ]
        }
      ]
    },
    {
      "cell_type": "code",
      "source": [
        "import numpy as np\n",
        "import autograd.numpy as agnp\n",
        "from autograd import grad\n",
        "\n",
        "\n",
        "def compute_dJdW3_ag_scalar(X, y, W1, W2, w3):\n",
        "    query = agnp.dot(X[:, -1, :], W1)\n",
        "    Key = agnp.dot(X, W2)\n",
        "\n",
        "    dot_product = agnp.sum(Key * query[:, agnp.newaxis, :], axis=2)\n",
        "    exp_key_value = agnp.exp(dot_product)\n",
        "\n",
        "    softmax_key_value = exp_key_value / agnp.sum(exp_key_value, axis=1)[:, agnp.newaxis]\n",
        "\n",
        "    X_w3 = agnp.dot(X, w3)\n",
        "    zi = agnp.sum(softmax_key_value * X_w3, axis=1)\n",
        "    softmax_X = agnp.sum(softmax_key_value[:, :, agnp.newaxis] * X, axis=1)\n",
        "\n",
        "    loss = agnp.mean(agnp.log(1 + agnp.exp(-y * zi)))\n",
        "    return loss\n",
        "\n",
        "# Set up the input data\n",
        "n_context = 4\n",
        "n_features = 3\n",
        "n_samples = 5\n",
        "n_reduced = 2\n",
        "\n",
        "# Convert to numpy arrays\n",
        "X = np.array(X_raw)\n",
        "y = np.array(y_raw)\n",
        "W1 = np.array(W1_raw)\n",
        "W2 = np.array(W2_raw)\n",
        "w3 = np.array(w3_raw)\n",
        "\n",
        "# Create theta dictionary for the original function\n",
        "theta = {'W1': W1, 'W2': W2, 'w3': w3}\n",
        "\n",
        "\n",
        "\n",
        "# Use autograd to compute the gradient\n",
        "result_ag_scalar = grad_ag_scalar(X, y, W1, W2, w3)\n",
        "\n",
        "# Compare results\n",
        "\n",
        "print(\"\\nAutograd result:\")\n",
        "print(result_ag_scalar)\n"
      ],
      "metadata": {
        "id": "oPP1r45LPRhZ",
        "colab": {
          "base_uri": "https://localhost:8080/"
        },
        "outputId": "00cea921-1007-4448-d168-d6c7009b253b"
      },
      "id": "oPP1r45LPRhZ",
      "execution_count": 15,
      "outputs": [
        {
          "output_type": "stream",
          "name": "stdout",
          "text": [
            "\n",
            "Autograd result:\n",
            "[ 0.29006619  0.31213455 -0.22591685]\n"
          ]
        }
      ]
    },
    {
      "cell_type": "code",
      "source": [],
      "metadata": {
        "id": "0x80JHdwT0bs"
      },
      "id": "0x80JHdwT0bs",
      "execution_count": null,
      "outputs": []
    }
  ],
  "metadata": {
    "kernelspec": {
      "display_name": "Python 3 (ipykernel)",
      "language": "python",
      "name": "python3"
    },
    "language_info": {
      "codemirror_mode": {
        "name": "ipython",
        "version": 3
      },
      "file_extension": ".py",
      "mimetype": "text/x-python",
      "name": "python",
      "nbconvert_exporter": "python",
      "pygments_lexer": "ipython3",
      "version": "3.12.5"
    },
    "colab": {
      "provenance": [],
      "toc_visible": true,
      "include_colab_link": true
    }
  },
  "nbformat": 4,
  "nbformat_minor": 5
}