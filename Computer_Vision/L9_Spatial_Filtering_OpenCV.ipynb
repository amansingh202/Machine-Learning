{
 "cells": [
  {
   "cell_type": "markdown",
   "id": "7b44cde6",
   "metadata": {},
   "source": [
    "# Spatial Operations in Image Processing\n",
    "Spatial operations use pixels in a neighborhood to determine the present pixel value. Applications include filtering and sharpening. They are used in many steps in computer vision like segmentation and are a key building block in Artificial Intelligence algorithms.\n",
    "\n",
    "Linear Filtering<br>\n",
    "Filtering Noise<br>\n",
    "Gaussian Blur<br>\n",
    "Image Sharpening<br>\n",
    "Edges<br>\n",
    "Median<br>\n",
    "Threshold"
   ]
  },
  {
   "cell_type": "code",
   "execution_count": 1,
   "id": "a67f1bac",
   "metadata": {},
   "outputs": [],
   "source": [
    "import matplotlib.pyplot as plt\n",
    "import numpy as np\n",
    "import cv2"
   ]
  },
  {
   "cell_type": "code",
   "execution_count": 2,
   "id": "e80ddad2",
   "metadata": {},
   "outputs": [],
   "source": [
    "\n",
    "def plot_image(image_1, image_2,title_1=\"Orignal\",title_2=\"New Image\"):\n",
    "    plt.figure(figsize=(10,10))\n",
    "    plt.subplot(1, 2, 1)\n",
    "    plt.imshow(cv2.cvtColor(image_1, cv2.COLOR_BGR2RGB))\n",
    "    plt.title(title_1)\n",
    "    plt.subplot(1, 2, 2)\n",
    "    plt.imshow(cv2.cvtColor(image_2, cv2.COLOR_BGR2RGB))\n",
    "    plt.title(title_2)\n",
    "    plt.show()"
   ]
  },
  {
   "cell_type": "code",
   "execution_count": null,
   "id": "d23cbeb5",
   "metadata": {},
   "outputs": [],
   "source": []
  }
 ],
 "metadata": {
  "kernelspec": {
   "display_name": "Python 3 (ipykernel)",
   "language": "python",
   "name": "python3"
  },
  "language_info": {
   "codemirror_mode": {
    "name": "ipython",
    "version": 3
   },
   "file_extension": ".py",
   "mimetype": "text/x-python",
   "name": "python",
   "nbconvert_exporter": "python",
   "pygments_lexer": "ipython3",
   "version": "3.11.5"
  }
 },
 "nbformat": 4,
 "nbformat_minor": 5
}
