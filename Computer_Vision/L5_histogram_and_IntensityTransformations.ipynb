{
 "cells": [
  {
   "cell_type": "markdown",
   "id": "231170d3",
   "metadata": {},
   "source": [
    "# Histogram and Intensity Transformations¶"
   ]
  },
  {
   "cell_type": "markdown",
   "id": "55c90792",
   "metadata": {},
   "source": [
    "Pixel Transforms are operations you perform one pixel at a time. In this lab, you will start by creating histograms. Histograms display the intensity of the image and can be used to optimize image characteristics. You will then apply Intensity Transformations, making objects easier to see by improving image contrast and brightness. In the last portion of the lab, you will use thresholding to segment objects from images.\n",
    "<br>\n",
    "Pixel Transforms<br>\n",
    "Histograms<br>\n",
    "Intensity Transformations<br>\n",
    "Thresholding and Simple Segmentation"
   ]
  },
  {
   "cell_type": "markdown",
   "id": "e1f0d334",
   "metadata": {},
   "source": []
  },
  {
   "cell_type": "code",
   "execution_count": 2,
   "id": "fda041db",
   "metadata": {},
   "outputs": [],
   "source": [
    "import matplotlib.pyplot as plt\n",
    "import cv2\n",
    "import numpy as np"
   ]
  },
  {
   "cell_type": "code",
   "execution_count": 4,
   "id": "47d51888",
   "metadata": {},
   "outputs": [],
   "source": [
    "#helper function"
   ]
  },
  {
   "cell_type": "code",
   "execution_count": 5,
   "id": "3f6cadd0",
   "metadata": {},
   "outputs": [],
   "source": [
    "def plot_image(image_1, image_2, title_1 = \"Original\", title_2 = \"new Image\"):\n",
    "    plt.figure(figsize=(10,10))\n",
    "    plt.subplot(1,2,1)\n",
    "    plt.imshow(image_1, cmap = 'gray')\n",
    "    plt.title(title_1)\n",
    "    plt.subplot(1,2,2)\n",
    "    plt.imshow(image_2, cmap = 'gray')\n",
    "    plt.title(title_2)\n",
    "    plt.show()"
   ]
  },
  {
   "cell_type": "code",
   "execution_count": 6,
   "id": "7b0ecfed",
   "metadata": {},
   "outputs": [],
   "source": [
    "#histogram side by side"
   ]
  },
  {
   "cell_type": "code",
   "execution_count": 7,
   "id": "8ea9e794",
   "metadata": {},
   "outputs": [],
   "source": [
    "def plot_hist(old_image, new_image, title_old=\"Original\", title_new = \"New Image\"):\n",
    "    intensity_values = np.array([x for x in range(256)])\n",
    "    plt.subplot(1,2,1)\n",
    "    plt.bar(intensity_values, cv2.calcHist([old_image], [0],None,[256],[0,256])[:0], width = 5)\n",
    "    plt.title(title_old)\n",
    "    plt.xlabel('intensity')\n",
    "    plt.subplot(1,2,2)\n",
    "    plt.bar(intensity_values, cv2.calcHist([new_image],[0],None,[256],[0,256])[:0], width = 5)\n",
    "    plt.title('title_new')\n",
    "    plt.xlabel('intensity')\n",
    "    plt.show()"
   ]
  },
  {
   "cell_type": "markdown",
   "id": "fbd1cbb3",
   "metadata": {},
   "source": [
    "# Histograms\n",
    "A histogram counts the number of occurrences of the intensity values of pixels, and it's a useful tool for understanding and manipulating images. We use cv.calcHist() to generate the histogram. Here are the parameter values:\n",
    "\n",
    "cv2.calcHist(CV array:[image] this is the image channel:[0],for this course it will always be [None],the number of bins:[L],the range of index of bins:[0,L-1]) \n",
    "\n",
    "For real images, L is 256."
   ]
  },
  {
   "cell_type": "markdown",
   "id": "28997279",
   "metadata": {},
   "source": [
    "\n",
    "# Toy Example\n",
    "Consider the toy array with intensity values ranging from 0 to 2. We can create a histogram. Its first element is the number of zeros in the image (in this case, 1); its second element is the number of ones in the image (in this case, 5), and so on."
   ]
  },
  {
   "cell_type": "code",
   "execution_count": 9,
   "id": "b416651d",
   "metadata": {},
   "outputs": [
    {
     "data": {
      "image/png": "[encoded data removed]",
      "text/plain": [
       "<Figure size 640x480 with 1 Axes>"
      ]
     },
     "metadata": {},
     "output_type": "display_data"
    },
    {
     "name": "stdout",
     "output_type": "stream",
     "text": [
      "toy image: [[0 2 2]\n",
      " [1 1 1]\n",
      " [1 1 2]]\n"
     ]
    }
   ],
   "source": [
    "toy_image = np.array([[0,2,2],[1,1,1],[1,1,2]], dtype = np.uint8)\n",
    "plt.imshow(toy_image, cmap='gray')\n",
    "plt.show()\n",
    "print('toy image:', toy_image)"
   ]
  },
  {
   "cell_type": "markdown",
   "id": "ee44a695",
   "metadata": {},
   "source": [
    "We can use the caclHist function, in this case, we use only three bins as there are only three values, and the index of the bins are from 1 to 3."
   ]
  },
  {
   "cell_type": "code",
   "execution_count": 10,
   "id": "88fc63f2",
   "metadata": {},
   "outputs": [
    {
     "data": {
      "image/png": "[encoded data removed]",
      "text/plain": [
       "<Figure size 640x480 with 1 Axes>"
      ]
     },
     "metadata": {},
     "output_type": "display_data"
    }
   ],
   "source": [
    "plt.bar([x for x in range(6)], [1,5,2,0,0,0])\n",
    "plt.show()"
   ]
  },
  {
   "cell_type": "code",
   "execution_count": 11,
   "id": "69e5fb86",
   "metadata": {},
   "outputs": [
    {
     "data": {
      "image/png": "[encoded data removed]",
      "text/plain": [
       "<Figure size 640x480 with 1 Axes>"
      ]
     },
     "metadata": {},
     "output_type": "display_data"
    }
   ],
   "source": [
    "plt.bar([x for x in range(6)], [0,1,0,5,0,2])\n",
    "plt.show()"
   ]
  },
  {
   "cell_type": "markdown",
   "id": "8dff2a42",
   "metadata": {},
   "source": [
    "# Gray Scale Histograms\n",
    "Histograms are used in grayscale images. Grayscale images are used in many applications, including medical and industrial. Color images are split into luminance and chrominance. The luminance is the grayscale portion and is usually processed in many applications. Consider the following \"Gold Hill\" image:"
   ]
  },
  {
   "cell_type": "code",
   "execution_count": null,
   "id": "46711f91",
   "metadata": {},
   "outputs": [],
   "source": [
    "goldhill = cv2.imread(\"goldhill.bmp\", cv2.IMREAD_GRAYSCALE)\n",
    "plt.figure(figsize=)\n"
   ]
  }
 ],
 "metadata": {
  "kernelspec": {
   "display_name": "Python 3 (ipykernel)",
   "language": "python",
   "name": "python3"
  },
  "language_info": {
   "codemirror_mode": {
    "name": "ipython",
    "version": 3
   },
   "file_extension": ".py",
   "mimetype": "text/x-python",
   "name": "python",
   "nbconvert_exporter": "python",
   "pygments_lexer": "ipython3",
   "version": "3.11.5"
  }
 },
 "nbformat": 4,
 "nbformat_minor": 5
}
