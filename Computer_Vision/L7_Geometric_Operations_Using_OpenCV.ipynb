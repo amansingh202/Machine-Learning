{
 "cells": [
  {
   "cell_type": "markdown",
   "id": "6ce296cc",
   "metadata": {},
   "source": [
    "# Geometric Operations using OpenCV"
   ]
  },
  {
   "cell_type": "markdown",
   "id": "810b0607",
   "metadata": {},
   "source": [
    "In the first part of the lab, you will apply geometric transformations to an image. This allows you to perform different operations like reshape translation i.e. to shift, reshape and rotate the image. In the second part of the lab, you will learn how to apply some basic array and matrix operations to the image.\n",
    "\n",
    "Geometric Operations<br>\n",
    "Scaling<br>\n",
    "Translation<br>\n",
    "Rotation<br>\n",
    "Mathematical Operations<br>\n",
    "Array Operations<br>\n",
    "Matix Operations n"
   ]
  },
  {
   "cell_type": "code",
   "execution_count": 1,
   "id": "e00bd6a9",
   "metadata": {},
   "outputs": [],
   "source": [
    "import matplotlib.pyplot as plt\n",
    "import cv2\n",
    "import numpy as np"
   ]
  },
  {
   "cell_type": "markdown",
   "id": "815a6255",
   "metadata": {},
   "source": [
    "First, let's define a helper function to plot two images side-by-side. You will not need to understand this code this moment, but this function will be used repeatedly in this tutorial to showcase the results."
   ]
  },
  {
   "cell_type": "code",
   "execution_count": null,
   "id": "6465de44",
   "metadata": {},
   "outputs": [],
   "source": [
    "def plot_image(image_1, image_2, title_1 = \"Original\", title_2 = \"New I\")"
   ]
  }
 ],
 "metadata": {
  "kernelspec": {
   "display_name": "Python 3 (ipykernel)",
   "language": "python",
   "name": "python3"
  },
  "language_info": {
   "codemirror_mode": {
    "name": "ipython",
    "version": 3
   },
   "file_extension": ".py",
   "mimetype": "text/x-python",
   "name": "python",
   "nbconvert_exporter": "python",
   "pygments_lexer": "ipython3",
   "version": "3.11.5"
  }
 },
 "nbformat": 4,
 "nbformat_minor": 5
}
