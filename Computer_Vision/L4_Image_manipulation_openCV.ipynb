{
 "cells": [
  {
   "cell_type": "code",
   "execution_count": 2,
   "id": "40f5c4f0",
   "metadata": {},
   "outputs": [],
   "source": [
    "import matplotlib.pyplot as plt\n",
    "import cv2\n",
    "import numpy as np"
   ]
  },
  {
   "cell_type": "markdown",
   "id": "75e90550",
   "metadata": {},
   "source": [
    "# Copying Images\n",
    "If you want to reassign an array to another variable, you should use the copy method. If we do not apply the method copy(), the variable will point to the same location in memory. Consider the following array:"
   ]
  },
  {
   "cell_type": "code",
   "execution_count": null,
   "id": "533b16b4",
   "metadata": {},
   "outputs": [],
   "source": [
    "baboon = cv2.imread(\"baboon.png\")\n"
   ]
  }
 ],
 "metadata": {
  "kernelspec": {
   "display_name": "Python 3 (ipykernel)",
   "language": "python",
   "name": "python3"
  },
  "language_info": {
   "codemirror_mode": {
    "name": "ipython",
    "version": 3
   },
   "file_extension": ".py",
   "mimetype": "text/x-python",
   "name": "python",
   "nbconvert_exporter": "python",
   "pygments_lexer": "ipython3",
   "version": "3.11.5"
  }
 },
 "nbformat": 4,
 "nbformat_minor": 5
}
