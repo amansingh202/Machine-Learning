{
 "cells": [
  {
   "cell_type": "markdown",
   "id": "5c39078d",
   "metadata": {},
   "source": [
    "# Spatial_Fltering_Using_Pillow"
   ]
  },
  {
   "cell_type": "markdown",
   "id": "d5c1a935",
   "metadata": {},
   "source": [
    "# Geometric Operations and Other Mathematical Tools with Pillow"
   ]
  },
  {
   "cell_type": "markdown",
   "id": "ac30b400",
   "metadata": {},
   "source": [
    "Spatial Operations in Image Processing\n",
    "Spatial operations use pixels in a neighborhood to determine the present pixel value. Some applications include filtering and sharpening. They are used in many steps in computer vision, such as segmentation, and are a key building block in Artificial Intelligence algorithms.\n",
    "\n",
    "Linear Filtering  <br>\n",
    "Filtering Noise <br>\n",
    "Gaussian Blur <br>\n",
    "Image Sharpening <br>\n",
    "Edges <br>\n",
    "Median <br>"
   ]
  },
  {
   "cell_type": "code",
   "execution_count": 2,
   "id": "ce80eaeb",
   "metadata": {},
   "outputs": [],
   "source": [
    "import matplotlib.pyplot as plt\n",
    "import numpy as np\n",
    "from PIL import Image"
   ]
  },
  {
   "cell_type": "code",
   "execution_count": null,
   "id": "ec7f1c51",
   "metadata": {},
   "outputs": [],
   "source": [
    "def "
   ]
  }
 ],
 "metadata": {
  "kernelspec": {
   "display_name": "Python 3 (ipykernel)",
   "language": "python",
   "name": "python3"
  },
  "language_info": {
   "codemirror_mode": {
    "name": "ipython",
    "version": 3
   },
   "file_extension": ".py",
   "mimetype": "text/x-python",
   "name": "python",
   "nbconvert_exporter": "python",
   "pygments_lexer": "ipython3",
   "version": "3.11.5"
  }
 },
 "nbformat": 4,
 "nbformat_minor": 5
}
