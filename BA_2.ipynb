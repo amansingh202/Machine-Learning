{
  "cells": [
    {
      "cell_type": "markdown",
      "metadata": {
        "id": "view-in-github",
        "colab_type": "text"
      },
      "source": [
        "<a href=\"https://colab.research.google.com/github/amansingh202/Machine-Learning/blob/main/BA_2.ipynb\" target=\"_parent\"><img src=\"https://colab.research.google.com/assets/colab-badge.svg\" alt=\"Open In Colab\"/></a>"
      ]
    },
    {
      "cell_type": "code",
      "execution_count": null,
      "id": "f9b73617-7878-4e01-8327-1f729f0813f8",
      "metadata": {
        "id": "f9b73617-7878-4e01-8327-1f729f0813f8"
      },
      "outputs": [],
      "source": [
        "import pandas as pd\n",
        "import numpy as np\n",
        "from sklearn.linear_model import LinearRegression\n",
        "import matplotlib.pyplot as plt\n",
        "import openai\n",
        "import os\n",
        "import streamlit as st\n",
        "\n",
        "openai.api_key = os.getenv('OPENAI_API_KEY')\n"
      ]
    },
    {
      "cell_type": "code",
      "execution_count": null,
      "id": "d7519895-52b9-48b3-80f3-fda2a4e0e1bf",
      "metadata": {
        "id": "d7519895-52b9-48b3-80f3-fda2a4e0e1bf",
        "outputId": "32d4c353-834d-4712-9062-1bae1e794868"
      },
      "outputs": [
        {
          "name": "stdout",
          "output_type": "stream",
          "text": [
            "Sample Energy Demand Dataset:\n",
            "   Quarter  Energy_Demand  Energy_Supply   Region\n",
            "0  Q1-2023          50000          48000  Chicago\n",
            "1  Q2-2023          55000          54000  Chicago\n",
            "2  Q3-2023          60000          61000  Chicago\n",
            "3  Q4-2023          65000          66000  Chicago\n"
          ]
        }
      ],
      "source": [
        "data = {\n",
        "    'Quarter': ['Q1-2023', 'Q2-2023', 'Q3-2023', 'Q4-2023'],\n",
        "    'Energy_Demand': [50000, 55000, 60000, 65000],\n",
        "    'Energy_Supply': [48000, 54000, 61000, 66000],\n",
        "    'Region': ['Chicago', 'Chicago', 'Chicago', 'Chicago']  # All rows reflect Chicago\n",
        "}\n",
        "energy_df = pd.DataFrame(data)\n",
        "\n",
        "\n",
        "# Display the dataset\n",
        "print(\"Sample Energy Demand Dataset:\")\n",
        "print(energy_df)\n"
      ]
    },
    {
      "cell_type": "code",
      "execution_count": null,
      "id": "75693ada-1fd8-460b-ba65-0f3831b2f7ec",
      "metadata": {
        "id": "75693ada-1fd8-460b-ba65-0f3831b2f7ec"
      },
      "outputs": [],
      "source": [
        "# Base Agent Class with receive_task()\n",
        "class Agent:\n",
        "    def __init__(self, name):\n",
        "        self.name = name\n",
        "        self.assigned_tasks = []\n",
        "\n",
        "    def receive_task(self, task):\n",
        "        self.assigned_tasks.append(task)\n",
        "        print(f\"{self.name} received task: '{task}'\")\n"
      ]
    },
    {
      "cell_type": "code",
      "execution_count": null,
      "id": "4006cd62-7439-4eae-895b-ad806eb756bb",
      "metadata": {
        "id": "4006cd62-7439-4eae-895b-ad806eb756bb",
        "outputId": "83137df8-8372-4107-8dcd-e50783d5ea0a"
      },
      "outputs": [
        {
          "name": "stdout",
          "output_type": "stream",
          "text": [
            "Project Manager assigned task: 'Coordinate with Data Engineer' to Data Engineer.\n",
            "Data Engineer received task: 'Coordinate with Data Engineer'\n",
            "Project Manager assigned task: 'Ensure Data Scientist has access to forecast models' to Data Scientist.\n",
            "Data Scientist received task: 'Ensure Data Scientist has access to forecast models'\n",
            "Project Manager's task list:\n",
            "1. Coordinate with Data Engineer\n",
            "2. Ensure Data Scientist has access to forecast models\n",
            "\n",
            "Tasks received by Data Engineer: ['Coordinate with Data Engineer']\n",
            "Tasks received by Data Scientist: ['Ensure Data Scientist has access to forecast models']\n"
          ]
        }
      ],
      "source": [
        "class ProjectManager(Agent):\n",
        "    def __init__(self, name):\n",
        "        self.name = name\n",
        "        self.tasks = []\n",
        "\n",
        "    def assign_task(self, task, agent=None):\n",
        "        self.tasks.append(task)\n",
        "        if agent:\n",
        "            print(f\"{self.name} assigned task: '{task}' to {agent.name}.\")\n",
        "            agent.receive_task(task)\n",
        "        else:\n",
        "            print(f\"{self.name} added a task: '{task}'\")\n",
        "\n",
        "    def display_tasks(self):\n",
        "        print(f\"{self.name}'s task list:\")\n",
        "        for i, task in enumerate(self.tasks, 1):\n",
        "            print(f\"{i}. {task}\")\n",
        "\n",
        "# Define a simple agent to simulate task receipt\n",
        "class Agent:\n",
        "    def __init__(self, name):\n",
        "        self.name = name\n",
        "        self.assigned_tasks = []\n",
        "\n",
        "    def receive_task(self, task):\n",
        "        self.assigned_tasks.append(task)\n",
        "        print(f\"{self.name} received task: '{task}'\")\n",
        "\n",
        "# Usage\n",
        "pm = ProjectManager(name=\"Project Manager\")\n",
        "\n",
        "# Example agents\n",
        "de = Agent(name=\"Data Engineer\")\n",
        "ds = Agent(name=\"Data Scientist\")\n",
        "\n",
        "# Assign tasks\n",
        "pm.assign_task(\"Coordinate with Data Engineer\", de)\n",
        "pm.assign_task(\"Ensure Data Scientist has access to forecast models\", ds)\n",
        "\n",
        "# Display all tasks assigned\n",
        "pm.display_tasks()\n",
        "\n",
        "# Optionally, you can display tasks received by each agent\n",
        "print(f\"\\nTasks received by {de.name}: {de.assigned_tasks}\")\n",
        "print(f\"Tasks received by {ds.name}: {ds.assigned_tasks}\")"
      ]
    },
    {
      "cell_type": "code",
      "execution_count": null,
      "id": "a514199a-e083-435f-a1a3-4a6ec4890d51",
      "metadata": {
        "id": "a514199a-e083-435f-a1a3-4a6ec4890d51",
        "outputId": "4634a629-2b06-4ebc-9067-909df26f6077"
      },
      "outputs": [
        {
          "name": "stdout",
          "output_type": "stream",
          "text": [
            "Data Engineer loading data...\n",
            "Data Engineer preparing data...\n",
            "Data Engineer cleaning data...\n",
            "   Quarter  Energy_Demand  Energy_Supply\n",
            "0  Q1-2023          50000          48000\n",
            "1  Q2-2023          55000          54000\n",
            "2  Q3-2023          60000          61000\n",
            "3  Q4-2023          65000          66000\n"
          ]
        }
      ],
      "source": [
        "class DataEngineer(Agent):  # <---- Inherit from Agent\n",
        "    def __init__(self, name):\n",
        "        super().__init__(name)  # Call base class __init__\n",
        "\n",
        "    def load_data(self, data):\n",
        "        \"\"\"Loads raw data into a DataFrame.\"\"\"\n",
        "        print(f\"{self.name} loading data...\")\n",
        "        return pd.DataFrame(data)\n",
        "\n",
        "    def prepare_data(self, data):\n",
        "        \"\"\"Data cleaning and preparation steps: converts 'Energy_Demand' and 'Energy_Supply' to numeric and drops missing values.\"\"\"\n",
        "        print(f\"{self.name} preparing data...\")\n",
        "        # Convert Energy-related columns to numeric, coercing errors to NaN\n",
        "        data['Energy_Demand'] = pd.to_numeric(data['Energy_Demand'], errors='coerce')\n",
        "        data['Energy_Supply'] = pd.to_numeric(data['Energy_Supply'], errors='coerce')\n",
        "        # Drop rows with NaN values\n",
        "        data.dropna(inplace=True)\n",
        "        return data\n",
        "\n",
        "    def clean_data(self, df):\n",
        "        \"\"\"Additional cleaning step: drops any remaining NaN values.\"\"\"\n",
        "        print(f\"{self.name} cleaning data...\")\n",
        "        df.dropna(inplace=True)\n",
        "        return df\n",
        "\n",
        "\n",
        "# Example Usage with Provided Data\n",
        "data = {\n",
        "    'Quarter': ['Q1-2023', 'Q2-2023', 'Q3-2023', 'Q4-2023'],\n",
        "    'Energy_Demand': [50000, 55000, 60000, 65000],\n",
        "    'Energy_Supply': [48000, 54000, 61000, 66000]  # Valid data without 'NaN'\n",
        "}\n",
        "\n",
        "# Instantiate the Data Engineer\n",
        "de = DataEngineer(name=\"Data Engineer\")\n",
        "\n",
        "# Load the data into a DataFrame\n",
        "df = de.load_data(data)\n",
        "\n",
        "# Prepare (clean) the data\n",
        "prepared_df = de.prepare_data(df)\n",
        "\n",
        "# Optionally, clean the data again (if needed)\n",
        "cleaned_df = de.clean_data(prepared_df)\n",
        "\n",
        "# Output the cleaned DataFrame\n",
        "print(cleaned_df)\n"
      ]
    },
    {
      "cell_type": "code",
      "execution_count": null,
      "id": "95632df0-0baf-44af-9fd1-c1d26c531248",
      "metadata": {
        "id": "95632df0-0baf-44af-9fd1-c1d26c531248",
        "outputId": "6d66d584-a089-4e28-f2d3-9205a3103484"
      },
      "outputs": [
        {
          "name": "stdout",
          "output_type": "stream",
          "text": [
            "\n",
            "Data Analyst: Analyzing energy trends...\n",
            "Total Energy Demand: 230000 MWh\n",
            "Total Energy Supply: 229000 MWh\n"
          ]
        },
        {
          "data": {
            "image/png": "[encoded data removed]",
            "text/plain": [
              "<Figure size 640x480 with 1 Axes>"
            ]
          },
          "metadata": {},
          "output_type": "display_data"
        },
        {
          "name": "stdout",
          "output_type": "stream",
          "text": [
            "\n",
            "Data Analyst: Analyzing energy demand and supply by quarter...\n"
          ]
        },
        {
          "data": {
            "image/png": "[encoded data removed]",
            "text/plain": [
              "<Figure size 640x480 with 1 Axes>"
            ]
          },
          "metadata": {},
          "output_type": "display_data"
        }
      ],
      "source": [
        "# Data Analyst Agent: responsible for analyzing and visualizing energy supply/demand trends\n",
        "class DataAnalyst(Agent):\n",
        "    def __init__(self, name):\n",
        "        self.name = name\n",
        "\n",
        "    def analyze_energy(self, data):\n",
        "        \"\"\"Analyzes the total energy demand and supply and generates a basic visualization.\"\"\"\n",
        "        print(f\"\\n{self.name}: Analyzing energy trends...\")\n",
        "\n",
        "        # Calculate total energy demand and supply\n",
        "        total_demand = data['Energy_Demand'].sum()\n",
        "        total_supply = data['Energy_Supply'].sum()\n",
        "\n",
        "        # Print analysis result\n",
        "        print(f\"Total Energy Demand: {total_demand} MWh\")\n",
        "        print(f\"Total Energy Supply: {total_supply} MWh\")\n",
        "\n",
        "        # Plot energy demand vs supply\n",
        "        plt.bar(['Total Demand', 'Total Supply'], [total_demand, total_supply], color=['blue', 'orange'])\n",
        "        plt.title('Total Energy Demand vs Supply')\n",
        "        plt.ylabel('Energy (MWh)')\n",
        "        plt.show()\n",
        "\n",
        "    def analyze_by_quarter(self, data):\n",
        "        \"\"\"Analyzes energy demand and supply by quarter and creates a visualization.\"\"\"\n",
        "        print(f\"\\n{self.name}: Analyzing energy demand and supply by quarter...\")\n",
        "\n",
        "        # Plot energy demand vs supply by quarter\n",
        "        plt.plot(data['Quarter'], data['Energy_Demand'], label='Energy Demand', marker='o', color='blue')\n",
        "        plt.plot(data['Quarter'], data['Energy_Supply'], label='Energy Supply', marker='x', color='orange')\n",
        "        plt.title('Energy Demand vs Supply by Quarter')\n",
        "        plt.xlabel('Quarter')\n",
        "        plt.ylabel('Energy (MWh)')\n",
        "        plt.legend()\n",
        "        plt.show()\n",
        "\n",
        "# Example Usage\n",
        "data = {\n",
        "    'Quarter': ['Q1-2023', 'Q2-2023', 'Q3-2023', 'Q4-2023'],\n",
        "    'Energy_Demand': [50000, 55000, 60000, 65000],\n",
        "    'Energy_Supply': [48000, 54000, 61000, 66000]\n",
        "}\n",
        "\n",
        "# Create a DataFrame\n",
        "df = pd.DataFrame(data)\n",
        "\n",
        "# Instantiate the Data Analyst\n",
        "da = DataAnalyst(name=\"Data Analyst\")\n",
        "\n",
        "# Perform analysis on the total energy data\n",
        "da.analyze_energy(df)\n",
        "\n",
        "# Perform analysis on energy data by quarter\n",
        "da.analyze_by_quarter(df)"
      ]
    },
    {
      "cell_type": "code",
      "execution_count": null,
      "id": "f3e69de0-7dbf-424e-8e72-840d68ad9b67",
      "metadata": {
        "id": "f3e69de0-7dbf-424e-8e72-840d68ad9b67",
        "outputId": "f12e1276-657d-4400-90a5-755d6dfbeb7a"
      },
      "outputs": [
        {
          "name": "stdout",
          "output_type": "stream",
          "text": [
            "\n",
            "Data Scientist: Developing energy forecasting model...\n",
            "Forecasted Energy Demand for next quarters: [70000. 75000. 80000.]\n",
            "Forecasted Energy Supply for next quarters: [72500. 78600. 84700.]\n"
          ]
        }
      ],
      "source": [
        "import numpy as np\n",
        "from sklearn.linear_model import LinearRegression\n",
        "\n",
        "# Data Scientist Agent: responsible for developing a forecasting model for energy supply and demand\n",
        "class DataScientist(Agent):\n",
        "    def __init__(self, name):\n",
        "        self.name = name\n",
        "\n",
        "    def build_forecast_model(self, data):\n",
        "        \"\"\"Builds a linear regression model to forecast energy demand and supply.\"\"\"\n",
        "        print(f\"\\n{self.name}: Developing energy forecasting model...\")\n",
        "\n",
        "        # Convert the quarters into a numerical format (e.g., Q1 -> 1, Q2 -> 2, etc.)\n",
        "        quarters = np.array([1, 2, 3, 4]).reshape(-1, 1)  # Reshaping for sklearn\n",
        "\n",
        "        # Extract energy demand and supply as target variables\n",
        "        energy_demand = data['Energy_Demand'].values\n",
        "        energy_supply = data['Energy_Supply'].values\n",
        "\n",
        "        # Create and train the linear regression models for demand and supply\n",
        "        demand_model = LinearRegression().fit(quarters, energy_demand)\n",
        "        supply_model = LinearRegression().fit(quarters, energy_supply)\n",
        "\n",
        "        # Forecast energy demand and supply for the next 3 quarters (Q5, Q6, Q7)\n",
        "        future_quarters = np.array([5, 6, 7]).reshape(-1, 1)\n",
        "        future_demand = demand_model.predict(future_quarters)\n",
        "        future_supply = supply_model.predict(future_quarters)\n",
        "\n",
        "        # Display forecast results\n",
        "        print(f\"Forecasted Energy Demand for next quarters: {future_demand}\")\n",
        "        print(f\"Forecasted Energy Supply for next quarters: {future_supply}\")\n",
        "\n",
        "        # Return the forecasted results\n",
        "        return future_demand, future_supply\n",
        "\n",
        "# Example Usage\n",
        "data = {\n",
        "    'Quarter': ['Q1-2023', 'Q2-2023', 'Q3-2023', 'Q4-2023'],\n",
        "    'Energy_Demand': [50000, 55000, 60000, 65000],\n",
        "    'Energy_Supply': [48000, 54000, 61000, 66000]\n",
        "}\n",
        "\n",
        "# Create a DataFrame\n",
        "df = pd.DataFrame(data)\n",
        "\n",
        "# Instantiate the Data Scientist\n",
        "ds = DataScientist(name=\"Data Scientist\")\n",
        "\n",
        "# Build the forecasting model\n",
        "predicted_demand, predicted_supply = ds.build_forecast_model(df)"
      ]
    },
    {
      "cell_type": "code",
      "execution_count": null,
      "id": "857b7e79-59c9-40fe-aec0-067e592269a9",
      "metadata": {
        "id": "857b7e79-59c9-40fe-aec0-067e592269a9",
        "outputId": "ba77a7c9-acfe-497a-b0ec-9e22b2b7d100"
      },
      "outputs": [
        {
          "name": "stdout",
          "output_type": "stream",
          "text": [
            "\n",
            "Business Analyst: Interpreting forecast results...\n",
            "Generated GPT Report:\n",
            " Insights:\n",
            "A continual increase is observed in both the demand and supply of energy in the city of Chicago over the next three quarters. Notably, the supply of energy seems to be outpacing the demand in consecutive quarters (Q5, Q6, and Q7). In Q5, there is a surplus of 2500 MWh, which increases by 1100 MWh in Q6 and a further 1100 MWh in Q7, reaching a maximum excess of 4700 MWh.\n",
            "\n",
            "Recommendations:\n",
            "1. Curtailment Measures: Considering the surplus energy, the city must look into proactive curtailment measures. This can include temporary shut-down of power plants or reducing their output.\n",
            "\n",
            "2. Energy Storage:\n"
          ]
        }
      ],
      "source": [
        "class BusinessAnalyst(Agent):\n",
        "    def __init__(self, name):\n",
        "        super().__init__(name)\n",
        "\n",
        "    def interpret_forecast(self, predicted_demand, predicted_supply):\n",
        "        \"\"\"Interprets the forecasted energy demand and supply to generate insights.\"\"\"\n",
        "        print(f\"\\n{self.name}: Interpreting forecast results...\")\n",
        "\n",
        "        # Check if the forecasted supply meets the demand for each future quarter\n",
        "        recommendations = []\n",
        "        for i in range(len(predicted_demand)):\n",
        "            if predicted_supply[i] > predicted_demand[i]:\n",
        "                recommendation = f\"Q{i+5}: Supply exceeds demand by {predicted_supply[i] - predicted_demand[i]:.2f} MWh.\"\n",
        "            elif predicted_demand[i] > predicted_supply[i]:\n",
        "                recommendation = f\"Q{i+5}: Demand exceeds supply by {predicted_demand[i] - predicted_supply[i]:.2f} MWh.\"\n",
        "            else:\n",
        "                recommendation = f\"Q{i+5}: Supply matches demand. No action needed.\"\n",
        "            recommendations.append(recommendation)\n",
        "\n",
        "        # General insight based on trends\n",
        "        avg_demand_growth = (predicted_demand[-1] - predicted_demand[0]) / predicted_demand[0] * 100\n",
        "        avg_supply_growth = (predicted_supply[-1] - predicted_supply[0]) / predicted_supply[0] * 100\n",
        "\n",
        "        # Generate the GPT dynamic report using ChatCompletion API\n",
        "        self.generate_gpt_dynamic_report(avg_demand_growth, avg_supply_growth, recommendations)\n",
        "\n",
        "    def generate_gpt_dynamic_report(self, demand_growth, supply_growth, recommendations):\n",
        "        \"\"\"Generates a detailed GPT report based on the forecast data using GPT-4 or GPT-3.5-turbo.\"\"\"\n",
        "        prompt = (\n",
        "            f\"The energy demand has grown by {demand_growth:.2f}% and the supply by {supply_growth:.2f}% over the next 3 quarters. \"\n",
        "            f\"Here are the specific insights and recommendations:\\n\\n\"\n",
        "            f\"{' '.join(recommendations)}\\n\\n\"\n",
        "            \"Please summarize these insights and provide recommendations for optimizing energy management in the city of Chicago.\"\n",
        "        )\n",
        "\n",
        "        try:\n",
        "            # Call Chat API with the correct model (gpt-3.5-turbo or gpt-4)\n",
        "            response = openai.ChatCompletion.create(\n",
        "                model=\"gpt-4\",\n",
        "                messages=[\n",
        "                    {\"role\": \"system\", \"content\": \"You are a skilled energy analyst providing insights.\"},\n",
        "                    {\"role\": \"user\", \"content\": prompt}\n",
        "                ],\n",
        "                max_tokens=150\n",
        "            )\n",
        "\n",
        "            # Extract the GPT-generated report\n",
        "            gpt_report = response['choices'][0]['message']['content'].strip()\n",
        "            print(\"Generated GPT Report:\\n\", gpt_report)\n",
        "        except Exception as e:\n",
        "            print(f\"Error during GPT report generation: {e}\")\n",
        "\n",
        "# Example Usage\n",
        "predicted_demand = [70000, 75000, 80000]\n",
        "predicted_supply = [72500, 78600, 84700]\n",
        "\n",
        "# Instantiate the Business Analyst\n",
        "ba = BusinessAnalyst(name=\"Business Analyst\")\n",
        "\n",
        "# Call the Business Analyst to interpret the forecasted demand and supply\n",
        "ba.interpret_forecast(predicted_demand, predicted_supply)"
      ]
    },
    {
      "cell_type": "code",
      "execution_count": null,
      "id": "4e3d598d-1137-48ef-b98c-0c2284264d0f",
      "metadata": {
        "id": "4e3d598d-1137-48ef-b98c-0c2284264d0f"
      },
      "outputs": [],
      "source": [
        "import streamlit as st\n",
        "import pandas as pd\n",
        "import matplotlib.pyplot as plt\n",
        "\n",
        "# Frontend Developer Agent: responsible for building the interface for data visualizations\n",
        "class FrontendDeveloper(Agent):\n",
        "    def __init__(self, name):\n",
        "        self.name = name\n",
        "\n",
        "    def build_interface(self, historical_data, predicted_demand, predicted_supply):\n",
        "        \"\"\"Creates an interface using Streamlit for visualizing energy demand and supply data.\"\"\"\n",
        "        st.title(\"Energy Demand and Supply Forecast Dashboard\")\n",
        "\n",
        "        # Display historical data\n",
        "        st.subheader(\"Historical Energy Data\")\n",
        "        st.write(historical_data)\n",
        "\n",
        "        # Create a combined dataset of historical and predicted data\n",
        "        quarters = historical_data['Quarter'].tolist()\n",
        "        future_quarters = [f\"Q{i+5}\" for i in range(len(predicted_demand))]\n",
        "        quarters.extend(future_quarters)\n",
        "\n",
        "        # Append forecasted data to historical data\n",
        "        energy_demand = historical_data['Energy_Demand'].tolist()\n",
        "        energy_supply = historical_data['Energy_Supply'].tolist()\n",
        "        energy_demand.extend(predicted_demand)\n",
        "        energy_supply.extend(predicted_supply)\n",
        "\n",
        "        # Plot the forecast\n",
        "        st.subheader(\"Energy Demand and Supply Forecast\")\n",
        "        fig, ax = plt.subplots()\n",
        "        ax.plot(quarters, energy_demand, label=\"Energy Demand\", marker='o', color='blue')\n",
        "        ax.plot(quarters, energy_supply, label=\"Energy Supply\", marker='x', color='orange')\n",
        "        ax.set_title('Energy Demand and Supply Over Time')\n",
        "        ax.set_xlabel('Quarter')\n",
        "        ax.set_ylabel('Energy (MWh)')\n",
        "        plt.xticks(rotation=45)\n",
        "        ax.legend()\n",
        "        st.pyplot(fig)\n",
        "\n",
        "        # Provide summary reports\n",
        "        st.subheader(\"Summary\")\n",
        "        st.write(f\"Forecasted Energy Demand: {predicted_demand}\")\n",
        "        st.write(f\"Forecasted Energy Supply: {predicted_supply}\")\n",
        "\n",
        "# Example Usage:\n",
        "\n",
        "# Historical data for comparison\n",
        "historical_data = {\n",
        "    'Quarter': ['Q1-2023', 'Q2-2023', 'Q3-2023', 'Q4-2023'],\n",
        "    'Energy_Demand': [50000, 55000, 60000, 65000],\n",
        "    'Energy_Supply': [48000, 54000, 61000, 66000]\n",
        "}\n",
        "\n",
        "# Create a DataFrame for historical data\n",
        "historical_df = pd.DataFrame(historical_data)\n",
        "\n",
        "# Forecast predictions (from Business Analyst's forecast)\n",
        "predicted_demand = [70000, 75000, 80000]\n",
        "predicted_supply = [72500, 78600, 84700]\n",
        "\n",
        "# Instantiate the Frontend Developer\n",
        "fd = FrontendDeveloper(name=\"Frontend Developer\")\n",
        "\n",
        "# Run the Streamlit app (this is called in a Python script outside of Jupyter Notebooks)\n",
        "fd.build_interface(historical_df, predicted_demand, predicted_supply)\n"
      ]
    },
    {
      "cell_type": "code",
      "execution_count": null,
      "id": "be0e6a55-43a2-4061-afe5-dd6438588b49",
      "metadata": {
        "id": "be0e6a55-43a2-4061-afe5-dd6438588b49"
      },
      "outputs": [],
      "source": [
        "# Define the agents\n",
        "pm = ProjectManager(name=\"Project Manager\")\n",
        "de = DataEngineer(name=\"Data Engineer\")\n",
        "da = DataAnalyst(name=\"Data Analyst\")\n",
        "ds = DataScientist(name=\"Data Scientist\")\n",
        "ba = BusinessAnalyst(name=\"Business Analyst\")\n",
        "# fd = FrontendDeveloper(name=\"Frontend Developer\")\n",
        "\n",
        "# Example historical data (to be used by Data Engineer)\n",
        "historical_data = {\n",
        "    'Quarter': ['Q1-2023', 'Q2-2023', 'Q3-2023', 'Q4-2023'],\n",
        "    'Energy_Demand': [50000, 55000, 60000, 65000],\n",
        "    'Energy_Supply': [48000, 54000, 61000, 66000]\n",
        "}\n",
        "\n",
        "# Create a DataFrame for the historical data\n",
        "df = pd.DataFrame(historical_data)\n",
        "\n",
        "# Simulate the workflow\n",
        "\n",
        "# Project Manager assigns task to Data Engineer\n",
        "pm.assign_task(\"Prepare the energy data\", de)\n",
        "\n",
        "# Data Engineer prepares the data\n",
        "prepared_data = de.prepare_data(df)\n",
        "\n",
        "# Data Analyst analyzes the data\n",
        "da.analyze_energy(prepared_data)\n",
        "\n",
        "# Data Scientist forecasts energy consumption\n",
        "predicted_demand, predicted_supply = ds.build_forecast_model(prepared_data)\n",
        "print(f\"Predicted Energy Demand: {predicted_demand}\")\n",
        "print(f\"Predicted Energy Supply: {predicted_supply}\")\n",
        "\n",
        "# Business Analyst interprets the forecast\n",
        "ba.interpret_forecast(predicted_demand, predicted_supply)\n",
        "\n",
        "# Frontend Developer creates the UI for displaying predictions\n",
        "# fd.build_interface(prepared_data, predicted_demand, predicted_supply)\n"
      ]
    },
    {
      "cell_type": "code",
      "execution_count": null,
      "id": "03eb31be-3140-4f23-a478-22cdb55ae2cd",
      "metadata": {
        "id": "03eb31be-3140-4f23-a478-22cdb55ae2cd"
      },
      "outputs": [],
      "source": []
    },
    {
      "cell_type": "code",
      "execution_count": null,
      "id": "387e671f-eb48-4212-801c-d87929ddffc3",
      "metadata": {
        "id": "387e671f-eb48-4212-801c-d87929ddffc3"
      },
      "outputs": [],
      "source": []
    }
  ],
  "metadata": {
    "kernelspec": {
      "display_name": "Python 3 (ipykernel)",
      "language": "python",
      "name": "python3"
    },
    "language_info": {
      "codemirror_mode": {
        "name": "ipython",
        "version": 3
      },
      "file_extension": ".py",
      "mimetype": "text/x-python",
      "name": "python",
      "nbconvert_exporter": "python",
      "pygments_lexer": "ipython3",
      "version": "3.10.0"
    },
    "colab": {
      "provenance": [],
      "include_colab_link": true
    }
  },
  "nbformat": 4,
  "nbformat_minor": 5
}