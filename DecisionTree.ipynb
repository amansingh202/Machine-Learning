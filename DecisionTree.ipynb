{
 "cells": [
  {
   "cell_type": "markdown",
   "id": "23a089de",
   "metadata": {},
   "source": [
    "# Decision Tree\n",
    "A flow chart to make decisions based on the previous experience"
   ]
  },
  {
   "cell_type": "code",
   "execution_count": 2,
   "id": "820cfd32",
   "metadata": {},
   "outputs": [
    {
     "name": "stdout",
     "output_type": "stream",
     "text": [
      "    Age  Experience  Rank Nationality   Go\n",
      "0    36          10     9          UK   NO\n",
      "1    42          12     4         USA   NO\n",
      "2    23           4     6           N   NO\n",
      "3    52           4     4         USA   NO\n",
      "4    43          21     8         USA  YES\n",
      "5    44          14     5          UK   NO\n",
      "6    66           3     7           N  YES\n",
      "7    35          14     9          UK  YES\n",
      "8    52          13     7           N  YES\n",
      "9    35           5     9           N  YES\n",
      "10   24           3     5         USA   NO\n",
      "11   18           3     7          UK  YES\n",
      "12   45           9     9          UK  YES\n"
     ]
    }
   ],
   "source": [
    "import pandas as pd\n",
    "\n",
    "age = [36, 42, 23, 52, 43, 44, 66, 35, 52, 35, 24, 18, 45]\n",
    "experience = [10, 12, 4, 4, 21, 14, 3, 14, 13, 5, 3, 3, 9]\n",
    "rank = [9, 4, 6, 4, 8, 5, 7, 9, 7, 9, 5, 7, 9]\n",
    "nationality = ['UK', 'USA', 'N', 'USA', 'USA', 'UK', 'N', 'UK', 'N', 'N', 'USA', 'UK', 'UK']\n",
    "go = ['NO', 'NO', 'NO', 'NO', 'YES', 'NO', 'YES', 'YES', 'YES', 'YES', 'NO', 'YES', 'YES']\n",
    "\n",
    "# Create the DataFrame\n",
    "df = pd.DataFrame({\n",
    "    'Age': age,\n",
    "    'Experience': experience,\n",
    "    'Rank': rank,\n",
    "    'Nationality': nationality,\n",
    "    'Go': go\n",
    "})\n",
    "\n",
    "print(df)"
   ]
  },
  {
   "cell_type": "code",
   "execution_count": null,
   "id": "d9ec3927",
   "metadata": {},
   "outputs": [],
   "source": [
    "#for decision tree convert non numerical values into a numerical value\n",
    "d = {'UK': 0, 'USA': 1, 'N': 2}\n",
    "\n",
    "df[\"Nationality\"] = df[\"Nationality\"].map(d)\n",
    "\n",
    "d = {'YES': 1, 'NO': 0}\n",
    "\n",
    "df['Age'] = df[\"Age\"].map(d)\n"
   ]
  }
 ],
 "metadata": {
  "kernelspec": {
   "display_name": "Python 3 (ipykernel)",
   "language": "python",
   "name": "python3"
  },
  "language_info": {
   "codemirror_mode": {
    "name": "ipython",
    "version": 3
   },
   "file_extension": ".py",
   "mimetype": "text/x-python",
   "name": "python",
   "nbconvert_exporter": "python",
   "pygments_lexer": "ipython3",
   "version": "3.11.5"
  }
 },
 "nbformat": 4,
 "nbformat_minor": 5
}
