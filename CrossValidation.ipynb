{
 "cells": [
  {
   "cell_type": "markdown",
   "id": "3d21f913",
   "metadata": {},
   "source": [
    "# Cross Validation"
   ]
  },
  {
   "cell_type": "code",
   "execution_count": 16,
   "id": "4897a646",
   "metadata": {},
   "outputs": [],
   "source": [
    "from sklearn import datasets\n",
    "\n",
    "X, y = datasets.load_iris(return_X_y=True)\n"
   ]
  },
  {
   "cell_type": "markdown",
   "id": "7be40b8b",
   "metadata": {},
   "source": [
    "Methods of Cross validation"
   ]
  },
  {
   "cell_type": "markdown",
   "id": "e69332e5",
   "metadata": {},
   "source": [
    "# 1. K-fold cross validation"
   ]
  },
  {
   "cell_type": "code",
   "execution_count": 17,
   "id": "996df8e3",
   "metadata": {},
   "outputs": [],
   "source": [
    "from sklearn.tree import DecisionTreeClassifier\n",
    "from sklearn.model_selection import KFold, cross_val_score\n",
    "\n",
    "clf = DecisionTreeClassifier(random_state=42)\n",
    "\n",
    "k_folds = KFold(n_splits=5)\n",
    "scores = cross_val_score(clf, X, y, cv = k_folds)"
   ]
  },
  {
   "cell_type": "code",
   "execution_count": 18,
   "id": "6aac7c88",
   "metadata": {},
   "outputs": [
    {
     "name": "stdout",
     "output_type": "stream",
     "text": [
      "Cross validation scores:  [1.         1.         0.83333333 0.93333333 0.8       ]\n",
      "Average CV score:  0.9133333333333333\n",
      "Number of CV scores used in average 5\n"
     ]
    }
   ],
   "source": [
    "print(\"Cross validation scores: \", scores)\n",
    "print(\"Average CV score: \", scores.mean())\n",
    "print(\"Number of CV scores used in average\", len(scores))"
   ]
  },
  {
   "cell_type": "markdown",
   "id": "798cb777",
   "metadata": {},
   "source": [
    "# 2. Stratified K-fold"
   ]
  },
  {
   "cell_type": "code",
   "execution_count": 19,
   "id": "b7536cc6",
   "metadata": {},
   "outputs": [],
   "source": [
    "from sklearn.model_selection import StratifiedKFold, cross_val_score\n",
    "\n",
    "sk_folds = StratifiedKFold(n_splits=5)\n",
    "\n",
    "scores = cross_val_score(clf, X, y, cv = sk_folds)"
   ]
  },
  {
   "cell_type": "code",
   "execution_count": 20,
   "id": "a387415e",
   "metadata": {},
   "outputs": [
    {
     "name": "stdout",
     "output_type": "stream",
     "text": [
      "Stratified cross validation Scores:  [0.96666667 0.96666667 0.9        0.93333333 1.        ]\n",
      "Average CV score:  0.9533333333333334\n",
      "Number of CV scores used in average:  5\n"
     ]
    }
   ],
   "source": [
    "print(\"Stratified cross validation Scores: \", scores)\n",
    "print(\"Average CV score: \", scores.mean())\n",
    "print(\"Number of CV scores used in average: \", len(scores))"
   ]
  },
  {
   "cell_type": "markdown",
   "id": "589a71a2",
   "metadata": {},
   "source": [
    "# 3. Leave One out "
   ]
  },
  {
   "cell_type": "code",
   "execution_count": 21,
   "id": "b84442c9",
   "metadata": {},
   "outputs": [
    {
     "name": "stdout",
     "output_type": "stream",
     "text": [
      "Cross Vaidation scores:  [1. 1. 1. 1. 1. 1. 1. 1. 1. 1. 1. 1. 1. 1. 1. 1. 1. 1. 1. 1. 1. 1. 1. 1.\n",
      " 1. 1. 1. 1. 1. 1. 1. 1. 1. 1. 1. 1. 1. 1. 1. 1. 1. 1. 1. 1. 1. 1. 1. 1.\n",
      " 1. 1. 1. 1. 1. 1. 1. 1. 1. 0. 1. 1. 1. 1. 1. 1. 1. 1. 1. 1. 1. 1. 0. 1.\n",
      " 1. 1. 1. 1. 1. 0. 1. 1. 1. 1. 1. 0. 1. 1. 1. 1. 1. 1. 1. 1. 1. 1. 1. 1.\n",
      " 1. 1. 1. 1. 1. 1. 1. 1. 1. 1. 0. 1. 1. 1. 1. 1. 1. 1. 1. 1. 1. 1. 1. 0.\n",
      " 1. 1. 1. 1. 1. 1. 1. 1. 1. 0. 1. 1. 1. 0. 1. 1. 1. 1. 0. 1. 1. 1. 1. 1.\n",
      " 1. 1. 1. 1. 1. 1.]\n",
      "Average Cv score:  0.94\n",
      "Number of CV scores used in the averge: 150\n"
     ]
    }
   ],
   "source": [
    "from sklearn.model_selection import LeaveOneOut, cross_val_score\n",
    "\n",
    "loo = LeaveOneOut()\n",
    "\n",
    "scores = cross_val_score(clf, X, y, cv = loo)\n",
    "\n",
    "print(\"Cross Vaidation scores: \", scores)\n",
    "print(\"Average Cv score: \", scores.mean())\n",
    "print(f\"Number of CV scores used in the averge: {len(scores)}\")"
   ]
  },
  {
   "cell_type": "markdown",
   "id": "dcf0b070",
   "metadata": {},
   "source": [
    "# 4. Leave P out Cross Valadation"
   ]
  },
  {
   "cell_type": "code",
   "execution_count": 22,
   "id": "a14244cc",
   "metadata": {},
   "outputs": [],
   "source": [
    "from sklearn.model_selection import LeavePOut, cross_val_score\n",
    "\n",
    "lpout = LeavePOut(p=2)\n",
    "\n",
    "scores = cross_val_score(clf, X, y, cv = lpout)"
   ]
  },
  {
   "cell_type": "code",
   "execution_count": 23,
   "id": "1f303b8d",
   "metadata": {},
   "outputs": [
    {
     "name": "stdout",
     "output_type": "stream",
     "text": [
      "Cross validation lpo scores : [1. 1. 1. ... 1. 1. 1.]\n",
      "Average Cv score: 0.9382997762863534\n",
      "Number of CV scores used in average : 11175\n"
     ]
    }
   ],
   "source": [
    "print(f\"Cross validation lpo scores : {scores}\")\n",
    "print(f\"Average Cv score: {scores.mean()}\")\n",
    "print(f\"Number of CV scores used in average : {len(scores)}\")"
   ]
  },
  {
   "cell_type": "markdown",
   "id": "3470a93c",
   "metadata": {},
   "source": [
    "# 5. Shuffle Split"
   ]
  },
  {
   "cell_type": "code",
   "execution_count": 25,
   "id": "667b7ebe",
   "metadata": {},
   "outputs": [],
   "source": [
    "from sklearn.model_selection import ShuffleSplit, cross_val_score\n",
    "\n",
    "ss = ShuffleSplit(train_size=0.6, test_size=0.3, n_splits = 5)\n",
    "\n",
    "scores = cross_val_score(clf, X, y, cv = ss)"
   ]
  },
  {
   "cell_type": "code",
   "execution_count": null,
   "id": "92dfb59b",
   "metadata": {},
   "outputs": [],
   "source": [
    "print(f\"Cross validation ss\")"
   ]
  }
 ],
 "metadata": {
  "kernelspec": {
   "display_name": "Python 3 (ipykernel)",
   "language": "python",
   "name": "python3"
  },
  "language_info": {
   "codemirror_mode": {
    "name": "ipython",
    "version": 3
   },
   "file_extension": ".py",
   "mimetype": "text/x-python",
   "name": "python",
   "nbconvert_exporter": "python",
   "pygments_lexer": "ipython3",
   "version": "3.11.5"
  }
 },
 "nbformat": 4,
 "nbformat_minor": 5
}
