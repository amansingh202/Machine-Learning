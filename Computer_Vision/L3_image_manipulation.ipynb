{
 "cells": [
  {
   "cell_type": "code",
   "execution_count": 1,
   "id": "f0b3cefb",
   "metadata": {},
   "outputs": [],
   "source": [
    "import matplotlib.pyplot as plt\n",
    "from PIL import Image\n",
    "import numpy as np"
   ]
  },
  {
   "cell_type": "markdown",
   "id": "96dbf078",
   "metadata": {},
   "source": [
    "# Copying Images\n",
    "If you want to reassign an array to another variable, you should use the copy method."
   ]
  },
  {
   "cell_type": "code",
   "execution_count": null,
   "id": "fe5ded61",
   "metadata": {},
   "outputs": [],
   "source": [
    "baboon = np.array(Image.open(baboon.png))"
   ]
  }
 ],
 "metadata": {
  "kernelspec": {
   "display_name": "Python 3 (ipykernel)",
   "language": "python",
   "name": "python3"
  },
  "language_info": {
   "codemirror_mode": {
    "name": "ipython",
    "version": 3
   },
   "file_extension": ".py",
   "mimetype": "text/x-python",
   "name": "python",
   "nbconvert_exporter": "python",
   "pygments_lexer": "ipython3",
   "version": "3.11.5"
  }
 },
 "nbformat": 4,
 "nbformat_minor": 5
}
