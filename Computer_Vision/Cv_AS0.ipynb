{
  "nbformat": 4,
  "nbformat_minor": 0,
  "metadata": {
    "colab": {
      "provenance": [],
      "authorship_tag": "ABX9TyNy6/w7jIgWPGw3V7gDacLD",
      "include_colab_link": true
    },
    "kernelspec": {
      "name": "python3",
      "display_name": "Python 3"
    },
    "language_info": {
      "name": "python"
    }
  },
  "cells": [
    {
      "cell_type": "markdown",
      "metadata": {
        "id": "view-in-github",
        "colab_type": "text"
      },
      "source": [
        "<a href=\"https://colab.research.google.com/github/amansingh202/Machine-Learning/blob/main/Computer_Vision/Cv_AS0.ipynb\" target=\"_parent\"><img src=\"https://colab.research.google.com/assets/colab-badge.svg\" alt=\"Open In Colab\"/></a>"
      ]
    },
    {
      "cell_type": "markdown",
      "source": [
        "Name: Aman Kumar <br>\n",
        "Hawk Id: A20538809 <br>\n",
        "CS 512 (Computer Vision)"
      ],
      "metadata": {
        "id": "HYNH59ogg_yb"
      }
    },
    {
      "cell_type": "markdown",
      "source": [
        "**Part A: Vector Operations**\n",
        "Let, p = [2,-1,4], q = [0,3,5], r = [1,-2,2]"
      ],
      "metadata": {
        "id": "BPe34HnkgPC8"
      }
    },
    {
      "cell_type": "markdown",
      "source": [
        "**Find:**\n",
        "1. 3p+2q"
      ],
      "metadata": {
        "id": "q6GlClGog0Jh"
      }
    },
    {
      "cell_type": "code",
      "source": [
        "#Solution:\n",
        "import numpy as np"
      ],
      "metadata": {
        "id": "8WiEQwl7g6uv"
      },
      "execution_count": 1,
      "outputs": []
    },
    {
      "cell_type": "code",
      "source": [
        "#Solution Part A: 1\n",
        "p = np.array([2, -1, 4])\n",
        "q = np.array([0, 3, 5])\n",
        "\n",
        "result = 3*p + 2*q\n",
        "result"
      ],
      "metadata": {
        "colab": {
          "base_uri": "https://localhost:8080/"
        },
        "id": "jI8jzK1whTlx",
        "outputId": "0495a760-9f1c-412b-8df0-838819e0b18d"
      },
      "execution_count": 4,
      "outputs": [
        {
          "output_type": "execute_result",
          "data": {
            "text/plain": [
              "array([ 6,  3, 22])"
            ]
          },
          "metadata": {},
          "execution_count": 4
        }
      ]
    },
    {
      "cell_type": "markdown",
      "source": [
        "1. ^p: a unit vector in the direction of p"
      ],
      "metadata": {
        "id": "-pE4dwT-iqcm"
      }
    },
    {
      "cell_type": "code",
      "source": [
        "#Solution\n",
        "magnitude_p = np.linalg.norm(p)\n",
        "unit_vector_p = p/magnitude_p\n",
        "unit_vector_p"
      ],
      "metadata": {
        "colab": {
          "base_uri": "https://localhost:8080/"
        },
        "id": "83lN-Qe0ht4D",
        "outputId": "348784da-76e3-4f4e-8c33-8195d27f7f60"
      },
      "execution_count": 6,
      "outputs": [
        {
          "output_type": "execute_result",
          "data": {
            "text/plain": [
              "array([ 0.43643578, -0.21821789,  0.87287156])"
            ]
          },
          "metadata": {},
          "execution_count": 6
        }
      ]
    },
    {
      "cell_type": "code",
      "source": [],
      "metadata": {
        "id": "X0VqFGqjjIyE"
      },
      "execution_count": null,
      "outputs": []
    }
  ]
}