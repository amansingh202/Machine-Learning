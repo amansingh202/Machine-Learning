{
  "nbformat": 4,
  "nbformat_minor": 0,
  "metadata": {
    "colab": {
      "provenance": [],
      "authorship_tag": "ABX9TyMGP9D04nEJyi2soRvI/Zvp",
      "include_colab_link": true
    },
    "kernelspec": {
      "name": "python3",
      "display_name": "Python 3"
    },
    "language_info": {
      "name": "python"
    }
  },
  "cells": [
    {
      "cell_type": "markdown",
      "metadata": {
        "id": "view-in-github",
        "colab_type": "text"
      },
      "source": [
        "<a href=\"https://colab.research.google.com/github/amansingh202/Machine-Learning/blob/main/Computer_Vision/CV_AS1.ipynb\" target=\"_parent\"><img src=\"https://colab.research.google.com/assets/colab-badge.svg\" alt=\"Open In Colab\"/></a>"
      ]
    },
    {
      "cell_type": "markdown",
      "source": [
        "Name: Aman Kumar <br>\n",
        "Hawk Id: A20538809 <br>\n",
        "CS 512 (Computer Vision) <br>\n",
        "Fall'24"
      ],
      "metadata": {
        "id": "bc4ix1JOpvCF"
      }
    },
    {
      "cell_type": "markdown",
      "source": [
        "# **Problem 1** <br>\n",
        "Homogeneous Coordinates Representation (2D): Let x = (2, 3) be a point in 2D Cartesian coordinates."
      ],
      "metadata": {
        "id": "tDZ-cxvjp7El"
      }
    },
    {
      "cell_type": "code",
      "source": [
        "x_cartesian = (2,3)\n",
        "\n",
        "#Convert the point x into homogeneous coordinates XH.\n",
        "x_h = (x_cartesian[0], x_cartesian[1], 1)\n",
        "\n",
        "print(f\"Homogeneous coordinates is {x_h}\")\n",
        "\n",
        "#Find another point in 2D homogeneous coordinates that is equivalent to the same point x (use a different scale).\n",
        "scale = 2\n",
        "x_h_2d = (x_h[0]*scale, x_h[1]*scale, x_h[2]*scale)\n",
        "\n",
        "print(f\"Another point in 2D homogeneous coordinates: {x_h_2d}\")\n",
        "\n",
        "#Convert both homogeneous coordinates back to Cartesian coordinates and verify they represent the same point.\n",
        "x_cartesian_from_x_h = (x_h[0]/x_h[2], x_h[1]/x_h[2])\n",
        "print(f\"x cartesian from XH is : {x_cartesian_from_x_h}\")\n",
        "\n",
        "x_cartesian_from_x_h_2d = (x_h_2d[0]/x_h_2d[2], x_h_2d[1]/x_h_2d[2])\n",
        "print(f\"x cartesian from XH 2D is :{x_cartesian_from_x_h_2d}\")\n"
      ],
      "metadata": {
        "colab": {
          "base_uri": "https://localhost:8080/"
        },
        "id": "ALC-fx87pyUY",
        "outputId": "adc7748d-42a7-4282-aeca-2bbea01eae1e"
      },
      "execution_count": 9,
      "outputs": [
        {
          "output_type": "stream",
          "name": "stdout",
          "text": [
            "Homogeneous coordinates is (2, 3, 1)\n",
            "Another point in 2D homogeneous coordinates: (4, 6, 2)\n",
            "x cartesian from XH is : (2.0, 3.0)\n",
            "x cartesian from XH 2D is :(2.0, 3.0)\n"
          ]
        }
      ]
    },
    {
      "cell_type": "markdown",
      "source": [
        "# **Problem 2** <br>\n",
        "Homogeneous Coordinates Representation (3D): Let y = (4, 5, 6) be a point in 3D Cartesian coordinates."
      ],
      "metadata": {
        "id": "LAEJmjoCuPc3"
      }
    },
    {
      "cell_type": "code",
      "source": [
        "y_cartesian = (4, 5, 6)\n",
        "\n",
        "#Convert y to its homogeneous coordinates representation.\n",
        "y_homo = (y_cartesian[0], y_cartesian[1], y_cartesian[2], 1)\n",
        "\n",
        "print(f\"Homogeneous coordinates of y is : {y_homo}\")\n",
        "\n",
        "#Now, consider the homogeneous point y = (4, 5, 6, 1). Scale it by a factor of 2 and convert back to Cartesian coordinates.\n",
        "scale = 2\n",
        "y_homo_scaled = (y_homo[0]*scale, y_homo[1]*scale, y_homo[2]*scale, y_homo[3]*scale)\n",
        "\n",
        "print(f\"Scaled homogeneous coordinates are: {y_homo_scaled}\")\n",
        "\n",
        "y_cartesian_from_3DH = (y_homo_scaled[0]/y_homo_scaled[3], y_homo_scaled[1]/y_homo_scaled[3], y_homo_scaled[2]/y_homo_scaled[3])\n",
        "\n",
        "print(f\"Cartesian coordinates from 3DH are : {y_cartesian_from_3DH}\")"
      ],
      "metadata": {
        "colab": {
          "base_uri": "https://localhost:8080/"
        },
        "id": "BohqYuz0uY4_",
        "outputId": "59c1a51b-3d2d-47b7-badd-37890a7dafef"
      },
      "execution_count": 16,
      "outputs": [
        {
          "output_type": "stream",
          "name": "stdout",
          "text": [
            "Homogeneous coordinates of y is : (4, 5, 6, 1)\n",
            "Scaled homogeneous coordinates are: (8, 10, 12, 2)\n",
            "Cartesian coordinates from 3DH are : (4.0, 5.0, 6.0)\n"
          ]
        }
      ]
    },
    {
      "cell_type": "markdown",
      "source": [
        "# **Problem 3** <br>\n",
        "Affine Transformations in 2D: Given a point p = (1, 2) in 2D, apply the following transformations: <br>\n",
        "Scale by a factor of .3 <br>\n",
        "• Rotate counterclockwise by 45°. <br>\n",
        "• Translate by (2, 3)."
      ],
      "metadata": {
        "id": "R0fnjOD5wQBF"
      }
    },
    {
      "cell_type": "code",
      "source": [
        "import numpy as np\n",
        "\n",
        "p_cartesian = (2,3)\n",
        "#Scale by a factor of 3\n",
        "S = np.array([[3,0,0],\n",
        "              [0,3,0],\n",
        "              [0,0,1]]) #Scaling matrix\n",
        "\n",
        "#Rotate counterclockwise by 45°\n",
        "theta = np.radians(45)\n",
        "sine_theta = np.sin(theta)\n",
        "cos_theta = np.cos(theta)\n",
        "\n",
        "#Rotation matrix is R\n",
        "R = np.array([[cos_theta, -sine_theta, 0],\n",
        "              [sine_theta, cos_theta, 0],\n",
        "              [0,0,1]])\n",
        "\n",
        "#Translate by (2, 3).\n",
        "T = np.array([[1,0,2],\n",
        "              [0,1,3],\n",
        "              [0,0,1]])\n",
        "\n",
        "#combined transformation C is C = T*R*S\n",
        "C = T @ R @ S\n",
        "\n",
        "#point p in 2DH coordinates\n",
        "p_H = (p_cartesian[0], p_cartesian[1], 1)\n",
        "\n",
        "#apply transformations to p, remember dimesnsion of C is 3x3\n",
        "p_transformed = C @ p_H\n",
        "\n",
        "print(f\"Transformed point P is : {p_transformed}\")"
      ],
      "metadata": {
        "colab": {
          "base_uri": "https://localhost:8080/"
        },
        "id": "N6OQOzCcwocj",
        "outputId": "f4d6eabb-8e07-4a35-85f0-7f61e6b35e6f"
      },
      "execution_count": 29,
      "outputs": [
        {
          "output_type": "stream",
          "name": "stdout",
          "text": [
            "Transformed point P is : [-0.12132034 13.60660172  1.        ]\n"
          ]
        }
      ]
    },
    {
      "cell_type": "markdown",
      "source": [
        "# **Problem 4**\n",
        "Inverse Transformations (2D): Let q = (3, 4) be a point in 2D, and assume the following transformations have been applied: <br>\n",
        "• Scale by 2. <br>\n",
        "• Rotate by 30°. <br>\n",
        "• Translate by (5,5)."
      ],
      "metadata": {
        "id": "ek72c9QF1OyF"
      }
    },
    {
      "cell_type": "code",
      "source": [
        "q_cartesian = (3, 4)\n",
        "\n",
        "#scale by 2\n",
        "S = np.array([[2,0,0],\n",
        "              [0,2,0],\n",
        "              [0,0,1]])\n",
        "\n",
        "#rotate by 30 degrees\n",
        "theta = np.radians(30)\n",
        "sine_theta = np.sin(theta)\n",
        "cos_theta = np.cos(theta)\n",
        "\n",
        "R = np.array([[cos_theta, -sine_theta, 0],\n",
        "              [sine_theta, cos_theta, 0],\n",
        "              [0,0,1]])\n",
        "\n",
        "#Translate by (5,5)\n",
        "T = np.array([[1,0,5],\n",
        "                  [0,1,5],\n",
        "                  [0,0,1]])\n",
        "\n",
        "\n",
        "#Matrix is\n",
        "M = T @ R @ S\n",
        "#homogeneous coordinates of q is\n",
        "q_H = (q_cartesian[0], q_cartesian[1], 1)\n",
        "\n",
        "#transformed q is\n",
        "q_transformed = M @ q_H\n",
        "print(f\"Transformed matrix is : {q_transformed}\")\n",
        "\n",
        "#inverse scale by 2\n",
        "S_inv = np.array([[1/2,0,0],\n",
        "                  [0,1/2,0],\n",
        "                  [0,0,1]])\n",
        "\n",
        "\n",
        "#inverse rotate by 30 degrees or rotation by -30 degrees\n",
        "\n",
        "R_inv = np.array([[cos_theta, sine_theta, 0],\n",
        "                  [-sine_theta,cos_theta,0],\n",
        "                  [0,0,1]])\n",
        "\n",
        "#Translate by (5,5), inverse translatio is (-5,-5)\n",
        "T_inv = np.array([[1,0,-5],\n",
        "                  [0,1,-5],\n",
        "                  [0,0,1]])\n",
        "\n",
        "\n",
        "#inverse matrix M trough matrix matrix multiplication is\n",
        "M_inv = S_inv @ R_inv @ T_inv\n",
        "\n",
        "\n",
        "\n",
        "q_original = M_inv @ q_transformed\n",
        "\n",
        "print(f\"Original Matrix is : {q_original}\")"
      ],
      "metadata": {
        "colab": {
          "base_uri": "https://localhost:8080/"
        },
        "id": "21nyuDKv1bJ5",
        "outputId": "afc27bf3-2bbf-4fde-dc1b-ea1d877ce629"
      },
      "execution_count": 56,
      "outputs": [
        {
          "output_type": "stream",
          "name": "stdout",
          "text": [
            "Transformed matrix is : [ 6.19615242 14.92820323  1.        ]\n",
            "Original Matrix is : [3. 4. 1.]\n"
          ]
        }
      ]
    },
    {
      "cell_type": "markdown",
      "source": [
        "# **Problem 5**\n",
        "Transformations Between 3D Coordinate Systems: Consider two 3D coordinate systems:<br>\n",
        "• System A has its origin at (1, 1, 1) and is aligned with the world axes.<br>\n",
        "• System B has its origin at (2, 2, 2) and is rotated by 90° around the Z-axis."
      ],
      "metadata": {
        "id": "hmI2lkNbJFoz"
      }
    },
    {
      "cell_type": "code",
      "source": [
        "#translation vector is\n",
        "system_A = np.array([1,1,1])\n",
        "system_B = np.array([2,2,2])\n",
        "t_vector = system_B - system_A\n",
        "\n",
        "\n",
        "#Translation matrix is\n",
        "T = np.array([[1,0,0,1],\n",
        "              [0,1,0,1],\n",
        "              [0,0,1,0],\n",
        "              [0,0,0,1]])\n",
        "\n",
        "#System B is rotated by 90° around the Z-axis.\n",
        "theta = np.radians(90)\n",
        "\n",
        "\n",
        "\n"
      ],
      "metadata": {
        "colab": {
          "base_uri": "https://localhost:8080/"
        },
        "id": "lwQ_CdXNJXuc",
        "outputId": "ed745712-7747-4159-c420-1757dfbc91c0"
      },
      "execution_count": 63,
      "outputs": [
        {
          "output_type": "stream",
          "name": "stdout",
          "text": [
            "1.5707963267948966\n"
          ]
        }
      ]
    },
    {
      "cell_type": "markdown",
      "source": [],
      "metadata": {
        "id": "MBGFihiypqBy"
      }
    }
  ]
}