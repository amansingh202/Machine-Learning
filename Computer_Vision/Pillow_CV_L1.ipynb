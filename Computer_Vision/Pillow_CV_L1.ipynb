{
 "cells": [
  {
   "cell_type": "markdown",
   "id": "a4b8f11c",
   "metadata": {},
   "source": [
    "# Image processing and computer vision tasks include displaying, cropping, flipping, rotating, image segmentation, classification, image restoration, image recognition, image generation. Also, working with images via the cloud requires storing, transmitting, and gathering images through the internet.\n",
    "\n",
    "Python is an excellent choice as it has many image processing tools, computer vision and artificial intelligence libraries. Finally, it has many libraries for working with files in the cloud and on the internet.\n",
    "\n",
    "A digital image is simply a file in your computer. In this lab, you will gain an understanding of these files and learn to work with these files with the Pillow Library (PIL)."
   ]
  },
  {
   "cell_type": "code",
   "execution_count": 2,
   "id": "edc752d5",
   "metadata": {},
   "outputs": [],
   "source": [
    "#concatenate two images side by side"
   ]
  },
  {
   "cell_type": "code",
   "execution_count": 3,
   "id": "f2d27a42",
   "metadata": {},
   "outputs": [],
   "source": [
    "def get_concat_h(im1, im2):\n",
    "    #https://note.nkmk.me/en/python-pillow-concat-images/\n",
    "    dst = Image.new('RGB', (im1.width + im2.width, im1.height))\n",
    "    dst.paste(im1, (0, 0))\n",
    "    dst.paste(im2, (im1.width, 0))\n",
    "    return dst"
   ]
  },
  {
   "cell_type": "code",
   "execution_count": 4,
   "id": "60716680",
   "metadata": {},
   "outputs": [],
   "source": [
    "my_image = \"lenna.png\""
   ]
  },
  {
   "cell_type": "code",
   "execution_count": 6,
   "id": "cfaefce3",
   "metadata": {},
   "outputs": [],
   "source": [
    "#current working directory"
   ]
  },
  {
   "cell_type": "code",
   "execution_count": 7,
   "id": "7777fc68",
   "metadata": {},
   "outputs": [
    {
     "data": {
      "text/plain": [
       "'/Users/amansingh/Desktop/Machine-Learning/Computer_Vision'"
      ]
     },
     "execution_count": 7,
     "metadata": {},
     "output_type": "execute_result"
    }
   ],
   "source": [
    "import os\n",
    "cwd = os.getcwd()\n",
    "cwd"
   ]
  },
  {
   "cell_type": "code",
   "execution_count": 8,
   "id": "dffd7d90",
   "metadata": {},
   "outputs": [
    {
     "data": {
      "text/plain": [
       "'/Users/amansingh/Desktop/Machine-Learning/Computer_Vision/lenna.png'"
      ]
     },
     "execution_count": 8,
     "metadata": {},
     "output_type": "execute_result"
    }
   ],
   "source": [
    "image_path = os.path.join(cwd, my_image)\n",
    "image_path"
   ]
  },
  {
   "cell_type": "code",
   "execution_count": null,
   "id": "c7272eed",
   "metadata": {},
   "outputs": [],
   "source": []
  }
 ],
 "metadata": {
  "kernelspec": {
   "display_name": "Python 3 (ipykernel)",
   "language": "python",
   "name": "python3"
  },
  "language_info": {
   "codemirror_mode": {
    "name": "ipython",
    "version": 3
   },
   "file_extension": ".py",
   "mimetype": "text/x-python",
   "name": "python",
   "nbconvert_exporter": "python",
   "pygments_lexer": "ipython3",
   "version": "3.11.5"
  }
 },
 "nbformat": 4,
 "nbformat_minor": 5
}
