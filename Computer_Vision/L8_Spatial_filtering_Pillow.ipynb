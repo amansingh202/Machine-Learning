{
 "cells": [
  {
   "cell_type": "markdown",
   "id": "331148b8",
   "metadata": {},
   "source": [
    "# Spatial_Fltering_Using_Pillow"
   ]
  },
  {
   "cell_type": "markdown",
   "id": "7daf032b",
   "metadata": {},
   "source": [
    "# Geometric Operations and Other Mathematical Tools with Pillow"
   ]
  },
  {
   "cell_type": "markdown",
   "id": "80c30e4d",
   "metadata": {},
   "source": [
    "Spatial Operations in Image Processing\n",
    "Spatial operations use pixels in a neighborhood to determine the present pixel value. Some applications include filtering and sharpening. They are used in many steps in computer vision, such as segmentation, and are a key building block in Artificial Intelligence algorithms.\n",
    "\n",
    "Linear Filtering  <br>\n",
    "Filtering Noise <br>\n",
    "Gaussian Blur <br>\n",
    "Image Sharpening <br>\n",
    "Edges <br>\n",
    "Median <br>"
   ]
  },
  {
   "cell_type": "code",
   "execution_count": 2,
   "id": "3fd70320",
   "metadata": {},
   "outputs": [],
   "source": [
    "import matplotlib.pyplot as plt\n",
    "import numpy as np\n",
    "from PIL import Image"
   ]
  },
  {
   "cell_type": "code",
   "execution_count": 3,
   "id": "1e542801",
   "metadata": {},
   "outputs": [],
   "source": [
    "def plot_image(image_1, image_2, title_1=\"Original\", title_2=\"New Image\"):\n",
    "    plt.figure(figsize=(10,10))\n",
    "    plt.subplot(1,2,1)\n",
    "    plt.imshow(image_1)\n",
    "    plt.title(title_1)\n",
    "    plt.subplot(1,2,2)\n",
    "    plt.imshow(image_2)\n",
    "    plt.title(title_2)\n",
    "    plt.show()"
   ]
  },
  {
   "cell_type": "markdown",
   "id": "2ecf963d",
   "metadata": {},
   "source": [
    "# Linear Filtering\n",
    "Filtering involves enhancing an image, for example, removing the noise from an image. Noise can be caused by a bad camera or bad image compression. The same factors that cause noise may lead to blurry images. We can apply filters to sharpen these images. Convolution is a standard way to filter an image. The filter is called the kernel and different kernels perform different tasks. In addition, Convolution is used for many of the most advanced artificial intelligence algorithms. We simply take the dot product of the kernel and an equally-sized portion of the image. We then shift the kernel and repeat."
   ]
  },
  {
   "cell_type": "code",
   "execution_count": null,
   "id": "1238afb3",
   "metadata": {},
   "outputs": [],
   "source": []
  }
 ],
 "metadata": {
  "kernelspec": {
   "display_name": "Python 3 (ipykernel)",
   "language": "python",
   "name": "python3"
  },
  "language_info": {
   "codemirror_mode": {
    "name": "ipython",
    "version": 3
   },
   "file_extension": ".py",
   "mimetype": "text/x-python",
   "name": "python",
   "nbconvert_exporter": "python",
   "pygments_lexer": "ipython3",
   "version": "3.11.5"
  }
 },
 "nbformat": 4,
 "nbformat_minor": 5
}
