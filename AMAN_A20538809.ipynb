{
 "cells": [
  {
   "cell_type": "markdown",
   "id": "911b3b37-3b29-4833-94f2-bfe47af00c83",
   "metadata": {},
   "source": [
    "# Lesson 6: Essay Writer"
   ]
  },
  {
   "cell_type": "code",
   "execution_count": null,
   "id": "f5762271-8736-4e94-9444-8c92bd0e8074",
   "metadata": {
    "height": 64
   },
   "outputs": [],
   "source": [
    "from dotenv import load_dotenv\n",
    "\n",
    "_ = load_dotenv()"
   ]
  },
  {
   "cell_type": "code",
   "execution_count": 33,
   "id": "2c96fe28-9498-493d-b751-f35424b63946",
   "metadata": {},
   "outputs": [],
   "source": [
    "import os\n",
    "from dotenv import find_dotenv\n",
    "\n",
    "_ = load_dotenv(find_dotenv())\n",
    "# Get the environment variable\n",
    "api_key = os.getenv(\"OPENAI_API_KEY\")\n",
    "#print(api_key)\n",
    "tavily = os.getenv(\"TAVILY_API_KEY\")"
   ]
  },
  {
   "cell_type": "code",
   "execution_count": 34,
   "id": "d0168aee-bce9-4d60-b827-f86a88187e31",
   "metadata": {
    "height": 148
   },
   "outputs": [],
   "source": [
    "from langgraph.graph import StateGraph, END\n",
    "from typing import TypedDict, Annotated, List\n",
    "import operator\n",
    "from langgraph.checkpoint.sqlite import SqliteSaver\n",
    "from langchain_core.messages import AnyMessage, SystemMessage, HumanMessage, AIMessage, ChatMessage\n",
    "from langgraph.checkpoint.memory import MemorySaver\n",
    "\n",
    "memory = SqliteSaver.from_conn_string(\":memory:\")"
   ]
  },
  {
   "cell_type": "code",
   "execution_count": 4,
   "id": "2589c5b6-6cc2-4594-9a17-dccdcf676054",
   "metadata": {
    "height": 149
   },
   "outputs": [],
   "source": [
    "class AgentState(TypedDict):\n",
    "    task: str\n",
    "    plan: str\n",
    "    draft: str\n",
    "    critique: str\n",
    "    content: List[str]\n",
    "    revision_number: int\n",
    "    max_revisions: int"
   ]
  },
  {
   "cell_type": "code",
   "execution_count": 5,
   "id": "a2ba84ec-c172-4de7-ac55-e3158a531b23",
   "metadata": {
    "height": 63
   },
   "outputs": [],
   "source": [
    "from langchain_openai import ChatOpenAI\n",
    "model = ChatOpenAI(model=\"gpt-4o-mini\", temperature=0)"
   ]
  },
  {
   "cell_type": "code",
   "execution_count": 6,
   "id": "876d5092-b8ef-4e38-b4d7-0e80c609bf7a",
   "metadata": {
    "height": 80
   },
   "outputs": [],
   "source": [
    "PLAN_PROMPT = \"\"\"You are an expert writer tasked with writing a high level outline of an essay. \\\n",
    "Write such an outline for the user provided topic. Give an outline of the essay along with any relevant notes \\\n",
    "or instructions for the sections.\"\"\""
   ]
  },
  {
   "cell_type": "code",
   "execution_count": 7,
   "id": "10084a02-2928-4945-9f7c-ad3f5b33caf7",
   "metadata": {
    "height": 165
   },
   "outputs": [],
   "source": [
    "WRITER_PROMPT = \"\"\"You are an essay assistant tasked with writing excellent 5-paragraph essays.\\\n",
    "Generate the best essay possible for the user's request and the initial outline. \\\n",
    "If the user provides critique, respond with a revised version of your previous attempts. \\\n",
    "Utilize all the information below as needed: \n",
    "\n",
    "------\n",
    "\n",
    "{content}\"\"\""
   ]
  },
  {
   "cell_type": "code",
   "execution_count": 8,
   "id": "714d1205-f8fc-4912-b148-2a45da99219c",
   "metadata": {
    "height": 80
   },
   "outputs": [],
   "source": [
    "REFLECTION_PROMPT = \"\"\"You are a teacher grading an essay submission. \\\n",
    "Generate critique and recommendations for the user's submission. \\\n",
    "Provide detailed recommendations, including requests for length, depth, style, etc.\"\"\""
   ]
  },
  {
   "cell_type": "code",
   "execution_count": 9,
   "id": "83588e70-254f-4f83-a510-c8ae81e729b0",
   "metadata": {
    "height": 97
   },
   "outputs": [],
   "source": [
    "RESEARCH_PLAN_PROMPT = \"\"\"You are a researcher charged with providing information that can \\\n",
    "be used when writing the following essay. Generate a list of search queries that will gather \\\n",
    "any relevant information. Only generate 3 queries max.\"\"\"\n"
   ]
  },
  {
   "cell_type": "code",
   "execution_count": 10,
   "id": "6cb3ef4c-58b3-401b-b104-0d51e553d982",
   "metadata": {
    "height": 97
   },
   "outputs": [],
   "source": [
    "RESEARCH_CRITIQUE_PROMPT = \"\"\"You are a researcher charged with providing information that can \\\n",
    "be used when making any requested revisions (as outlined below). \\\n",
    "Generate a list of search queries that will gather any relevant information. Only generate 3 queries max.\"\"\"\n"
   ]
  },
  {
   "cell_type": "code",
   "execution_count": 11,
   "id": "dc3293b7-a50c-43c8-a022-8975e1e444b8",
   "metadata": {
    "height": 81
   },
   "outputs": [],
   "source": [
    "from langchain_core.pydantic_v1 import BaseModel\n",
    "\n",
    "class Queries(BaseModel):\n",
    "    queries: List[str]"
   ]
  },
  {
   "cell_type": "code",
   "execution_count": 12,
   "id": "0722c3d4-4cbf-43bf-81b0-50f634c4ce61",
   "metadata": {
    "height": 80
   },
   "outputs": [],
   "source": [
    "from tavily import TavilyClient\n",
    "import os\n",
    "tavily = TavilyClient(api_key=os.environ[\"TAVILY_API_KEY\"])"
   ]
  },
  {
   "cell_type": "code",
   "execution_count": 13,
   "id": "6b2f82fe-3ec4-4917-be51-9fb10d1317fa",
   "metadata": {
    "height": 132
   },
   "outputs": [],
   "source": [
    "def plan_node(state: AgentState):\n",
    "    messages = [\n",
    "        SystemMessage(content=PLAN_PROMPT), \n",
    "        HumanMessage(content=state['task'])\n",
    "    ]\n",
    "    response = model.invoke(messages)\n",
    "    return {\"plan\": response.content}"
   ]
  },
  {
   "cell_type": "code",
   "execution_count": 14,
   "id": "ee0fe1c7-77e2-499c-a2f9-1f739bb6ddf0",
   "metadata": {
    "height": 216
   },
   "outputs": [],
   "source": [
    "def research_plan_node(state: AgentState):\n",
    "    queries = model.with_structured_output(Queries).invoke([\n",
    "        SystemMessage(content=RESEARCH_PLAN_PROMPT),\n",
    "        HumanMessage(content=state['task'])\n",
    "    ])\n",
    "    content = state['content'] or []\n",
    "    for q in queries.queries:\n",
    "        response = tavily.search(query=q, max_results=2)\n",
    "        for r in response['results']:\n",
    "            content.append(r['content'])\n",
    "    return {\"content\": content}"
   ]
  },
  {
   "cell_type": "code",
   "execution_count": 15,
   "id": "98f303b1-a4d0-408c-8cc0-515ff980717f",
   "metadata": {
    "height": 301
   },
   "outputs": [],
   "source": [
    "def generation_node(state: AgentState):\n",
    "    content = \"\\n\\n\".join(state['content'] or [])\n",
    "    user_message = HumanMessage(\n",
    "        content=f\"{state['task']}\\n\\nHere is my plan:\\n\\n{state['plan']}\")\n",
    "    messages = [\n",
    "        SystemMessage(\n",
    "            content=WRITER_PROMPT.format(content=content)\n",
    "        ),\n",
    "        user_message\n",
    "        ]\n",
    "    response = model.invoke(messages)\n",
    "    return {\n",
    "        \"draft\": response.content, \n",
    "        \"revision_number\": state.get(\"revision_number\", 1) + 1\n",
    "    }\n"
   ]
  },
  {
   "cell_type": "code",
   "execution_count": 16,
   "id": "bf4dcb93-6298-4cfd-b3ce-61dfac7fb35f",
   "metadata": {
    "height": 148
   },
   "outputs": [],
   "source": [
    "def reflection_node(state: AgentState):\n",
    "    messages = [\n",
    "        SystemMessage(content=REFLECTION_PROMPT), \n",
    "        HumanMessage(content=state['draft'])\n",
    "    ]\n",
    "    response = model.invoke(messages)\n",
    "    return {\"critique\": response.content}"
   ]
  },
  {
   "cell_type": "code",
   "execution_count": 17,
   "id": "932883a4-c722-42bb-aec0-b4f41c5c81a4",
   "metadata": {
    "height": 216
   },
   "outputs": [],
   "source": [
    "def research_critique_node(state: AgentState):\n",
    "    queries = model.with_structured_output(Queries).invoke([\n",
    "        SystemMessage(content=RESEARCH_CRITIQUE_PROMPT),\n",
    "        HumanMessage(content=state['critique'])\n",
    "    ])\n",
    "    content = state['content'] or []\n",
    "    for q in queries.queries:\n",
    "        response = tavily.search(query=q, max_results=2)\n",
    "        for r in response['results']:\n",
    "            content.append(r['content'])\n",
    "    return {\"content\": content}"
   ]
  },
  {
   "cell_type": "code",
   "execution_count": 18,
   "id": "ff362f49-dcf1-4ea1-a86c-e516e9ab897d",
   "metadata": {
    "height": 97
   },
   "outputs": [],
   "source": [
    "def should_continue(state):\n",
    "    if state[\"revision_number\"] > state[\"max_revisions\"]:\n",
    "        return END\n",
    "    return \"reflect\""
   ]
  },
  {
   "cell_type": "code",
   "execution_count": 19,
   "id": "a7e15a20-83d7-434c-8551-bce8dcc32be0",
   "metadata": {
    "height": 30
   },
   "outputs": [],
   "source": [
    "builder = StateGraph(AgentState)"
   ]
  },
  {
   "cell_type": "code",
   "execution_count": 20,
   "id": "54ab2c74-f32e-490c-a85d-932d11444210",
   "metadata": {
    "height": 114
   },
   "outputs": [],
   "source": [
    "builder.add_node(\"planner\", plan_node)\n",
    "builder.add_node(\"generate\", generation_node)\n",
    "builder.add_node(\"reflect\", reflection_node)\n",
    "builder.add_node(\"research_plan\", research_plan_node)\n",
    "builder.add_node(\"research_critique\", research_critique_node)"
   ]
  },
  {
   "cell_type": "code",
   "execution_count": 21,
   "id": "a833d3ce-bd31-4319-811d-decff226b970",
   "metadata": {
    "height": 30
   },
   "outputs": [],
   "source": [
    "builder.set_entry_point(\"planner\")"
   ]
  },
  {
   "cell_type": "code",
   "execution_count": 22,
   "id": "76e93cce-6eab-4c7c-ac64-e9993fdb30d6",
   "metadata": {
    "height": 115
   },
   "outputs": [],
   "source": [
    "builder.add_conditional_edges(\n",
    "    \"generate\", \n",
    "    should_continue, \n",
    "    {END: END, \"reflect\": \"reflect\"}\n",
    ")\n"
   ]
  },
  {
   "cell_type": "code",
   "execution_count": 23,
   "id": "fd2d0990-a932-423f-9ff3-5cada58c5f32",
   "metadata": {
    "height": 98
   },
   "outputs": [],
   "source": [
    "builder.add_edge(\"planner\", \"research_plan\")\n",
    "builder.add_edge(\"research_plan\", \"generate\")\n",
    "\n",
    "builder.add_edge(\"reflect\", \"research_critique\")\n",
    "builder.add_edge(\"research_critique\", \"generate\")"
   ]
  },
  {
   "cell_type": "code",
   "execution_count": 24,
   "id": "27cde654-64e2-48bc-80a9-0ed668ccb7dc",
   "metadata": {
    "height": 30
   },
   "outputs": [],
   "source": [
    "graph = builder.compile(checkpointer=MemorySaver())"
   ]
  },
  {
   "cell_type": "code",
   "execution_count": 25,
   "id": "4871f644-b131-4065-b7ce-b82c20a41f11",
   "metadata": {
    "height": 64,
    "scrolled": true
   },
   "outputs": [
    {
     "data": {
      "image/png": "[encoded data removed]",
      "text/plain": [
       "<IPython.core.display.Image object>"
      ]
     },
     "execution_count": 25,
     "metadata": {},
     "output_type": "execute_result"
    }
   ],
   "source": [
    "from IPython.display import Image\n",
    "\n",
    "Image(graph.get_graph().draw_png())"
   ]
  },
  {
   "cell_type": "code",
   "execution_count": 26,
   "id": "98f3be1d-cc4c-41fa-9863-3e386e88e305",
   "metadata": {
    "height": 148,
    "scrolled": true
   },
   "outputs": [
    {
     "name": "stdout",
     "output_type": "stream",
     "text": [
      "{'planner': {'plan': '**Essay Outline: The Difference Between LangChain and LangSmith**\\n\\n**I. Introduction**\\n   A. Definition of LangChain and LangSmith\\n      1. Brief overview of what each tool is designed for\\n      2. Importance of understanding the differences in the context of AI and language processing\\n   B. Purpose of the essay\\n      1. To compare and contrast LangChain and LangSmith\\n      2. To provide insights into their respective use cases and functionalities\\n\\n**II. Overview of LangChain**\\n   A. Description of LangChain\\n      1. Purpose and primary functions\\n      2. Key features and capabilities\\n   B. Use cases of LangChain\\n      1. Applications in natural language processing (NLP)\\n      2. Examples of industries or scenarios where LangChain is utilized\\n\\n**III. Overview of LangSmith**\\n   A. Description of LangSmith\\n      1. Purpose and primary functions\\n      2. Key features and capabilities\\n   B. Use cases of LangSmith\\n      1. Applications in AI development and deployment\\n      2. Examples of industries or scenarios where LangSmith is utilized\\n\\n**IV. Comparative Analysis**\\n   A. Key Differences\\n      1. Functional differences between LangChain and LangSmith\\n      2. Target audience and user base for each tool\\n   B. Strengths and Weaknesses\\n      1. Advantages of using LangChain\\n      2. Advantages of using LangSmith\\n      3. Limitations of each tool\\n   C. Integration and Compatibility\\n      1. How each tool integrates with other technologies\\n      2. Compatibility with existing systems and workflows\\n\\n**V. Conclusion**\\n   A. Summary of key points discussed\\n   B. Final thoughts on choosing between LangChain and LangSmith\\n      1. Recommendations based on specific needs and use cases\\n      2. Future trends in language processing tools and technologies\\n\\n**Notes/Instructions:**\\n- Ensure that each section is well-researched and includes relevant examples to illustrate points.\\n- Use clear and concise language to make complex concepts accessible to a broad audience.\\n- Consider including visuals or diagrams in the comparative analysis section to enhance understanding.\\n- Cite any sources or references used to support claims and provide further reading for interested readers.'}}\n",
      "{'research_plan': {'content': ['This report aims to provide a detailed analysis of the difference between LangChain and LangSmith based on the information available from various sources. LangChain: A Language Model Software Tool for Prototyping. LangChain is a language model software tool that is primarily focused on helping developers build prototypes. It provides a platform ...', \"In this blog, we'll delve into the differences between LangChain and LangSmith, their pros and cons, and when to use each one. LangChain. LangChain is an open-source Python package that provides a framework for building and deploying LLM applications. It allows developers to create prototypes quickly and easily, making it an ideal choice for ...\", 'The following are some of the key features of LangChain:\\nCustomizable prompts to suit your needs\\nBuilding chain link components for advanced use cases\\nCode customization for developing unique applications\\nModel integration for data augmented generation and accessing high-quality language model application like text-davinci-003\\nFlexible components to mix and match components for specific requirements\\nContext manipulation to set and guide context for improved accuracy and user experience\\nWith LangChain, you can create feature-rich applications that stand out from the crowd, thanks to its advanced customization options.\\n Following are some of the key resources that you can use when working with LangChain:\\nAI Libraries such as OpenAI and Hugging Face for AI models\\nExternal sources such as Notion, Wikipedia, and Google Drive for targeted data\\nLangChain documentation for guides on connecting and chaining components\\nOfficial Documentation\\nGitHub Repository\\nPyPI Package Repository\\nData augmentation to improve context-aware results through external data sources, indexing, and vector representations\\nLastly, engaging with the LangChain community and dedicated support slack channel can be beneficial if you encounter challenges or want to learn from others’ experiences. Day(s)\\n:\\nHour(s)\\n:\\nMinute(s)\\n:\\nSecond(s)\\nBlog\\nDay(s)\\n:\\nHour(s)\\n:\\nMinute(s)\\n:\\nSecond(s)\\n So, if you’re looking to stay ahead of the curve in the world of NLP, be sure to check out LangChain and see what it can do for you!\\nRelated Posts\\nText to Code Generator: Create Code in any Language\\nAI\\nHave you ever wondered if there was an easier way to write code? Generate Accurate Code in Seconds\\nAI, Data Mentor\\nWelcome to the exhilarating world of AI Code Generators, where imagination meets execution at lightning...\\nJava Code Generator: How to Generate Java Code Quickly\\nAI, Data Mentor, Java\\nIntegrating artificial intelligence (AI) and natural language processing (NLP) has revolutionized how...\\nC++ Code Generator:', \"Introduction. LangChain is a framework for developing applications powered by large language models (LLMs).. LangChain simplifies every stage of the LLM application lifecycle: Development: Build your applications using LangChain's open-source building blocks, components, and third-party integrations.Use LangGraph to build stateful agents with first-class streaming and human-in-the-loop support.\", \"Monitor with Peace of Mind: Maintain application stability with LangSmith's real-time monitoring features. But LangSmith goes beyond just development. It equips you with the power to delve into your LLM application's inner workings. This allows you to: Debug with Precision: Troubleshoot complex issues efficiently with LangSmith's debugging tools.\", \"LangSmith Cookbook: Real-world Lang Smith Examples\\nThe LangSmith Cookbook is not just a compilation of code snippets; it's a goldmine of hands-on examples designed to inspire and assist you in your projects. On This Page\\nLangSmith: Best Way to Test LLMs and AI Application\\nPublished on 12/17/2023\\nIf you're in the world of Language Learning Models (LLMs), you've probably heard of LangSmith. How to Download Feedback and Examples (opens in a new tab): Export predictions, evaluation results, and other information to add to your reports programmatically.\\n This article is your one-stop guide to understanding LangSmith, a platform that offers a plethora of features for debugging, testing, evaluating, and monitoring LLM applications.\\n How do I get access to LangSmith?\\nTo get access to LangSmith, you'll need to sign up for an account on their website.\"]}}\n",
      "{'generate': {'draft': \"**The Difference Between LangChain and LangSmith**\\n\\n**I. Introduction**\\n\\nIn the rapidly evolving landscape of artificial intelligence (AI) and natural language processing (NLP), tools like LangChain and LangSmith have emerged as pivotal resources for developers and researchers. LangChain is an open-source Python package designed to facilitate the rapid prototyping of applications powered by large language models (LLMs). In contrast, LangSmith serves as a comprehensive platform for debugging, testing, and monitoring LLM applications. Understanding the differences between these two tools is crucial for developers looking to leverage their capabilities effectively. This essay aims to compare and contrast LangChain and LangSmith, providing insights into their respective functionalities and use cases.\\n\\n**II. Overview of LangChain**\\n\\nLangChain is primarily focused on enabling developers to build and deploy LLM applications with ease. Its core purpose is to simplify the development process by offering a framework that includes customizable prompts, chain link components, and model integration capabilities. Key features of LangChain include context manipulation for improved accuracy, flexible components for tailored applications, and the ability to integrate with AI libraries such as OpenAI and Hugging Face. LangChain is particularly useful in various NLP applications, including chatbots, content generation, and data augmentation. Industries such as e-commerce, education, and customer service have successfully utilized LangChain to enhance user interactions and automate processes.\\n\\n**III. Overview of LangSmith**\\n\\nLangSmith, on the other hand, is designed to provide developers with tools for testing, debugging, and monitoring LLM applications. Its primary functions include real-time monitoring of application performance, debugging tools for troubleshooting complex issues, and a comprehensive cookbook filled with real-world examples to guide users. LangSmith is particularly beneficial in AI development and deployment, as it allows developers to gain insights into their applications' inner workings. Use cases for LangSmith span various industries, including finance, healthcare, and technology, where maintaining application stability and performance is critical.\\n\\n**IV. Comparative Analysis**\\n\\nWhen comparing LangChain and LangSmith, several key differences emerge. Functionally, LangChain excels in the development phase, providing a robust framework for building applications, while LangSmith focuses on the post-development phase, offering tools for monitoring and debugging. The target audience for LangChain includes developers looking to prototype quickly, whereas LangSmith appeals to those needing to ensure application reliability and performance. \\n\\nIn terms of strengths, LangChain's advantages lie in its flexibility and customization options, allowing developers to create unique applications tailored to specific needs. Conversely, LangSmith's strengths are found in its real-time monitoring and debugging capabilities, which help maintain application stability. However, both tools have limitations; LangChain may require more technical expertise to fully utilize its features, while LangSmith may not be as effective for initial application development.\\n\\nIntegration and compatibility are also important considerations. LangChain integrates seamlessly with various AI libraries and external data sources, making it versatile for different projects. LangSmith, while primarily focused on monitoring and debugging, can also integrate with existing systems to provide a comprehensive view of application performance.\\n\\n**V. Conclusion**\\n\\nIn summary, LangChain and LangSmith serve distinct yet complementary roles in the realm of AI and language processing. LangChain is ideal for developers seeking to build and prototype LLM applications, while LangSmith is essential for those focused on testing and monitoring these applications post-development. When choosing between the two, developers should consider their specific needs and use cases. As the field of language processing continues to evolve, both LangChain and LangSmith are likely to play significant roles in shaping the future of AI development and deployment. By understanding the strengths and functionalities of each tool, developers can make informed decisions that enhance their projects and drive innovation in the industry.\", 'revision_number': 2}}\n",
      "{'reflect': {'critique': '**Critique and Recommendations for the Essay Submission**\\n\\n**Overall Impression:**\\nYour essay provides a clear and structured comparison between LangChain and LangSmith, effectively outlining their functionalities, strengths, and use cases. The organization of the content is logical, and the writing is generally clear and concise. However, there are areas where you can enhance the depth, clarity, and engagement of your essay.\\n\\n**Detailed Recommendations:**\\n\\n1. **Length and Depth:**\\n   - **Expand on Use Cases:** While you mention industries that utilize both tools, consider providing specific examples or case studies that illustrate how each tool has been applied in real-world scenarios. This will add depth and make your analysis more relatable.\\n   - **Technical Details:** Include more technical details about how each tool operates. For instance, you could explain specific features or functionalities in greater detail, such as how LangChain\\'s context manipulation works or the types of debugging tools LangSmith offers.\\n\\n2. **Style and Tone:**\\n   - **Engagement:** To make the essay more engaging, consider incorporating anecdotes or hypothetical scenarios that illustrate the challenges developers face and how each tool addresses those challenges. This can help readers connect with the material on a personal level.\\n   - **Variety in Sentence Structure:** Vary your sentence structure to enhance readability. For example, mix shorter sentences with longer, more complex ones to create a more dynamic flow.\\n\\n3. **Comparative Analysis:**\\n   - **Visual Aids:** Consider including a table or chart that summarizes the key differences and similarities between LangChain and LangSmith. Visual aids can help readers quickly grasp the comparative aspects of your analysis.\\n   - **Deeper Analysis of Limitations:** You briefly mention the limitations of each tool. Expanding on these points could provide a more balanced view. Discuss potential scenarios where one tool might be preferred over the other despite its limitations.\\n\\n4. **Conclusion:**\\n   - **Future Implications:** In your conclusion, you mention that both tools will play significant roles in the future of AI development. Elaborate on this point by discussing potential trends in AI and NLP that could influence the evolution of these tools. This will provide a forward-looking perspective that can enrich your conclusion.\\n\\n5. **Citations and References:**\\n   - **Support Your Claims:** If you reference specific features or statistics, consider including citations or references to credible sources. This will strengthen your arguments and provide readers with resources for further exploration.\\n\\n6. **Proofreading:**\\n   - **Grammar and Clarity:** While the essay is generally well-written, a thorough proofreading session could help catch minor grammatical errors or awkward phrasing. For example, the phrase \"the rapidly evolving landscape of artificial intelligence (AI) and natural language processing (NLP)\" could be simplified to improve clarity.\\n\\n**Length Recommendation:**\\nAim for a total word count of around 1,500 to 2,000 words. This will allow you to delve deeper into each section while maintaining clarity and focus.\\n\\n**Final Thoughts:**\\nYour essay has a solid foundation and effectively communicates the differences between LangChain and LangSmith. By incorporating these recommendations, you can enhance the depth, engagement, and overall quality of your analysis. Keep up the good work, and I look forward to seeing your revisions!'}}\n",
      "{'research_critique': {'content': ['This report aims to provide a detailed analysis of the difference between LangChain and LangSmith based on the information available from various sources. LangChain: A Language Model Software Tool for Prototyping. LangChain is a language model software tool that is primarily focused on helping developers build prototypes. It provides a platform ...', \"In this blog, we'll delve into the differences between LangChain and LangSmith, their pros and cons, and when to use each one. LangChain. LangChain is an open-source Python package that provides a framework for building and deploying LLM applications. It allows developers to create prototypes quickly and easily, making it an ideal choice for ...\", 'The following are some of the key features of LangChain:\\nCustomizable prompts to suit your needs\\nBuilding chain link components for advanced use cases\\nCode customization for developing unique applications\\nModel integration for data augmented generation and accessing high-quality language model application like text-davinci-003\\nFlexible components to mix and match components for specific requirements\\nContext manipulation to set and guide context for improved accuracy and user experience\\nWith LangChain, you can create feature-rich applications that stand out from the crowd, thanks to its advanced customization options.\\n Following are some of the key resources that you can use when working with LangChain:\\nAI Libraries such as OpenAI and Hugging Face for AI models\\nExternal sources such as Notion, Wikipedia, and Google Drive for targeted data\\nLangChain documentation for guides on connecting and chaining components\\nOfficial Documentation\\nGitHub Repository\\nPyPI Package Repository\\nData augmentation to improve context-aware results through external data sources, indexing, and vector representations\\nLastly, engaging with the LangChain community and dedicated support slack channel can be beneficial if you encounter challenges or want to learn from others’ experiences. Day(s)\\n:\\nHour(s)\\n:\\nMinute(s)\\n:\\nSecond(s)\\nBlog\\nDay(s)\\n:\\nHour(s)\\n:\\nMinute(s)\\n:\\nSecond(s)\\n So, if you’re looking to stay ahead of the curve in the world of NLP, be sure to check out LangChain and see what it can do for you!\\nRelated Posts\\nText to Code Generator: Create Code in any Language\\nAI\\nHave you ever wondered if there was an easier way to write code? Generate Accurate Code in Seconds\\nAI, Data Mentor\\nWelcome to the exhilarating world of AI Code Generators, where imagination meets execution at lightning...\\nJava Code Generator: How to Generate Java Code Quickly\\nAI, Data Mentor, Java\\nIntegrating artificial intelligence (AI) and natural language processing (NLP) has revolutionized how...\\nC++ Code Generator:', \"Introduction. LangChain is a framework for developing applications powered by large language models (LLMs).. LangChain simplifies every stage of the LLM application lifecycle: Development: Build your applications using LangChain's open-source building blocks, components, and third-party integrations.Use LangGraph to build stateful agents with first-class streaming and human-in-the-loop support.\", \"Monitor with Peace of Mind: Maintain application stability with LangSmith's real-time monitoring features. But LangSmith goes beyond just development. It equips you with the power to delve into your LLM application's inner workings. This allows you to: Debug with Precision: Troubleshoot complex issues efficiently with LangSmith's debugging tools.\", \"LangSmith Cookbook: Real-world Lang Smith Examples\\nThe LangSmith Cookbook is not just a compilation of code snippets; it's a goldmine of hands-on examples designed to inspire and assist you in your projects. On This Page\\nLangSmith: Best Way to Test LLMs and AI Application\\nPublished on 12/17/2023\\nIf you're in the world of Language Learning Models (LLMs), you've probably heard of LangSmith. How to Download Feedback and Examples (opens in a new tab): Export predictions, evaluation results, and other information to add to your reports programmatically.\\n This article is your one-stop guide to understanding LangSmith, a platform that offers a plethora of features for debugging, testing, evaluating, and monitoring LLM applications.\\n How do I get access to LangSmith?\\nTo get access to LangSmith, you'll need to sign up for an account on their website.\", '1. Today I introduce LangChain, an outstanding platform made especially for language models, and its use cases. With LangChain we can easily replace components by seamlessly integrating various ...', \"The company has 70+ businesses in fields such as\\nLangChain Partners with CommandBar on their Copilot User Assistant\\nCommandBar is a user assistance platform that helps software companies make their products easy to use by capturing and predicting user intent, and then delivering\\nLangChain partners with Elastic to launch the Elastic AI Assistant\\nElastic, a leading search analytics company, serving over 20k customers worldwide, enables organizations to securely harness search-powered AI so anyone can find the answers they\\nAlly Financial Collaborates with LangChain to Deliver Critical Coding Module to Mask Personal Identifying Information in a Compliant and Safe Manner\\nAlly Financial, the largest digital-only bank in the US and a leading auto lender, has recently collaborated with LangChain to release the first initial coding\\nLLMs accelerate Adyen's support team through smart-ticket routing and support agent copilot\\nChallenge\\nAs global commerce accelerates, Adyen, a publicly-traded financial technology platform, is helping large companies like Meta, Uber, H&M, and Microsoft achieve their\\nLangChain Expands Collaboration with Microsoft\\n LangChain helps developers build context-aware reasoning applications and powers some of the most\\nMorningstar Intelligence Engine puts personalized investment insights at analysts' fingertips\\nChallenge\\nFinancial services is one of the most data-driven industries and financial professionals are always hungry for more data and better tools to drive value\\nRobocorp’s code generation assistant makes building Python automation easy for developers\\nChallenge\\nRobocorp was founded in 2019 out of frustration that the promise of developers being able to automate monotonous work hadn’t been realized. Case Studies\\nRakuten Group builds with LangChain and LangSmith to deliver premium products for its business clients and employees\\nRakuten Group is well known for operating one of the largest online shopping malls in Japan. Today, we’re thrilled to announce a collaboration between LangChain and Microsoft.\\n Right\\n© LangChain Blog 2024\", 'LangSmith by LangChain is a platform that simplifies LLM applications with debugging, testing, evaluating, and monitoring.', 'By providing tools for debugging, testing, evaluation, and usage metrics, LangSmith aims to bridge the gap between LLM prototypes and production-grade applications.', 'LangChain and LangSmith are two complementary tools that cater to different stages and requirements of LLM development. LangChain is ideal for early-stage prototyping and small-scale applications, while LangSmith is better suited for large-scale, production-ready applications that require advanced debugging, testing, and monitoring capabilities', 'Langchain vs Langsmith: Unpacking the AI Language Model Showdown\\nOverview of Langchain and Langsmith\\nLangchain is a versatile open-source framework that enables you to build applications utilizing large language models (LLM) like GPT-3. Check out our free WhatsApp channel to stay educated on LLM developments:\\nJoin the Finxter Academy and unlock access to premium courses 👑 to certify your skills in exponential technologies and programming.\\n Frequently Asked Questions\\nWhether you’re trying to figure out which tool fits your needs or you’re just getting started with language model automation, these FAQs will help shed light on the common curiosities about Langchain and LangSmith.\\n The best way to find out is to reach out to them through the LangSmith Walkthrough page or to inquire about access directly through their support channels.\\n Here’s how you might start a simple Langchain project in Python:\\nTo integrate LangSmith, you could write something like this:\\nYou’re not limited to Python, though.']}}\n",
      "{'generate': {'draft': \"**The Difference Between LangChain and LangSmith**\\n\\n**I. Introduction**\\n\\nIn the rapidly evolving landscape of artificial intelligence (AI) and natural language processing (NLP), tools like LangChain and LangSmith have emerged as pivotal resources for developers and organizations. LangChain is an open-source framework designed to facilitate the development of applications powered by large language models (LLMs), while LangSmith serves as a platform that enhances the debugging, testing, and monitoring of these applications. Understanding the differences between these two tools is crucial for developers looking to optimize their workflows and achieve their project goals. This essay aims to compare and contrast LangChain and LangSmith, providing insights into their respective functionalities and use cases.\\n\\n**II. Overview of LangChain**\\n\\nLangChain is primarily focused on enabling developers to build and deploy LLM applications efficiently. Its core purpose is to simplify the prototyping process, allowing users to create applications that leverage the capabilities of language models like GPT-3. Key features of LangChain include customizable prompts, the ability to build chain link components for complex use cases, and model integration for data-augmented generation. These features make LangChain particularly suitable for applications in NLP, such as chatbots, content generation, and automated customer support. Industries such as e-commerce, finance, and education have successfully utilized LangChain to enhance user engagement and streamline operations.\\n\\n**III. Overview of LangSmith**\\n\\nIn contrast, LangSmith is designed to support the later stages of LLM application development, focusing on debugging, testing, and monitoring. It provides developers with tools to troubleshoot complex issues, evaluate application performance, and maintain stability in production environments. Key features of LangSmith include real-time monitoring, advanced debugging tools, and a comprehensive cookbook filled with practical examples. LangSmith is particularly beneficial for organizations that require robust testing and evaluation processes, making it ideal for industries such as healthcare, finance, and technology, where application reliability is paramount.\\n\\n**IV. Comparative Analysis**\\n\\nWhen comparing LangChain and LangSmith, several key differences emerge. Functionally, LangChain excels in the prototyping phase, while LangSmith is tailored for production-grade applications. The target audience for LangChain includes developers and startups looking to innovate quickly, whereas LangSmith appeals to larger organizations that prioritize application stability and performance. Each tool has its strengths and weaknesses; LangChain's advantages lie in its flexibility and ease of use, while LangSmith's strengths are found in its comprehensive monitoring and debugging capabilities. However, LangChain may lack the advanced testing features that LangSmith offers, and LangSmith may not be as user-friendly for those new to LLM development.\\n\\nIntegration and compatibility are also important considerations. LangChain seamlessly integrates with various AI libraries and external data sources, allowing for a versatile development environment. On the other hand, LangSmith is designed to work alongside existing LLM applications, providing a layer of support that enhances their functionality without disrupting established workflows.\\n\\n**V. Conclusion**\\n\\nIn summary, LangChain and LangSmith serve distinct yet complementary roles in the development of LLM applications. LangChain is ideal for early-stage prototyping and experimentation, while LangSmith is better suited for organizations seeking to deploy and maintain robust applications. When choosing between the two, developers should consider their specific needs and use cases; those focused on innovation may prefer LangChain, while those requiring stability and advanced testing capabilities may opt for LangSmith. As the field of language processing continues to evolve, both tools are likely to play significant roles in shaping the future of AI development.\", 'revision_number': 3}}\n"
     ]
    }
   ],
   "source": [
    "thread = {\"configurable\": {\"thread_id\": \"1\"}}\n",
    "for s in graph.stream({\n",
    "    'task': \"what is the difference between langchain and langsmith\",\n",
    "    \"max_revisions\": 2,\n",
    "    \"revision_number\": 1,\n",
    "}, thread):\n",
    "    print(s)\n"
   ]
  },
  {
   "cell_type": "markdown",
   "id": "4d1664b5-75e0-46b7-9c2b-4ac9171f4597",
   "metadata": {},
   "source": [
    "## Essay Writer Interface"
   ]
  },
  {
   "cell_type": "markdown",
   "id": "51238dbf-f366-425f-acb7-a8836c1a8047",
   "metadata": {},
   "source": [
    "### Helper.py"
   ]
  },
  {
   "cell_type": "code",
   "execution_count": 27,
   "id": "3cdbd4f7-118e-49ab-8f07-51dd098566ce",
   "metadata": {},
   "outputs": [],
   "source": [
    "import warnings\n",
    "warnings.filterwarnings(\"ignore\")\n",
    "\n",
    "from helper import ewriter, writer_gui"
   ]
  },
  {
   "cell_type": "code",
   "execution_count": 29,
   "id": "f0ebfa79-c7fc-4aaa-b668-64e5b6cede80",
   "metadata": {
    "height": 64
   },
   "outputs": [
    {
     "name": "stdout",
     "output_type": "stream",
     "text": [
      "Running on local URL:  http://127.0.0.1:7861\n",
      "\n",
      "To create a public link, set `share=True` in `launch()`.\n"
     ]
    },
    {
     "data": {
      "text/html": [
       "<div><iframe src=\"http://127.0.0.1:7861/\" width=\"100%\" height=\"500\" allow=\"autoplay; camera; microphone; clipboard-read; clipboard-write;\" frameborder=\"0\" allowfullscreen></iframe></div>"
      ],
      "text/plain": [
       "<IPython.core.display.HTML object>"
      ]
     },
     "metadata": {},
     "output_type": "display_data"
    },
    {
     "name": "stderr",
     "output_type": "stream",
     "text": [
      "Traceback (most recent call last):\n",
      "  File \"C:\\Users\\SHREYAS\\venv-langgraph\\lib\\site-packages\\gradio\\queueing.py\", line 528, in process_events\n",
      "    response = await route_utils.call_process_api(\n",
      "  File \"C:\\Users\\SHREYAS\\venv-langgraph\\lib\\site-packages\\gradio\\route_utils.py\", line 270, in call_process_api\n",
      "    output = await app.get_blocks().process_api(\n",
      "  File \"C:\\Users\\SHREYAS\\venv-langgraph\\lib\\site-packages\\gradio\\blocks.py\", line 1908, in process_api\n",
      "    result = await self.call_function(\n",
      "  File \"C:\\Users\\SHREYAS\\venv-langgraph\\lib\\site-packages\\gradio\\blocks.py\", line 1485, in call_function\n",
      "    prediction = await anyio.to_thread.run_sync(\n",
      "  File \"C:\\Users\\SHREYAS\\venv-langgraph\\lib\\site-packages\\anyio\\to_thread.py\", line 56, in run_sync\n",
      "    return await get_async_backend().run_sync_in_worker_thread(\n",
      "  File \"C:\\Users\\SHREYAS\\venv-langgraph\\lib\\site-packages\\anyio\\_backends\\_asyncio.py\", line 2177, in run_sync_in_worker_thread\n",
      "    return await future\n",
      "  File \"C:\\Users\\SHREYAS\\venv-langgraph\\lib\\site-packages\\anyio\\_backends\\_asyncio.py\", line 859, in run\n",
      "    result = context.run(func, *args)\n",
      "  File \"C:\\Users\\SHREYAS\\venv-langgraph\\lib\\site-packages\\gradio\\utils.py\", line 808, in wrapper\n",
      "    response = f(*args, **kwargs)\n",
      "  File \"C:\\Users\\SHREYAS\\Downloads\\SPM\\Virtual lab 2\\helper.py\", line 307, in updt_disp\n",
      "    s_thread_ts = state.config['configurable']['thread_ts']\n",
      "KeyError: 'thread_ts'\n"
     ]
    }
   ],
   "source": [
    "MultiAgent = ewriter()\n",
    "app = writer_gui(MultiAgent.graph)\n",
    "app.launch()"
   ]
  },
  {
   "cell_type": "code",
   "execution_count": null,
   "id": "14fa923c-7e4f-42d1-965f-0f8ccd50fbd7",
   "metadata": {
    "height": 30
   },
   "outputs": [],
   "source": []
  },
  {
   "cell_type": "code",
   "execution_count": null,
   "id": "570c6245-2837-4ac5-983b-95f61f3ac10d",
   "metadata": {
    "height": 30
   },
   "outputs": [],
   "source": []
  },
  {
   "cell_type": "code",
   "execution_count": null,
   "id": "6b910915-b087-4d35-afff-0ec30a5852f1",
   "metadata": {
    "height": 30
   },
   "outputs": [],
   "source": []
  },
  {
   "cell_type": "code",
   "execution_count": null,
   "id": "c4feb6cc-5129-4a99-bb45-851bc07b5709",
   "metadata": {
    "height": 30
   },
   "outputs": [],
   "source": []
  },
  {
   "cell_type": "code",
   "execution_count": null,
   "id": "e85a02b4-96cc-4b01-8792-397a774eb499",
   "metadata": {
    "height": 30
   },
   "outputs": [],
   "source": []
  },
  {
   "cell_type": "code",
   "execution_count": null,
   "id": "ae8b86a6-5e20-4252-b1d8-009b8318345a",
   "metadata": {
    "height": 30
   },
   "outputs": [],
   "source": []
  },
  {
   "cell_type": "code",
   "execution_count": null,
   "id": "af925917-b746-48c9-ac74-62fefbe5246c",
   "metadata": {
    "height": 30
   },
   "outputs": [],
   "source": []
  },
  {
   "cell_type": "code",
   "execution_count": null,
   "id": "d5048f2c-4d82-49a5-9cb1-918d78b39f7b",
   "metadata": {
    "height": 30
   },
   "outputs": [],
   "source": []
  },
  {
   "cell_type": "code",
   "execution_count": null,
   "id": "393f7f1f-68b4-4462-bfa5-b6472ef1304a",
   "metadata": {
    "height": 30
   },
   "outputs": [],
   "source": []
  },
  {
   "cell_type": "code",
   "execution_count": null,
   "id": "43ac0aa9-baa7-4b58-889d-2118cc00c6b5",
   "metadata": {
    "height": 30
   },
   "outputs": [],
   "source": []
  },
  {
   "cell_type": "code",
   "execution_count": null,
   "id": "ed6098b9-e2a9-4767-8cb5-346db835c8d2",
   "metadata": {
    "height": 30
   },
   "outputs": [],
   "source": []
  },
  {
   "cell_type": "code",
   "execution_count": null,
   "id": "2d23cf2a-a179-44dc-9ae3-2eddda4b67b4",
   "metadata": {
    "height": 30
   },
   "outputs": [],
   "source": []
  },
  {
   "cell_type": "code",
   "execution_count": null,
   "id": "14a6005b-0221-4f5e-9be0-0580c1d03126",
   "metadata": {
    "height": 30
   },
   "outputs": [],
   "source": []
  },
  {
   "cell_type": "code",
   "execution_count": null,
   "id": "41c1ec12-f1c8-41ae-bb3e-5f28997b9b99",
   "metadata": {
    "height": 30
   },
   "outputs": [],
   "source": []
  },
  {
   "cell_type": "code",
   "execution_count": null,
   "id": "5c8c07d7-be17-4c17-82c5-6fe1db028b8b",
   "metadata": {
    "height": 30
   },
   "outputs": [],
   "source": []
  },
  {
   "cell_type": "code",
   "execution_count": null,
   "id": "04592c8e-1cfe-4b26-93b5-caf1ed1e7d24",
   "metadata": {
    "height": 30
   },
   "outputs": [],
   "source": []
  },
  {
   "cell_type": "code",
   "execution_count": null,
   "id": "6181c4a9-0e71-4f67-b71f-18a225e37202",
   "metadata": {
    "height": 30
   },
   "outputs": [],
   "source": []
  },
  {
   "cell_type": "code",
   "execution_count": null,
   "id": "e1c478a9-7bfe-49e2-8a7d-1536271f45a6",
   "metadata": {
    "height": 30
   },
   "outputs": [],
   "source": []
  },
  {
   "cell_type": "code",
   "execution_count": null,
   "id": "0a6d6771-3fad-4f37-9b32-45b36ad85c59",
   "metadata": {
    "height": 30
   },
   "outputs": [],
   "source": []
  },
  {
   "cell_type": "code",
   "execution_count": null,
   "id": "a3629eb3-655d-467a-b413-63f547c2de08",
   "metadata": {
    "height": 30
   },
   "outputs": [],
   "source": []
  },
  {
   "cell_type": "code",
   "execution_count": null,
   "id": "f772f251-2b61-4d10-97c5-61cef9207a76",
   "metadata": {
    "height": 30
   },
   "outputs": [],
   "source": []
  },
  {
   "cell_type": "code",
   "execution_count": null,
   "id": "0de92979-7ac5-4a7c-91c1-10806b7d529c",
   "metadata": {
    "height": 30
   },
   "outputs": [],
   "source": []
  },
  {
   "cell_type": "code",
   "execution_count": null,
   "id": "479c4325-f625-4bbf-9d74-cc58f10763f2",
   "metadata": {
    "height": 30
   },
   "outputs": [],
   "source": []
  },
  {
   "cell_type": "code",
   "execution_count": null,
   "id": "c4070be7-72da-42f9-a25d-8a6c628788b8",
   "metadata": {
    "height": 30
   },
   "outputs": [],
   "source": []
  },
  {
   "cell_type": "code",
   "execution_count": null,
   "id": "9289efbe-7033-4f32-8482-2039c5f9db90",
   "metadata": {
    "height": 30
   },
   "outputs": [],
   "source": []
  },
  {
   "cell_type": "code",
   "execution_count": null,
   "id": "25e480bb-22ab-4acb-a42c-71da3d04a5b1",
   "metadata": {
    "height": 30
   },
   "outputs": [],
   "source": []
  },
  {
   "cell_type": "code",
   "execution_count": null,
   "id": "90dea35c-7483-4b3d-b5e3-76eb3a0fe536",
   "metadata": {
    "height": 30
   },
   "outputs": [],
   "source": []
  },
  {
   "cell_type": "code",
   "execution_count": null,
   "id": "e9ac5730-a9d5-4ea4-8546-ebcb265cf1da",
   "metadata": {
    "height": 30
   },
   "outputs": [],
   "source": []
  },
  {
   "cell_type": "code",
   "execution_count": null,
   "id": "96e1f28b-46d8-4bcd-b2e4-730376ee7ccf",
   "metadata": {
    "height": 30
   },
   "outputs": [],
   "source": []
  },
  {
   "cell_type": "code",
   "execution_count": null,
   "id": "22ac7020-b4f4-4bd2-a875-ccee93f83d83",
   "metadata": {
    "height": 30
   },
   "outputs": [],
   "source": []
  },
  {
   "cell_type": "code",
   "execution_count": null,
   "id": "61f79eb9-d1c9-44b0-9efd-a8f9b380332a",
   "metadata": {
    "height": 30
   },
   "outputs": [],
   "source": []
  },
  {
   "cell_type": "code",
   "execution_count": null,
   "id": "ce509206-bde1-43e4-a88f-8a565539d357",
   "metadata": {
    "height": 30
   },
   "outputs": [],
   "source": []
  },
  {
   "cell_type": "code",
   "execution_count": null,
   "id": "bdba1590-9e7b-4c0f-9492-81a07d286c55",
   "metadata": {
    "height": 30
   },
   "outputs": [],
   "source": []
  },
  {
   "cell_type": "code",
   "execution_count": null,
   "id": "aa8fe4a8-5372-479d-b248-af7a295c86c1",
   "metadata": {
    "height": 30
   },
   "outputs": [],
   "source": []
  },
  {
   "cell_type": "code",
   "execution_count": null,
   "id": "7514720a-14bc-4552-ade5-fa03f86f4c73",
   "metadata": {
    "height": 30
   },
   "outputs": [],
   "source": []
  }
 ],
 "metadata": {
  "kernelspec": {
   "display_name": "Python 3 (ipykernel)",
   "language": "python",
   "name": "python3"
  },
  "language_info": {
   "codemirror_mode": {
    "name": "ipython",
    "version": 3
   },
   "file_extension": ".py",
   "mimetype": "text/x-python",
   "name": "python",
   "nbconvert_exporter": "python",
   "pygments_lexer": "ipython3",
   "version": "3.10.0"
  }
 },
 "nbformat": 4,
 "nbformat_minor": 5
}
