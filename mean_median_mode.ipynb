{
 "cells": [
  {
   "cell_type": "markdown",
   "id": "a085941b",
   "metadata": {},
   "source": [
    "# Mean of a dataset"
   ]
  },
  {
   "cell_type": "code",
   "execution_count": 3,
   "id": "a58f8aa1",
   "metadata": {},
   "outputs": [
    {
     "name": "stdout",
     "output_type": "stream",
     "text": [
      "89.76923076923077\n"
     ]
    }
   ],
   "source": [
    "\n",
    "import numpy as np\n",
    "speed = np.array([99,86,87,88,111,86,103,87,94,78,77,85,86])\n",
    "\n",
    "x = np.mean(speed)\n",
    "\n",
    "print(x)\n"
   ]
  },
  {
   "cell_type": "markdown",
   "id": "a4e3f6e0",
   "metadata": {},
   "source": [
    "# Median of a dataset\n",
    "Median is actually the middle value for a dateset\n"
   ]
  },
  {
   "cell_type": "code",
   "execution_count": 4,
   "id": "842ec482",
   "metadata": {},
   "outputs": [
    {
     "name": "stdout",
     "output_type": "stream",
     "text": [
      "87.0\n"
     ]
    }
   ],
   "source": [
    "med = np.median(speed)\n",
    "print(med)\n"
   ]
  },
  {
   "cell_type": "markdown",
   "id": "c11283ac",
   "metadata": {},
   "source": [
    "\n",
    "in case if there are two different values in the middle of the dataset then it wil take the average "
   ]
  },
  {
   "cell_type": "code",
   "execution_count": 8,
   "id": "4cac9de0",
   "metadata": {},
   "outputs": [
    {
     "name": "stdout",
     "output_type": "stream",
     "text": [
      "90.0\n"
     ]
    }
   ],
   "source": [
    "speed = np.array([77,78,85,86,104,117,94,98,99,77])\n",
    "med = np.median(speed)\n",
    "print(med)"
   ]
  },
  {
   "cell_type": "markdown",
   "id": "bd342d1c",
   "metadata": {},
   "source": [
    "# MODE \n",
    "is being used by the scipy library"
   ]
  },
  {
   "cell_type": "code",
   "execution_count": 9,
   "id": "d93d2d97",
   "metadata": {},
   "outputs": [
    {
     "name": "stdout",
     "output_type": "stream",
     "text": [
      "ModeResult(mode=77, count=2)\n"
     ]
    }
   ],
   "source": [
    "from scipy import stats\n",
    "x = stats.mode(speed)\n",
    "print(x)"
   ]
  },
  {
   "cell_type": "code",
   "execution_count": null,
   "id": "406c5d83",
   "metadata": {},
   "outputs": [],
   "source": []
  }
 ],
 "metadata": {
  "kernelspec": {
   "display_name": "Python 3 (ipykernel)",
   "language": "python",
   "name": "python3"
  },
  "language_info": {
   "codemirror_mode": {
    "name": "ipython",
    "version": 3
   },
   "file_extension": ".py",
   "mimetype": "text/x-python",
   "name": "python",
   "nbconvert_exporter": "python",
   "pygments_lexer": "ipython3",
   "version": "3.11.5"
  }
 },
 "nbformat": 4,
 "nbformat_minor": 5
}
