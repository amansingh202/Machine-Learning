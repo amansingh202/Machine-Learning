{
 "cells": [
  {
   "cell_type": "code",
   "execution_count": 3,
   "id": "c2c378b6",
   "metadata": {},
   "outputs": [
    {
     "name": "stdout",
     "output_type": "stream",
     "text": [
      "[0 0 0 ... 1 1 1]\n"
     ]
    }
   ],
   "source": [
    "import numpy as np\n",
    "from sklearn.metrics import accuracy_score, confusion_matrix, roc_auc_score, roc_curve\n",
    "\n",
    "n = 10000\n",
    "\n",
    "ratio = 0.95\n",
    "\n",
    "n_0 = int((1 - ratio) * n)\n",
    "n_1 = int((ratio*n))\n",
    "\n",
    "y = np.array([0]*n_0 + [1]*n_1)\n",
    "\n",
    "print(y)"
   ]
  },
  {
   "cell_type": "code",
   "execution_count": 6,
   "id": "d3df3ed4",
   "metadata": {},
   "outputs": [
    {
     "name": "stdout",
     "output_type": "stream",
     "text": [
      "[ True  True  True ...  True  True  True]\n"
     ]
    }
   ],
   "source": [
    "y_proba = np.array([1] * n)\n",
    "y_pred = y_proba > 0.5\n",
    "\n",
    "print(y_pred)"
   ]
  },
  {
   "cell_type": "code",
   "execution_count": 11,
   "id": "90c4c819",
   "metadata": {},
   "outputs": [
    {
     "name": "stdout",
     "output_type": "stream",
     "text": [
      "Accuracy score: 0.95\n",
      "Confusion matrix\n",
      "[[   0  500]\n",
      " [   0 9500]]\n",
      "Class 0 accuracy: 0.0\n",
      "Class 1 accuracy: 1.0\n"
     ]
    }
   ],
   "source": [
    "print(f\"Accuracy score: {accuracy_score(y, y_pred)}\")\n",
    "cf_mat = confusion_matrix(y, y_pred)\n",
    "print(\"Confusion matrix\")\n",
    "print(cf_mat)\n",
    "\n",
    "print(f\"Class 0 accuracy: {cf_mat[0][0]/ n_0}\")\n",
    "print(f\"Class 1 accuracy: {cf_mat[1][1]/ n_1}\")"
   ]
  },
  {
   "cell_type": "code",
   "execution_count": 18,
   "id": "07dd15ee",
   "metadata": {},
   "outputs": [
    {
     "name": "stdout",
     "output_type": "stream",
     "text": [
      "Accuracy Score: 0.7167\n",
      "Confusion Matrix\n",
      "[[ 358  142]\n",
      " [2691 6809]]\n",
      "Class 0 accuracy: 0.716\n",
      "Class 1 accuracy: 0.7167368421052631\n"
     ]
    }
   ],
   "source": [
    "y_proba_2 = np.array(np.random.uniform(0, 0.7, n_0).tolist() + np.random.uniform(0.3, 1.0, n_1).tolist())\n",
    "\n",
    "y_pred_2 = y_proba_2 > 0.5\n",
    "\n",
    "print(f\"Accuracy Score: {accuracy_score(y, y_pred_2)}\")\n",
    "cf_mat = confusion_matrix(y, y_pred_2)\n",
    "print(\"Confusion Matrix\")\n",
    "print(cf_mat)\n",
    "\n",
    "print(f\"Class 0 accuracy: {cf_mat[0][0] / n_0}\")\n",
    "print(f\"Class 1 accuracy: {cf_mat[1][1] / n_1}\")"
   ]
  },
  {
   "cell_type": "code",
   "execution_count": 19,
   "id": "b430d5f7",
   "metadata": {},
   "outputs": [],
   "source": [
    "import matplotlib.pyplot as plt\n",
    "\n",
    "def plot_roc_curve(true_y, y_prob):\n",
    "    \n",
    "    '''plot the roc curve based on the probabilities'''\n",
    "    \n",
    "    fpr, tpr, thresholds = roc_curve(true_y, y_prob)\n",
    "    \n",
    "    plt.plot(fpr, tpr)\n",
    "    plt.xlabel(\"False Positive rate\")\n",
    "    plt.ylabel(\"True positive rate\")"
   ]
  },
  {
   "cell_type": "code",
   "execution_count": null,
   "id": "686c9061",
   "metadata": {},
   "outputs": [],
   "source": []
  }
 ],
 "metadata": {
  "kernelspec": {
   "display_name": "Python 3 (ipykernel)",
   "language": "python",
   "name": "python3"
  },
  "language_info": {
   "codemirror_mode": {
    "name": "ipython",
    "version": 3
   },
   "file_extension": ".py",
   "mimetype": "text/x-python",
   "name": "python",
   "nbconvert_exporter": "python",
   "pygments_lexer": "ipython3",
   "version": "3.11.5"
  }
 },
 "nbformat": 4,
 "nbformat_minor": 5
}
