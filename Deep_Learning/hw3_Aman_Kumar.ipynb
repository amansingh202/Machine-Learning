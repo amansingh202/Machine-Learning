{
 "cells": [
  {
   "cell_type": "markdown",
   "metadata": {
    "id": "lQdGengOLmeR"
   },
   "source": [
    "# Homework 3\n",
    "\n",
    "Instruction:\n",
    "\n",
    "- There are 4 problems worth 5 points each.\n",
    "- Do not clear output when you submit your homework.\n",
    "- Submit a single `.ipynb` file.\n",
    "- Make sure everything runs.\n",
    "- Make sure the output of the last cell for `time_nonvectorized/time_vectorized` exists.\n",
    "- Nonvectorized time should be at least 2 times  slower than vectorized time.\n",
    "- Do not `import` anything other than `numpy`, `time` and `matplotlib.pyplot`\n",
    "- For full credit, do NOT use in your solution the following\n",
    "  - `for` loops\n",
    "  - `while` loops\n",
    "  - list comprehension, i.e., `[.... for ... in ...]`\n",
    "  - dictionary comprehension, i.e., `{.... for ... in ...}`\n",
    "  - `map`\n",
    "  - recursion"
   ]
  },
  {
   "cell_type": "code",
   "execution_count": 58,
   "metadata": {
    "id": "moVSAILjXk8X"
   },
   "outputs": [],
   "source": [
    "import numpy as np\n",
    "import matplotlib.pyplot as plt\n",
    "import time"
   ]
  },
  {
   "cell_type": "markdown",
   "metadata": {
    "id": "k1pQzGKBXkeF"
   },
   "source": [
    "# Background"
   ]
  },
  {
   "cell_type": "markdown",
   "metadata": {
    "id": "wJnWh2vGzGma"
   },
   "source": [
    "In \"standard\" binary classification, we have data\n",
    "$$\n",
    "x^{(1)}, \\dots, x^{(n)} \\in \\mathbb{R}^d\n",
    "$$\n",
    "where each sample is a *single* $d$-dimensional vector (and the labels $y^{(1)},\\dots, y^{(n)} \\in \\{ \\pm 1\\}$).\n"
   ]
  },
  {
   "cell_type": "markdown",
   "metadata": {
    "id": "s2A_NRPmJR2V"
   },
   "source": [
    "\n",
    "In this homework problem, you will consider a setting where each data point is itself a *collection* of $C$ vectors (for concreteness, take $C = 32$), i.e.,\n",
    "$$\n",
    "x^{(i)}\n",
    "=\n",
    "\\{x^{(i,1)}, \\dots, x^{(i,C)}  \\}  \\quad \\mbox{where} \\quad x^{(i,c)} \\in \\mathbb{R}^d \\quad \\mbox{for each} \\quad c =1,\\dots, C\n",
    "$$\n",
    "\n",
    "Alternatively, you can also view each $x^{(i)}$ as a matrix whose $c$-th column is $x^{(i,c)}$, i.e.,\n",
    "\n",
    "$$\n",
    "X^{(i)}\n",
    "=\n",
    "\\begin{bmatrix}\n",
    "x^{(i,1)} & \\cdots &\n",
    "x^{(i,C)}\n",
    "\\end{bmatrix} \\in \\mathbb{R}^{d \\times C} \\quad \\mbox{ is a } d \\times C \\mbox{ matrix}\n",
    "$$\n",
    "(and the labels $y^{(1)},\\dots, y^{(n)} \\in \\{ \\pm 1\\}$, as before).\n",
    "\n",
    "In the code, we will name\n",
    "- $C$ as `n_context`\n",
    "- $d$ as `n_features`\n",
    "- $n$ as `n_samples`"
   ]
  },
  {
   "cell_type": "code",
   "execution_count": 59,
   "metadata": {
    "id": "braPfXboMEmq"
   },
   "outputs": [],
   "source": [
    "n_context = 32\n",
    "n_features = 3\n",
    "n_samples = 100"
   ]
  },
  {
   "cell_type": "markdown",
   "metadata": {
    "id": "l_WlH7iIPpU6"
   },
   "source": [
    "## Load data\n"
   ]
  },
  {
   "cell_type": "code",
   "execution_count": 60,
   "metadata": {
    "id": "4SGEdAlMPq8h"
   },
   "outputs": [],
   "source": [
    "X = np.loadtxt(\"X.csv\", delimiter=\",\").reshape((n_samples, n_context, n_features))\n",
    "y = np.loadtxt(\"y.csv\", delimiter=\",\")"
   ]
  },
  {
   "cell_type": "markdown",
   "metadata": {
    "id": "-K2fy_75Lk_X"
   },
   "source": [
    "## The model"
   ]
  },
  {
   "cell_type": "markdown",
   "metadata": {
    "id": "qaAH7a2TJalM"
   },
   "source": [
    "Let $q$ be a positive integer smaller than $d$.\n",
    "You will consider a model of this form:\n",
    "\n",
    "Let\n",
    "\n",
    "$$\n",
    "\\theta = [ W^{(1)}, W^{(2)}, w^{(3)}]\n",
    "$$\n",
    "\n",
    "where\n",
    "\n",
    "$$\n",
    "W^{(1)} \\mbox{ and }  W^{(2)} \\in \\mathbb{R}^{q \\times d}\n",
    "$$\n",
    "\n",
    "$$\n",
    " w^{(3)} \\in \\mathbb{R}^{d}\n",
    "$$\n",
    "\n",
    "and\n",
    "\n",
    "$$\n",
    "f(X^{(i)} ; \\theta)\n",
    "=\n",
    "w^{(3) \\top}\n",
    "X^{(i)}\n",
    "\\mathrm{softmax} ( X^{(i)\\top} W^{(2)\\top } W^{(1)} x^{(i,C)})\n",
    "$$\n",
    "\n",
    "\n",
    "In the code, we will name\n",
    "- $q$ as `n_reduced`\n"
   ]
  },
  {
   "cell_type": "code",
   "execution_count": 61,
   "metadata": {
    "id": "yy7wMTyoRNjk"
   },
   "outputs": [],
   "source": [
    "n_reduced = 2"
   ]
  },
  {
   "cell_type": "markdown",
   "metadata": {
    "id": "hs5rD1GgRG7-"
   },
   "source": [
    "### A single forward pass\n",
    "\n",
    "Now, let us consider the \"forward\" function on a single data point"
   ]
  },
  {
   "cell_type": "code",
   "execution_count": 62,
   "metadata": {
    "id": "Fl_2K8qSRK_q"
   },
   "outputs": [],
   "source": [
    "i = 13\n",
    "Xi, yi = X[i], y[i]"
   ]
  },
  {
   "cell_type": "code",
   "execution_count": 63,
   "metadata": {
    "id": "rCFTHltHQpYJ"
   },
   "outputs": [],
   "source": [
    "np.random.seed(101)\n",
    "theta = {'w3':  np.random.randn(n_features),\n",
    "         'W2': np.random.randn(n_features, n_reduced),\n",
    "         'W1': np.random.randn(n_features, n_reduced)}\n",
    "W1, W2, w3 = theta['W1'], theta['W2'], theta['w3']"
   ]
  },
  {
   "cell_type": "markdown",
   "metadata": {
    "id": "gxkJtfmeR0d7"
   },
   "source": [
    "Let's compute it piece by piece, starting with\n",
    "$$\n",
    "f(X^{(i)} ; \\theta)\n",
    "=\n",
    "w^{(3) \\top}\n",
    "X^{(i)}\n",
    "\\mathrm{softmax} ( X^{(i)\\top} W^{(2)\\top }\n",
    " \\underbrace{W^{(1)} x^{(i,C)}}_{\\mbox{this part}})\n",
    "$$\n",
    "which we'll call it `query`"
   ]
  },
  {
   "cell_type": "code",
   "execution_count": 64,
   "metadata": {
    "id": "kzH9PVowRQtk"
   },
   "outputs": [],
   "source": [
    "query = Xi[-1] @ W1"
   ]
  },
  {
   "cell_type": "markdown",
   "metadata": {
    "id": "9y_FL2maSOYD"
   },
   "source": [
    "next\n",
    "$$\n",
    "f(X^{(i)} ; \\theta)\n",
    "=\n",
    "w^{(3) \\top}\n",
    "X^{(i)}\n",
    "\\mathrm{softmax} ( \\underbrace{ X^{(i)\\top} W^{(2)\\top } }_{\\mbox{this part}}\n",
    " {W^{(1)} x^{(i,C)}})\n",
    "$$\n",
    "which we'll call it `Key`"
   ]
  },
  {
   "cell_type": "code",
   "execution_count": 65,
   "metadata": {
    "id": "PdkunZeZSWea"
   },
   "outputs": [],
   "source": [
    "Key = Xi @ W2"
   ]
  },
  {
   "cell_type": "markdown",
   "metadata": {
    "id": "osXmD0ZHSbwC"
   },
   "source": [
    "Now,\n",
    "$$\n",
    "f(X^{(i)} ; \\theta)\n",
    "=\n",
    "w^{(3) \\top}\n",
    "X^{(i)}\n",
    "\\underbrace{\n",
    "\\mathrm{softmax} (  X^{(i)\\top} W^{(2)\\top }\n",
    " {W^{(1)} x^{(i,C)}})\n",
    " }_{\\mbox{this part}}\n",
    "$$\n"
   ]
  },
  {
   "cell_type": "code",
   "execution_count": 66,
   "metadata": {
    "id": "OkXylCVGSnPB"
   },
   "outputs": [],
   "source": [
    "expKq = np.exp(Key@query)\n",
    "softmaxKq = expKq / np.sum(expKq)"
   ]
  },
  {
   "cell_type": "markdown",
   "metadata": {
    "id": "TB5w_9PaTIyi"
   },
   "source": [
    "Finally, the whole thing:"
   ]
  },
  {
   "cell_type": "code",
   "execution_count": 67,
   "metadata": {
    "id": "TTkB82P1TISG"
   },
   "outputs": [
    {
     "data": {
      "text/plain": [
       "-1.4416064380452254"
      ]
     },
     "execution_count": 67,
     "metadata": {},
     "output_type": "execute_result"
    }
   ],
   "source": [
    "softmaxKq @ Xi @ w3"
   ]
  },
  {
   "cell_type": "markdown",
   "metadata": {
    "id": "tgLlHqD1TYTm"
   },
   "source": [
    "### (Non-vectorized) forward function"
   ]
  },
  {
   "cell_type": "code",
   "execution_count": 68,
   "metadata": {
    "id": "4uMFoOGVTXkl"
   },
   "outputs": [
    {
     "data": {
      "text/plain": [
       "-1.4416064380452254"
      ]
     },
     "execution_count": 68,
     "metadata": {},
     "output_type": "execute_result"
    }
   ],
   "source": [
    "def forward_nonvectorized(Xi, theta):\n",
    "    W1, W2, w3 = theta['W1'], theta['W2'], theta['w3']\n",
    "    query = Xi[-1] @ W1\n",
    "    Key = Xi @ W2\n",
    "    expKq = np.exp(Key@query)\n",
    "    softmaxKq = expKq / np.sum(expKq)\n",
    "    return softmaxKq @ Xi @ w3\n",
    "\n",
    "forward_nonvectorized(Xi, theta)"
   ]
  },
  {
   "cell_type": "markdown",
   "metadata": {
    "id": "zzvAEyTLUFOt"
   },
   "source": [
    "### Evaluating the (nonvectorized) forward function\n"
   ]
  },
  {
   "cell_type": "markdown",
   "metadata": {
    "id": "NApe0yMgUVLC"
   },
   "source": [
    "We could run the forward function list-wise"
   ]
  },
  {
   "cell_type": "code",
   "execution_count": 69,
   "metadata": {
    "id": "ddrXjgopUPTs"
   },
   "outputs": [
    {
     "data": {
      "text/plain": [
       "array([-0.60563255, -0.58440139,  0.3203104 , -0.39511221,  0.89575943])"
      ]
     },
     "execution_count": 69,
     "metadata": {},
     "output_type": "execute_result"
    }
   ],
   "source": [
    "np.array([forward_nonvectorized(Xi, theta) for Xi in X][:5])"
   ]
  },
  {
   "cell_type": "markdown",
   "metadata": {
    "id": "gdDJ3UizUpDx"
   },
   "source": [
    "But it is more efficient if we can run the forward function in \"vectorized-mode\"."
   ]
  },
  {
   "cell_type": "markdown",
   "metadata": {
    "id": "sK9K4gAASD8t"
   },
   "source": [
    "## Loss function\n",
    "\n",
    "We will use the binary logistic loss\n",
    "\n",
    "$$\n",
    "J_i(\\theta) := \\log(1 + \\exp(-y^{(i)} f(X^{(i)} ; \\theta)))\n",
    "$$\n",
    "\n",
    "So the overall loss/risk is\n",
    "\n",
    "$$\n",
    "J(\\theta) = \\frac{1}{\\mathtt{n\\_samples} } \\sum_{i=1}^{\\mathtt{n\\_samples}} J_i(\\theta)\n",
    "$$"
   ]
  },
  {
   "cell_type": "markdown",
   "metadata": {
    "id": "TajqkhYKTubI"
   },
   "source": [
    "# [5pts] Problem 1: Vectorize the forward function.\n"
   ]
  },
  {
   "cell_type": "code",
   "execution_count": 70,
   "metadata": {
    "id": "U3Agep5eTxIZ"
   },
   "outputs": [
    {
     "data": {
      "text/plain": [
       "array([-0.60563255, -0.58440139,  0.3203104 , -0.39511221,  0.89575943])"
      ]
     },
     "execution_count": 70,
     "metadata": {},
     "output_type": "execute_result"
    }
   ],
   "source": [
    "def forward(X, theta):\n",
    "    W1, W2, w3 = theta['W1'], theta['W2'], theta['w3']\n",
    "    query = X[:, -1, :] @ W1  \n",
    "    Key = X @ W2  \n",
    "    expKq = np.exp(np.einsum('ijk,ik->ij', Key, query))  \n",
    "    softmaxKq = expKq / np.sum(expKq, axis=1, keepdims=True)  \n",
    "    result = np.einsum('ij,ijk,k->i', softmaxKq, X, w3)  \n",
    "    return result\n",
    "\n",
    "forward(X,theta)[:5]"
   ]
  },
  {
   "cell_type": "markdown",
   "metadata": {
    "id": "SD-FVF-EQYwD"
   },
   "source": [
    "# [5pts] Problem 2: Vectorizing `dJdw3`"
   ]
  },
  {
   "cell_type": "markdown",
   "metadata": {
    "id": "x2znbp4ySnmf"
   },
   "source": [
    "First, we compute $ \\frac{\\partial J}{\\partial w^{(3)}}(\\theta)$. We won't actually work out the math, but the (non-vectorized, i.e., computing $\\frac{\\partial J_i}{\\partial w^{(3)}}(\\theta)$ one $i$ at a time then take the mean) code is as follows."
   ]
  },
  {
   "cell_type": "code",
   "execution_count": 71,
   "metadata": {
    "id": "R6RsHv1PlQgQ"
   },
   "outputs": [
    {
     "data": {
      "text/plain": [
       "array([ 0.12614065, -0.10058033, -0.27192813])"
      ]
     },
     "execution_count": 71,
     "metadata": {},
     "output_type": "execute_result"
    }
   ],
   "source": [
    "def compute_dJidw3_nonvectorized(Xi, yi, theta):\n",
    "    W1, W2, w3 = theta['W1'], theta['W2'], theta['w3']\n",
    "    query = Xi[-1] @ W1\n",
    "    Key = Xi @ W2\n",
    "    expKq = np.exp(Key@query)\n",
    "    softmaxKq = expKq / np.sum(expKq)\n",
    "    zi = softmaxKq @ Xi @ w3\n",
    "    return (softmaxKq @ Xi) * (-np.exp(-yi*zi))/(1+np.exp(-yi*zi)) * yi\n",
    "\n",
    "\n",
    "def compute_dJdw3_nonvectorized(X,y,theta):\n",
    "    return np.array([compute_dJidw3_nonvectorized(X[i], y[i],theta) for i in range(n_samples)]).mean(axis=0)\n",
    "compute_dJdw3_nonvectorized(X,y,theta)\n"
   ]
  },
  {
   "cell_type": "code",
   "execution_count": 72,
   "metadata": {
    "id": "pKVopZpX5Hd_"
   },
   "outputs": [
    {
     "data": {
      "text/plain": [
       "array([ 0.12614065, -0.10058033, -0.27192813])"
      ]
     },
     "execution_count": 72,
     "metadata": {},
     "output_type": "execute_result"
    }
   ],
   "source": [
    "def compute_dJdw3(X, y, theta):\n",
    "    W1, W2, w3 = theta['W1'], theta['W2'], theta['w3']\n",
    "    query = X[:, -1, :] @ W1\n",
    "    Key = X @ W2\n",
    "    expKq = np.exp(np.einsum('ijk,ik->ij', Key, query))\n",
    "    softmaxKq = expKq / np.sum(expKq, axis=1, keepdims=True)\n",
    "    zi = np.einsum('ij,ijk,k->i', softmaxKq, X, w3)\n",
    "    gradient = np.einsum('ij,ijk->ik', softmaxKq, X) * (-np.exp(-y * zi) / (1 + np.exp(-y * zi)))[:, np.newaxis] * y[:, np.newaxis]\n",
    "    return gradient.mean(axis=0)\n",
    "\n",
    "compute_dJdw3(X,y,theta)"
   ]
  },
  {
   "cell_type": "markdown",
   "metadata": {
    "id": "EFbQDtxqQgKE"
   },
   "source": [
    "# [5pts] Problem 3: Vectorizing `dJdW2`\n",
    "\n",
    "Next, we compute $ \\frac{\\partial J}{\\partial W^{(2)}}(\\theta)$. We won't actually work out the math, but the (non-vectorized) code is as follows."
   ]
  },
  {
   "cell_type": "code",
   "execution_count": 73,
   "metadata": {
    "id": "0_bo7rlevHTG"
   },
   "outputs": [
    {
     "data": {
      "text/plain": [
       "array([[0.16829444, 0.20709899],\n",
       "       [0.10940378, 0.11681514],\n",
       "       [0.02592543, 0.0226713 ]])"
      ]
     },
     "execution_count": 73,
     "metadata": {},
     "output_type": "execute_result"
    }
   ],
   "source": [
    "dJdW2 = np.zeros(W2.shape)\n",
    "\n",
    "\n",
    "def compute_dJidW2_nonvectorized(Xi, yi, theta):\n",
    "    W1, W2, w3 = theta['W1'], theta['W2'], theta['w3']\n",
    "    query = Xi[-1] @ W1\n",
    "    Key = Xi @ W2\n",
    "    expKq = np.exp(Key@query)\n",
    "    softmaxKq = expKq / np.sum(expKq)\n",
    "    delSoftmax =  np.diag(softmaxKq)-np.outer(softmaxKq,softmaxKq)\n",
    "\n",
    "    zi = softmaxKq @ Xi @ w3\n",
    "    loss_der = (-np.exp(-yi*zi))/(1+np.exp(-yi*zi)) * yi\n",
    "    return np.outer((Xi.T@delSoftmax) @ (Xi@w3), W1.T@Xi[-1])*loss_der\n",
    "\n",
    "def compute_dJdW2_nonvectorized(X,y,theta):\n",
    "    dJdW2 = np.zeros(W2.shape)\n",
    "    for i in range(n_samples):\n",
    "        dJdW2 += compute_dJidW2_nonvectorized(X[i], y[i],theta)\n",
    "    return dJdW2/n_samples\n",
    "compute_dJdW2_nonvectorized(X,y,theta)"
   ]
  },
  {
   "cell_type": "code",
   "execution_count": 74,
   "metadata": {
    "id": "0pLZprjs8rN7"
   },
   "outputs": [
    {
     "data": {
      "text/plain": [
       "array([[0.16829444, 0.20709899],\n",
       "       [0.10940378, 0.11681514],\n",
       "       [0.02592543, 0.0226713 ]])"
      ]
     },
     "execution_count": 74,
     "metadata": {},
     "output_type": "execute_result"
    }
   ],
   "source": [
    "def compute_dJdW2(X, y, theta):\n",
    "    W1, W2, w3 = theta['W1'], theta['W2'], theta['w3']\n",
    "\n",
    "    # Calculate query for all samples\n",
    "    query = X[:, -1] @ W1  # Shape: (100, 2)\n",
    "\n",
    "    # Calculate Key for all samples\n",
    "    Key = X @ W2  # Shape: (100, 32, 2)\n",
    "\n",
    "    # Calculate Key @ query for all samples\n",
    "    Kq = np.einsum('ijk,ik->ij', Key, query)  # Shape: (100, 32)\n",
    "\n",
    "    # Calculate softmax\n",
    "    expKq = np.exp(Kq)\n",
    "    softmaxKq = expKq / np.sum(expKq, axis=1, keepdims=True)  # Shape: (100, 32)\n",
    "\n",
    "    # Calculate z for all samples\n",
    "    z = np.einsum('ij,ijk,k->i', softmaxKq, X, w3)  # Shape: (100,)\n",
    "\n",
    "    # Calculate the loss derivative\n",
    "    loss_der = (-np.exp(-y * z)) / (1 + np.exp(-y * z)) * y  # Shape: (100,)\n",
    "\n",
    "    # Calculate delSoftmax for all samples\n",
    "    delSoftmax = np.eye(32)[None, :, :] * softmaxKq[:, :, None] - softmaxKq[:, :, None] * softmaxKq[:, None, :]\n",
    "\n",
    "    # Calculate the term (Xi.T @ delSoftmax) @ (Xi @ w3)\n",
    "    term1 = np.einsum('ijk,ikl,il->ij', X.transpose(0, 2, 1), delSoftmax, X @ w3)  # Shape: (100, 3)\n",
    "\n",
    "    # Calculate the final result\n",
    "    result = np.einsum('ij,ik,i->jk', term1, X[:, -1] @ W1, loss_der)\n",
    "\n",
    "    return result / X.shape[0]\n",
    "\n",
    "# Test the function\n",
    "compute_dJdW2(X, y, theta)"
   ]
  },
  {
   "cell_type": "markdown",
   "metadata": {
    "id": "Tt1VLhsnQkaD"
   },
   "source": [
    "# [5pts] Problem 4: Vectorizing `dJdW1`\n",
    "\n",
    "Finally, we compute $ \\frac{\\partial J}{\\partial W^{(1)}}(\\theta)$. We won't actually work out the math, but the (non-vectorized) code is as follows."
   ]
  },
  {
   "cell_type": "code",
   "execution_count": 75,
   "metadata": {
    "id": "c3yXvylBFTlQ"
   },
   "outputs": [
    {
     "data": {
      "text/plain": [
       "array([[-0.02485981,  0.03648229],\n",
       "       [-0.01022258,  0.05216037],\n",
       "       [-0.10271108,  0.04190961]])"
      ]
     },
     "execution_count": 75,
     "metadata": {},
     "output_type": "execute_result"
    }
   ],
   "source": [
    "\n",
    "\n",
    "\n",
    "def compute_dJidW1_nonvectorized(Xi, yi, theta):\n",
    "    W1, W2, w3 = theta['W1'], theta['W2'], theta['w3']\n",
    "    query = Xi[-1] @ W1\n",
    "    Key = Xi @ W2\n",
    "    expKq = np.exp(Key@query)\n",
    "    softmaxKq = expKq / np.sum(expKq)\n",
    "    delSoftmax =  np.diag(softmaxKq)-np.outer(softmaxKq,softmaxKq)\n",
    "\n",
    "    zi = softmaxKq @ Xi @ w3\n",
    "    loss_der = (-np.exp(-yi*zi))/(1+np.exp(-yi*zi)) * yi\n",
    "    return np.outer(((Xi@W2).T@delSoftmax) @ (Xi@w3), Xi[-1]).T*loss_der\n",
    "\n",
    "\n",
    "def compute_dJdW1_nonvectorized(X,y,theta):\n",
    "    dJdW1 = np.zeros(W2.shape)\n",
    "    for i in range(n_samples):\n",
    "        dJdW1 += compute_dJidW1_nonvectorized(X[i], y[i],theta)\n",
    "    return dJdW1/n_samples\n",
    "\n",
    "compute_dJdW1_nonvectorized(X,y,theta)"
   ]
  },
  {
   "cell_type": "code",
   "execution_count": 76,
   "metadata": {
    "id": "JgJa6a4fvJ8C"
   },
   "outputs": [
    {
     "data": {
      "text/plain": [
       "array([[-0.02485981,  0.03648229],\n",
       "       [-0.01022258,  0.05216037],\n",
       "       [-0.10271108,  0.04190961]])"
      ]
     },
     "execution_count": 76,
     "metadata": {},
     "output_type": "execute_result"
    }
   ],
   "source": [
    "def compute_dJdW1(Xi, yi, theta):\n",
    "\n",
    "    # YOUR CODE HERE\n",
    "    # ...\n",
    "    W1, W2, w3 = theta['W1'], theta['W2'], theta['w3']\n",
    "    n_samples, n_timesteps, n_features = X.shape\n",
    "\n",
    "    # Compute query and Key for all samples\n",
    "    query = X[:, -1] @ W1  # Shape: (n_samples, 2)\n",
    "    Key = X @ W2  # Shape: (n_samples, n_timesteps, 2)\n",
    "\n",
    "    # Compute softmax\n",
    "    attention = np.einsum('ijk,ik->ij', Key, query)  # Shape: (n_samples, n_timesteps)\n",
    "    expKq = np.exp(attention)\n",
    "    softmaxKq = expKq / np.sum(expKq, axis=1, keepdims=True)  # Shape: (n_samples, n_timesteps)\n",
    "\n",
    "    # Compute z\n",
    "    z = np.einsum('ij,ijk,k->i', softmaxKq, X, w3)  # Shape: (n_samples,)\n",
    "\n",
    "    # Compute loss derivative\n",
    "    loss_der = (-np.exp(-y*z) / (1 + np.exp(-y*z))) * y  # Shape: (n_samples,)\n",
    "\n",
    "    # Compute delSoftmax\n",
    "    delSoftmax = np.eye(n_timesteps)[None, :, :] * softmaxKq[:, :, None] - \\\n",
    "                 softmaxKq[:, :, None] * softmaxKq[:, None, :]  # Shape: (n_samples, n_timesteps, n_timesteps)\n",
    "\n",
    "    # Compute term1: (X @ W2).T @ delSoftmax @ (X @ w3)\n",
    "    term1 = np.einsum('ijk,ikl,il->ij', Key.transpose(0, 2, 1), delSoftmax, X @ w3)  # Shape: (n_samples, 2)\n",
    "\n",
    "    # Compute term2: X[:, -1]\n",
    "    term2 = X[:, -1, :]  # Shape: (n_samples, n_features)\n",
    "\n",
    "    # Compute the final result\n",
    "    result = np.einsum('ij,ik,i->jk', term2, term1, loss_der)  # Shape: (n_features, 2)\n",
    "\n",
    "    # Normalize\n",
    "    dJdW1 = result / n_samples\n",
    "\n",
    "    return dJdW1\n",
    "\n",
    "compute_dJdW1(X,y,theta)"
   ]
  },
  {
   "cell_type": "markdown",
   "metadata": {
    "id": "sGRJCGruVp-V"
   },
   "source": [
    "# (Not graded) Time comparison\n",
    "\n"
   ]
  },
  {
   "cell_type": "code",
   "execution_count": 77,
   "metadata": {
    "id": "WBqz87ONT-em"
   },
   "outputs": [
    {
     "name": "stdout",
     "output_type": "stream",
     "text": [
      "Time taken: 1.432042121887207\n"
     ]
    }
   ],
   "source": [
    "np.random.seed(100)\n",
    "theta = {'w3':  np.random.randn(n_features),\n",
    "         'W2': np.random.randn(n_features, n_reduced),\n",
    "         'W1': np.random.randn(n_features, n_reduced)}\n",
    "\n",
    "error_list = []\n",
    "\n",
    "start_timer = time.time()\n",
    "for i in range(1000):\n",
    "    dJdw3 = compute_dJdw3(X,y,theta)\n",
    "    dJdW2 = compute_dJdW2(X,y,theta)\n",
    "    dJdW1 = compute_dJdW1(X,y,theta)\n",
    "\n",
    "    theta['w3'] -= 0.1*dJdw3\n",
    "    theta['W2'] -= 0.1*dJdW2\n",
    "    theta['W1'] -= 0.1*dJdW1\n",
    "    error = np.mean(np.sign(forward(X,theta))*y<=0.0)\n",
    "    error_list.append(error)\n",
    "stop_timer = time.time()\n",
    "time_vectorized = stop_timer-start_timer\n",
    "print(f\"Time taken: {stop_timer-start_timer}\")"
   ]
  },
  {
   "cell_type": "code",
   "execution_count": 78,
   "metadata": {
    "id": "gGzM-lZOUYyv"
   },
   "outputs": [
    {
     "data": {
      "text/plain": [
       "Text(0, 0.5, 'error (misclassification)')"
      ]
     },
     "execution_count": 78,
     "metadata": {},
     "output_type": "execute_result"
    },
    {
     "data": {
      "image/png": "[encoded data removed]",
      "text/plain": [
       "<Figure size 640x480 with 1 Axes>"
      ]
     },
     "metadata": {},
     "output_type": "display_data"
    }
   ],
   "source": [
    "\n",
    "plt.plot(error_list)\n",
    "plt.xlabel('number of gradient descent steps')\n",
    "plt.ylabel('error (misclassification)')"
   ]
  },
  {
   "cell_type": "code",
   "execution_count": 79,
   "metadata": {
    "id": "pCBYxQ-uXO0R"
   },
   "outputs": [
    {
     "name": "stdout",
     "output_type": "stream",
     "text": [
      "Time taken: 4.3513031005859375\n"
     ]
    }
   ],
   "source": [
    "np.random.seed(100)\n",
    "theta = {'w3':  np.random.randn(n_features),\n",
    "         'W2': np.random.randn(n_features, n_reduced),\n",
    "         'W1': np.random.randn(n_features, n_reduced)}\n",
    "\n",
    "error_list = []\n",
    "\n",
    "start_timer = time.time()\n",
    "for i in range(1000):\n",
    "    dJdw3 = compute_dJdw3_nonvectorized(X,y,theta)\n",
    "    dJdW2 = compute_dJdW2_nonvectorized(X,y,theta)\n",
    "    dJdW1 = compute_dJdW1_nonvectorized(X,y,theta)\n",
    "\n",
    "    theta['w3'] -= 0.1*dJdw3\n",
    "    theta['W2'] -= 0.1*dJdW2\n",
    "    theta['W1'] -= 0.1*dJdW1\n",
    "    error = np.mean(np.sign(forward(X,theta))*y<=0.0)\n",
    "    error_list.append(error)\n",
    "stop_timer = time.time()\n",
    "time_nonvectorized = stop_timer-start_timer\n",
    "print(f\"Time taken: {stop_timer-start_timer}\")"
   ]
  },
  {
   "cell_type": "code",
   "execution_count": 80,
   "metadata": {
    "id": "qzERRVpHXSl1"
   },
   "outputs": [
    {
     "data": {
      "text/plain": [
       "Text(0, 0.5, 'error (misclassification)')"
      ]
     },
     "execution_count": 80,
     "metadata": {},
     "output_type": "execute_result"
    },
    {
     "data": {
      "image/png": "[encoded data removed]",
      "text/plain": [
       "<Figure size 640x480 with 1 Axes>"
      ]
     },
     "metadata": {},
     "output_type": "display_data"
    }
   ],
   "source": [
    "\n",
    "plt.plot(error_list)\n",
    "plt.xlabel('number of gradient descent steps')\n",
    "plt.ylabel('error (misclassification)')"
   ]
  },
  {
   "cell_type": "code",
   "execution_count": 81,
   "metadata": {
    "id": "bhzcicuzaxr8"
   },
   "outputs": [
    {
     "data": {
      "text/plain": [
       "3.038530106119785"
      ]
     },
     "execution_count": 81,
     "metadata": {},
     "output_type": "execute_result"
    }
   ],
   "source": [
    "time_nonvectorized/time_vectorized"
   ]
  },
  {
   "cell_type": "code",
   "execution_count": null,
   "metadata": {},
   "outputs": [],
   "source": []
  }
 ],
 "metadata": {
  "colab": {
   "provenance": []
  },
  "kernelspec": {
   "display_name": "Python 3 (ipykernel)",
   "language": "python",
   "name": "python3"
  },
  "language_info": {
   "codemirror_mode": {
    "name": "ipython",
    "version": 3
   },
   "file_extension": ".py",
   "mimetype": "text/x-python",
   "name": "python",
   "nbconvert_exporter": "python",
   "pygments_lexer": "ipython3",
   "version": "3.12.4"
  }
 },
 "nbformat": 4,
 "nbformat_minor": 4
}
