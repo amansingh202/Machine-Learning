{
 "cells": [
  {
   "cell_type": "code",
   "execution_count": 2,
   "id": "6df3e4c4",
   "metadata": {},
   "outputs": [
    {
     "name": "stderr",
     "output_type": "stream",
     "text": [
      "usage: ipykernel_launcher.py [-h] [-f INPUT_FILE] m n\n",
      "ipykernel_launcher.py: error: the following arguments are required: m, n\n"
     ]
    },
    {
     "ename": "SystemExit",
     "evalue": "2",
     "output_type": "error",
     "traceback": [
      "An exception has occurred, use %tb to see the full traceback.\n",
      "\u001b[0;31mSystemExit\u001b[0m\u001b[0;31m:\u001b[0m 2\n"
     ]
    }
   ],
   "source": [
    "\n",
    "import argparse\n",
    "import csv\n",
    "\n",
    "import numpy\n",
    "\n",
    "def model_to_string(coeffs, m, n):\n",
    "    ones = f\"{coeffs[0]} \"\n",
    "    cosines = [f\"{coeffs[j]:+} cos(2\\u03C0 * {j})\" for j in range(1, m+1) ]\n",
    "    sines = [f\"{coeffs[j]:+} sin(2\\u03C0 * {j-m})\" for j in range(m+1, m+n+1)]\n",
    "    return  ones + \" \".join(cosines) + \" \" + \" \".join(sines)\n",
    "\n",
    "def main():\n",
    "    parser = argparse.ArgumentParser()\n",
    "    parser.add_argument(\"m\", help=\"Number of cosine terms\", type=int)\n",
    "    parser.add_argument(\"n\", help=\"Number of sine terms\", type=int)\n",
    "    parser.add_argument(\"-f\", \"--input_file\", help=\"Name of input data file\", default=\"sample.csv\")\n",
    "    args = parser.parse_args()\n",
    "\n",
    "    data = []\n",
    "    with open(args.input_file, \"r\") as f:\n",
    "        reader = csv.DictReader(f)\n",
    "        for line in reader:\n",
    "            data.append(line)\n",
    "\n",
    "\n",
    "    x_sample = numpy.array([float(d[\"x\"]) for d in data])\n",
    "    y_sample = numpy.array([float(d[\"y\"]) for d in data])\n",
    "    x_sample = x_sample.reshape(-1, 1)\n",
    "    y_sample = y_sample.reshape(-1, 1)\n",
    "    ones = numpy.ones_like(x_sample)\n",
    "    cosines = numpy.array([numpy.cos(2*numpy.pi*j*x_sample) for j in range(1,args.m+1)])[:,:,0].T\n",
    "    sines = numpy.array([numpy.sin(2*numpy.pi*j*x_sample) for j in range(1,args.n+1)])[:,:,0].T\n",
    "    dmatrix = numpy.concatenate([ones, cosines, sines], axis=1)\n",
    "    \n",
    "    u, s, vT = numpy.linalg.svd(dmatrix, full_matrices=False)\n",
    "    uT = numpy.transpose(u)\n",
    "    v = numpy.transpose(vT)\n",
    "    s_inv = numpy.power(s, -1)\n",
    "    p_inv = numpy.dot(v, numpy.dot(numpy.diag(s_inv), uT))\n",
    "    coeffs = numpy.dot(p_inv, y_sample)\n",
    "    model_stringified = model_to_string(coeffs.reshape(-1), args.m, args.n)\n",
    "    print(model_stringified)\n",
    "    outputs = numpy.dot(dmatrix, coeffs)\n",
    "    resids = y_sample - outputs\n",
    "    rmse = numpy.sqrt(numpy.mean(numpy.square(resids.reshape(-1))))\n",
    "    print(f\"RMSE: {rmse}\")\n",
    "\n",
    "\n",
    "if __name__==\"__main__\":\n",
    "    main()\n",
    "        \n"
   ]
  },
  {
   "cell_type": "code",
   "execution_count": 3,
   "id": "0abf8259",
   "metadata": {},
   "outputs": [
    {
     "name": "stdout",
     "output_type": "stream",
     "text": [
      "9.137915627614821e-05 -0.5343737727809552 cos(2π * 1) -0.28657047067960373 cos(2π * 2) -0.027791179203906793 cos(2π * 3) -0.34369720351762245 sin(2π * 1) +0.13625478804158891 sin(2π * 2) +0.20835835723116086 sin(2π * 3) +0.10143087088253186 sin(2π * 4)\n",
      "RMSE: 0.25296758494120986\n"
     ]
    }
   ],
   "source": [
    "%run fit_model.py 3 4"
   ]
  }
 ],
 "metadata": {
  "kernelspec": {
   "display_name": "Python 3 (ipykernel)",
   "language": "python",
   "name": "python3"
  },
  "language_info": {
   "codemirror_mode": {
    "name": "ipython",
    "version": 3
   },
   "file_extension": ".py",
   "mimetype": "text/x-python",
   "name": "python",
   "nbconvert_exporter": "python",
   "pygments_lexer": "ipython3",
   "version": "3.11.5"
  }
 },
 "nbformat": 4,
 "nbformat_minor": 5
}
