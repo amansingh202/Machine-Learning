{
 "cells": [
  {
   "cell_type": "markdown",
   "id": "4e41ecff",
   "metadata": {},
   "source": [
    "# Neural Networks and neurons"
   ]
  },
  {
   "cell_type": "code",
   "execution_count": 3,
   "id": "842c3f67",
   "metadata": {},
   "outputs": [],
   "source": [
    "import numpy as np\n",
    "import matplotlib.pyplot as plt\n",
    "import tensorflow as tf\n",
    "from tensorflow.keras.layers import Dense, Input\n",
    "from tensorflow.keras import Sequential\n",
    "from tensorflow.keras.losses import MeanSquaredError, BinaryCrossentropy\n",
    "from tensorflow.keras.activations import sigmoid\n",
    "from lab_utils_common import dlc\n",
    "from lab_neurons_utils import plt_prob_1d, sigmoidnp, plt_linear, plt_logistic\n",
    "plt.style.use('./deeplearning.mplstyle')\n",
    "import logging\n",
    "logging.getLogger(\"tensorflow\").setLevel(logging.ERROR)\n",
    "tf.autograph.set_verbosity(0)"
   ]
  },
  {
   "cell_type": "markdown",
   "id": "0702ed31",
   "metadata": {},
   "source": [
    "# Neuron without the activation"
   ]
  },
  {
   "cell_type": "code",
   "execution_count": 12,
   "id": "576c6fb3",
   "metadata": {},
   "outputs": [
    {
     "data": {
      "image/png": "[encoded data removed]",
      "text/plain": [
       "<Figure size 640x480 with 1 Axes>"
      ]
     },
     "metadata": {},
     "output_type": "display_data"
    }
   ],
   "source": [
    "X_train = np.array([[1.0],[2.0]], dtype=np.float32) #1x2 matrix\n",
    "y_train = np.array([[300.0], [500.0]], dtype=np.float32) #1x2 matrix\n",
    "\n",
    "plt.scatter(X_train, y_train, marker='x', c='r', label = 'Data points')\n",
    "plt.legend(fontsize = 'xx-large')\n",
    "plt.ylabel(\"Price (in 1000s of dollars)\", fontsize = 'xx-large')\n",
    "plt.xlabel('Size (1000 sqft)', fontsize = 'xx-large')\n",
    "plt.show()"
   ]
  },
  {
   "cell_type": "code",
   "execution_count": 13,
   "id": "3c8215a1",
   "metadata": {},
   "outputs": [
    {
     "name": "stdout",
     "output_type": "stream",
     "text": [
      "tf.Tensor([[1.55]], shape=(1, 1), dtype=float32)\n"
     ]
    }
   ],
   "source": [
    "linear_layer = tf.keras.layers.Dense(units = 1, activation='linear')\n",
    "\n",
    "linear_layer.get_weights()\n",
    "\n",
    "a1 = linear_layer(X_train[0].reshape(1,1))\n",
    "print(a1)"
   ]
  },
  {
   "cell_type": "code",
   "execution_count": 14,
   "id": "8394d51b",
   "metadata": {},
   "outputs": [
    {
     "name": "stdout",
     "output_type": "stream",
     "text": [
      "w: [[1.55]], b: [0.]\n"
     ]
    }
   ],
   "source": [
    "w,b = linear_layer.get_weights()\n",
    "\n",
    "print(f\"w: {w}, b: {b}\")"
   ]
  },
  {
   "cell_type": "code",
   "execution_count": 15,
   "id": "6fffac2a",
   "metadata": {},
   "outputs": [
    {
     "name": "stdout",
     "output_type": "stream",
     "text": [
      "[array([[200.]], dtype=float32), array([100.], dtype=float32)]\n"
     ]
    }
   ],
   "source": [
    "set_w = np.array([[200]]) #1x1 matrix\n",
    "set_b = np.array([100])\n",
    "\n",
    "#set these weights\n",
    "linear_layer.set_weights([set_w, set_b])\n",
    "print(linear_layer.get_weights())"
   ]
  },
  {
   "cell_type": "code",
   "execution_count": 16,
   "id": "87b17a9a",
   "metadata": {},
   "outputs": [
    {
     "name": "stdout",
     "output_type": "stream",
     "text": [
      "w: [[200.]], b: [100.]\n"
     ]
    }
   ],
   "source": [
    "w, b = linear_layer.get_weights()\n",
    "print(f\"w: {w}, b: {b}\")"
   ]
  },
  {
   "cell_type": "code",
   "execution_count": 17,
   "id": "c9feec3e",
   "metadata": {},
   "outputs": [
    {
     "name": "stdout",
     "output_type": "stream",
     "text": [
      "tf.Tensor([[300.]], shape=(1, 1), dtype=float32)\n",
      "[[300.]]\n"
     ]
    }
   ],
   "source": [
    "#using tensorflow\n",
    "a1 = linear_layer(X_train[0].reshape(1,1))\n",
    "print(a1)\n",
    "\n",
    "#using numpy for the same\n",
    "alin = np.dot(set_w, X_train[0].reshape(1,1)) + set_b\n",
    "print(alin)"
   ]
  },
  {
   "cell_type": "code",
   "execution_count": null,
   "id": "e37bd5bb",
   "metadata": {},
   "outputs": [],
   "source": [
    "#prediction using tensorflow\n",
    "prediction_tf = linear_layer(X_train)\n",
    "\n",
    "#prediction "
   ]
  }
 ],
 "metadata": {
  "kernelspec": {
   "display_name": "Python 3 (ipykernel)",
   "language": "python",
   "name": "python3"
  },
  "language_info": {
   "codemirror_mode": {
    "name": "ipython",
    "version": 3
   },
   "file_extension": ".py",
   "mimetype": "text/x-python",
   "name": "python",
   "nbconvert_exporter": "python",
   "pygments_lexer": "ipython3",
   "version": "3.11.5"
  }
 },
 "nbformat": 4,
 "nbformat_minor": 5
}
