{
 "cells": [
  {
   "cell_type": "code",
   "execution_count": 3,
   "id": "2d9e7c5f",
   "metadata": {},
   "outputs": [
    {
     "name": "stdout",
     "output_type": "stream",
     "text": [
      "[0 0 0 ... 1 1 1]\n"
     ]
    }
   ],
   "source": [
    "import numpy as np\n",
    "from sklearn.metrics import accuracy_score, confusion_matrix, roc_auc_score, roc_curve\n",
    "\n",
    "n = 10000\n",
    "\n",
    "ratio = 0.95\n",
    "\n",
    "n_0 = int((1 - ratio) * n)\n",
    "n_1 = int((ratio*n))\n",
    "\n",
    "y = np.array([0]*n_0 + [1]*n_1)\n",
    "\n",
    "print(y)"
   ]
  },
  {
   "cell_type": "code",
   "execution_count": 6,
   "id": "9a341c3f",
   "metadata": {},
   "outputs": [
    {
     "name": "stdout",
     "output_type": "stream",
     "text": [
      "[ True  True  True ...  True  True  True]\n"
     ]
    }
   ],
   "source": [
    "y_proba = np.array([1] * n)\n",
    "y_pred = y_proba > 0.5\n",
    "\n",
    "print(y_pred)"
   ]
  },
  {
   "cell_type": "code",
   "execution_count": 9,
   "id": "efd6ccfa",
   "metadata": {},
   "outputs": [
    {
     "name": "stdout",
     "output_type": "stream",
     "text": [
      "Accuracy score: 0.95\n",
      "Confusion matrix\n",
      "[[   0  500]\n",
      " [   0 9500]]\n"
     ]
    }
   ],
   "source": [
    "print(f\"Accuracy score: {accuracy_score(y, y_pred)}\")\n",
    "cf_mat = confusion_matrix(y, y_pred)\n",
    "print(\"Confusion matrix\")\n",
    "print(cf_mat)\n",
    "\n",
    "print(f\"Class 0 accuracy: \")"
   ]
  }
 ],
 "metadata": {
  "kernelspec": {
   "display_name": "Python 3 (ipykernel)",
   "language": "python",
   "name": "python3"
  },
  "language_info": {
   "codemirror_mode": {
    "name": "ipython",
    "version": 3
   },
   "file_extension": ".py",
   "mimetype": "text/x-python",
   "name": "python",
   "nbconvert_exporter": "python",
   "pygments_lexer": "ipython3",
   "version": "3.11.5"
  }
 },
 "nbformat": 4,
 "nbformat_minor": 5
}
