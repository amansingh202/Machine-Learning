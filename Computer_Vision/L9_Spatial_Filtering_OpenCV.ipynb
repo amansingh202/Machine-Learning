{
 "cells": [
  {
   "cell_type": "markdown",
   "id": "25b362f5",
   "metadata": {},
   "source": [
    "# Spatial Operations in Image Processing\n",
    "Spatial operations use pixels in a neighborhood to determine the present pixel value. Applications include filtering and sharpening. They are used in many steps in computer vision like segmentation and are a key building block in Artificial Intelligence algorithms.\n",
    "\n",
    "Linear Filtering<br>\n",
    "Filtering Noise<br>\n",
    "Gaussian Blur<br>\n",
    "Image Sharpening<br>\n",
    "Edges<br>\n",
    "Median<br>\n",
    "Threshold"
   ]
  },
  {
   "cell_type": "code",
   "execution_count": 1,
   "id": "355196e5",
   "metadata": {},
   "outputs": [],
   "source": [
    "import matplotlib.pyplot as plt\n",
    "import numpy as np\n",
    "import cv2"
   ]
  },
  {
   "cell_type": "markdown",
   "id": "f4f278b0",
   "metadata": {},
   "source": [
    "Plot image side by side"
   ]
  },
  {
   "cell_type": "code",
   "execution_count": 3,
   "id": "f3a2c9e0",
   "metadata": {},
   "outputs": [],
   "source": [
    "\n",
    "def plot_image(image_1, image_2,title_1=\"Orignal\",title_2=\"New Image\"):\n",
    "    plt.figure(figsize=(10,10))\n",
    "    plt.subplot(1, 2, 1)\n",
    "    plt.imshow(cv2.cvtColor(image_1, cv2.COLOR_BGR2RGB))\n",
    "    plt.title(title_1)\n",
    "    plt.subplot(1, 2, 2)\n",
    "    plt.imshow(cv2.cvtColor(image_2, cv2.COLOR_BGR2RGB))\n",
    "    plt.title(title_2)\n",
    "    plt.show()"
   ]
  },
  {
   "cell_type": "markdown",
   "id": "07ce976e",
   "metadata": {},
   "source": [
    "Spatial operations use the nanoring pixels to determine the present pixel value\n",
    "\n",
    "<h2>Linear Filtering</h2>\n",
    "Filtering involves enhancing an image, for example removing the Noise from an image. Noise is caused by a bad camera or bad image compression. The same factors that cause noise may lead to blurry images, we can apply filters to sharpening these images. Convolution is a standard way to Filter an image the filter is called the kernel and different kernels perform different tasks. In addition, Convolution is used for many of the most advanced artificial intelligence algorithms. We simply take the dot product of the kernel and as an equally-sized portion of the image. We then shift the kernel and repeat.\n",
    "\n",
    "Consider the following image:"
   ]
  },
  {
   "cell_type": "code",
   "execution_count": null,
   "id": "73b21496",
   "metadata": {},
   "outputs": [],
   "source": []
  }
 ],
 "metadata": {
  "kernelspec": {
   "display_name": "Python 3 (ipykernel)",
   "language": "python",
   "name": "python3"
  },
  "language_info": {
   "codemirror_mode": {
    "name": "ipython",
    "version": 3
   },
   "file_extension": ".py",
   "mimetype": "text/x-python",
   "name": "python",
   "nbconvert_exporter": "python",
   "pygments_lexer": "ipython3",
   "version": "3.11.5"
  }
 },
 "nbformat": 4,
 "nbformat_minor": 5
}
