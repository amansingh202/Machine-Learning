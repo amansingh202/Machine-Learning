{
  "nbformat": 4,
  "nbformat_minor": 0,
  "metadata": {
    "colab": {
      "provenance": [],
      "toc_visible": true,
      "authorship_tag": "ABX9TyNyKmALOEY8ODEF2TTFo4zW",
      "include_colab_link": true
    },
    "kernelspec": {
      "name": "python3",
      "display_name": "Python 3"
    },
    "language_info": {
      "name": "python"
    }
  },
  "cells": [
    {
      "cell_type": "markdown",
      "metadata": {
        "id": "view-in-github",
        "colab_type": "text"
      },
      "source": [
        "<a href=\"https://colab.research.google.com/github/amansingh202/Machine-Learning/blob/main/Computer_Vision/Cv_AS0.ipynb\" target=\"_parent\"><img src=\"https://colab.research.google.com/assets/colab-badge.svg\" alt=\"Open In Colab\"/></a>"
      ]
    },
    {
      "cell_type": "markdown",
      "source": [
        "Name: Aman Kumar <br>\n",
        "Hawk Id: A20538809 <br>\n",
        "CS 512 (Computer Vision)"
      ],
      "metadata": {
        "id": "HYNH59ogg_yb"
      }
    },
    {
      "cell_type": "markdown",
      "source": [
        "**Part A: Vector Operations**\n",
        "Let, p = [2,-1,4], q = [0,3,5], r = [1,-2,2]"
      ],
      "metadata": {
        "id": "BPe34HnkgPC8"
      }
    },
    {
      "cell_type": "markdown",
      "source": [
        "**Find:**\n",
        "1. 3p+2q"
      ],
      "metadata": {
        "id": "q6GlClGog0Jh"
      }
    },
    {
      "cell_type": "code",
      "source": [
        "#Solution:\n",
        "import numpy as np"
      ],
      "metadata": {
        "id": "8WiEQwl7g6uv"
      },
      "execution_count": 3,
      "outputs": []
    },
    {
      "cell_type": "code",
      "source": [
        "#Solution Part A: 1\n",
        "p = np.array([2, -1, 4])\n",
        "q = np.array([0, 3, 5])\n",
        "r = np.array([1, -2, 2])\n",
        "\n",
        "result = 3*p + 2*q\n",
        "result"
      ],
      "metadata": {
        "colab": {
          "base_uri": "https://localhost:8080/"
        },
        "id": "jI8jzK1whTlx",
        "outputId": "51b81136-f81e-4575-fc52-4276185fcce7"
      },
      "execution_count": 15,
      "outputs": [
        {
          "output_type": "execute_result",
          "data": {
            "text/plain": [
              "array([ 6,  3, 22])"
            ]
          },
          "metadata": {},
          "execution_count": 15
        }
      ]
    },
    {
      "cell_type": "markdown",
      "source": [
        "2. ^p: a unit vector in the direction of p"
      ],
      "metadata": {
        "id": "-pE4dwT-iqcm"
      }
    },
    {
      "cell_type": "code",
      "source": [
        "#Solution\n",
        "magnitude_p = np.linalg.norm(p)\n",
        "unit_vector_p = p/magnitude_p\n",
        "unit_vector_p"
      ],
      "metadata": {
        "colab": {
          "base_uri": "https://localhost:8080/"
        },
        "id": "83lN-Qe0ht4D",
        "outputId": "4fe8aa2e-125e-4397-c115-556c1f4a4e7d"
      },
      "execution_count": 16,
      "outputs": [
        {
          "output_type": "execute_result",
          "data": {
            "text/plain": [
              "array([ 0.43643578, -0.21821789,  0.87287156])"
            ]
          },
          "metadata": {},
          "execution_count": 16
        }
      ]
    },
    {
      "cell_type": "markdown",
      "source": [
        "3. ||p|| and the angle of p relative to the positive y-axis"
      ],
      "metadata": {
        "id": "_IFB-4Qoj0Sp"
      }
    },
    {
      "cell_type": "code",
      "source": [
        "#Solution:\n",
        "magnitude_p = np.linalg.norm(p)\n",
        "angle_wrt_yAxis = np.arccos(p[1]/magnitude_p)\n",
        "angle_in_degrees = np.degrees(angle_wrt_yAxis)\n",
        "print(angle_in_degrees)"
      ],
      "metadata": {
        "colab": {
          "base_uri": "https://localhost:8080/"
        },
        "id": "X0VqFGqjjIyE",
        "outputId": "2abdf523-e59b-4f48-b3eb-5964e751601e"
      },
      "execution_count": 17,
      "outputs": [
        {
          "output_type": "stream",
          "name": "stdout",
          "text": [
            "102.60438264837919\n"
          ]
        }
      ]
    },
    {
      "cell_type": "markdown",
      "source": [
        "4. The direction cosines of p"
      ],
      "metadata": {
        "id": "umZs3u9vlW74"
      }
    },
    {
      "cell_type": "code",
      "source": [
        "#Solution:\n",
        "direction_cosines_p = p/magnitude_p\n",
        "direction_cosines_p"
      ],
      "metadata": {
        "colab": {
          "base_uri": "https://localhost:8080/"
        },
        "id": "A5xI9B83kAfW",
        "outputId": "9bd4b9a2-53db-4c9d-ea99-118e22f66510"
      },
      "execution_count": 18,
      "outputs": [
        {
          "output_type": "execute_result",
          "data": {
            "text/plain": [
              "array([ 0.43643578, -0.21821789,  0.87287156])"
            ]
          },
          "metadata": {},
          "execution_count": 18
        }
      ]
    },
    {
      "cell_type": "markdown",
      "source": [
        "5. The angle between p and q"
      ],
      "metadata": {
        "id": "yc01u9wTlmCu"
      }
    },
    {
      "cell_type": "code",
      "source": [
        "#Solution:\n",
        "dot_product_pq = np.dot(p,q)\n",
        "magnitude_q = np.linalg.norm(q)\n",
        "cosine_angle_pq = dot_product_pq/(magnitude_p*magnitude_q)\n",
        "angle_between_pq = np.arccos(cosine_angle_pq)\n",
        "angle_between_pq_degrees = np.degrees(angle_between_pq)\n",
        "angle_between_pq_degrees"
      ],
      "metadata": {
        "colab": {
          "base_uri": "https://localhost:8080/"
        },
        "id": "OswOqg8slkME",
        "outputId": "f8b326a5-a08e-4311-d223-2541f34c8be3"
      },
      "execution_count": 19,
      "outputs": [
        {
          "output_type": "execute_result",
          "data": {
            "text/plain": [
              "50.490287713806076"
            ]
          },
          "metadata": {},
          "execution_count": 19
        }
      ]
    },
    {
      "cell_type": "markdown",
      "source": [
        "6. p ⋅q and q ⋅ p"
      ],
      "metadata": {
        "id": "Qx1Wytx3nExA"
      }
    },
    {
      "cell_type": "code",
      "source": [
        "#Solution:\n",
        "p_dot_q = np.dot(p,q)\n",
        "print(p_dot_q)\n",
        "q_dot_p = np.dot(q,p)\n",
        "print(q_dot_p)\n",
        "print(\"As Dot product is commutative\")"
      ],
      "metadata": {
        "colab": {
          "base_uri": "https://localhost:8080/"
        },
        "id": "s1Hkt7D4mKsz",
        "outputId": "ad7f1720-fcd4-4ceb-8d5c-d0a8ac2c2d08"
      },
      "execution_count": 20,
      "outputs": [
        {
          "output_type": "stream",
          "name": "stdout",
          "text": [
            "17\n",
            "17\n",
            "As Dot product is commutative\n"
          ]
        }
      ]
    },
    {
      "cell_type": "markdown",
      "source": [
        "7. p⋅q using the angle between p and q"
      ],
      "metadata": {
        "id": "yTsfbPNLoBAw"
      }
    },
    {
      "cell_type": "code",
      "source": [
        "#Solution:\n",
        "p_dot_q_usingAngle = magnitude_p*magnitude_q*np.cos(angle_between_pq)\n",
        "print(p_dot_q_usingAngle)"
      ],
      "metadata": {
        "colab": {
          "base_uri": "https://localhost:8080/"
        },
        "id": "7h2P4FCknVni",
        "outputId": "423a1884-740d-4440-eb1a-658a78702786"
      },
      "execution_count": 21,
      "outputs": [
        {
          "output_type": "stream",
          "name": "stdout",
          "text": [
            "17.0\n"
          ]
        }
      ]
    },
    {
      "cell_type": "markdown",
      "source": [
        "8. The scalar projection of q onto p"
      ],
      "metadata": {
        "id": "cOi7UlTzgPtj"
      }
    },
    {
      "cell_type": "code",
      "source": [
        "#Solution:\n",
        "scalar_proj_q_onto_p = np.dot(p,q)/magnitude_p\n",
        "scalar_proj_q_onto_p"
      ],
      "metadata": {
        "id": "8-YoKWm9oX1y",
        "colab": {
          "base_uri": "https://localhost:8080/"
        },
        "outputId": "6954e513-51cb-4eb6-f138-d48cc9fa7429"
      },
      "execution_count": 22,
      "outputs": [
        {
          "output_type": "execute_result",
          "data": {
            "text/plain": [
              "3.709704134011871"
            ]
          },
          "metadata": {},
          "execution_count": 22
        }
      ]
    },
    {
      "cell_type": "markdown",
      "source": [
        "9. A vector that is perpendicular to p"
      ],
      "metadata": {
        "id": "Z20iRGZ1gzzG"
      }
    },
    {
      "cell_type": "code",
      "source": [
        "#Solution:\n",
        "perpendicular_to_p = np.cross(p, np.array([1,0,0]))\n",
        "perpendicular_to_p"
      ],
      "metadata": {
        "colab": {
          "base_uri": "https://localhost:8080/"
        },
        "id": "gNzN_z-zgS9X",
        "outputId": "723e9508-69e0-4edc-d120-c2db52ecfa22"
      },
      "execution_count": 23,
      "outputs": [
        {
          "output_type": "execute_result",
          "data": {
            "text/plain": [
              "array([0, 4, 1])"
            ]
          },
          "metadata": {},
          "execution_count": 23
        }
      ]
    },
    {
      "cell_type": "markdown",
      "source": [
        "10. pxq and qxp"
      ],
      "metadata": {
        "id": "NloS257ik_bZ"
      }
    },
    {
      "cell_type": "code",
      "source": [
        "#Solution:\n",
        "pxq = np.cross(p,q)\n",
        "qxp = np.cross(q,p)\n",
        "\n",
        "print(f\"pxq is {pxq}\")\n",
        "print(f\"qxp is {qxp}\")"
      ],
      "metadata": {
        "colab": {
          "base_uri": "https://localhost:8080/"
        },
        "id": "rBw9cW3ak7_9",
        "outputId": "77d73065-76b9-4345-b8c5-8d14c1f6fdbf"
      },
      "execution_count": 24,
      "outputs": [
        {
          "output_type": "stream",
          "name": "stdout",
          "text": [
            "pxq is [-17 -10   6]\n",
            "qxp is [17 10 -6]\n"
          ]
        }
      ]
    },
    {
      "cell_type": "markdown",
      "source": [
        "\n",
        "11. A vector that is perpendicular to both p and q"
      ],
      "metadata": {
        "id": "qILFW2bSmQZW"
      }
    },
    {
      "cell_type": "code",
      "source": [
        "#Solution:\n",
        "perpendicular_to_p_q = np.cross(p,q)\n",
        "perpendicular_to_p_q"
      ],
      "metadata": {
        "colab": {
          "base_uri": "https://localhost:8080/"
        },
        "id": "ItAc0Z0clP5_",
        "outputId": "2be987d7-978b-426d-b247-c9ed2fe70305"
      },
      "execution_count": 25,
      "outputs": [
        {
          "output_type": "execute_result",
          "data": {
            "text/plain": [
              "array([-17, -10,   6])"
            ]
          },
          "metadata": {},
          "execution_count": 25
        }
      ]
    },
    {
      "cell_type": "markdown",
      "source": [
        "12. The linear dependency between p, q, and r"
      ],
      "metadata": {
        "id": "75AoJmMhmdlA"
      }
    },
    {
      "cell_type": "code",
      "source": [
        "#Solution:\n",
        "matrix = np.column_stack((p,q,r))\n",
        "rank = np.linalg.matrix_rank(matrix)\n",
        "\n",
        "if rank < 3:\n",
        "  print(\"p, q, r are linearly dependent\")\n",
        "else:\n",
        "  print(\"p, q, r are linearly independent\")"
      ],
      "metadata": {
        "colab": {
          "base_uri": "https://localhost:8080/"
        },
        "id": "zmJjs4z_mZL_",
        "outputId": "f3fb1a93-0783-4f17-807c-49534e87af43"
      },
      "execution_count": 27,
      "outputs": [
        {
          "output_type": "stream",
          "name": "stdout",
          "text": [
            "p, q, r are linearly independent\n"
          ]
        }
      ]
    },
    {
      "cell_type": "markdown",
      "source": [
        "13. p(transpose)q and pq(transpose)"
      ],
      "metadata": {
        "id": "YdBMqt3IpH-X"
      }
    },
    {
      "cell_type": "code",
      "source": [
        "#Solution:\n",
        "p_transpose_q = np.dot(p.T, q)\n",
        "print(p_transpose_q)\n",
        "\n",
        "p_q_transpose = np.dot(p, q.T)\n",
        "print(p_q_transpose)"
      ],
      "metadata": {
        "colab": {
          "base_uri": "https://localhost:8080/"
        },
        "id": "AjzyNGodoYz9",
        "outputId": "4bce43ef-73c5-4adc-d7ef-03bfb36573c7"
      },
      "execution_count": 31,
      "outputs": [
        {
          "output_type": "stream",
          "name": "stdout",
          "text": [
            "17\n",
            "17\n"
          ]
        }
      ]
    },
    {
      "cell_type": "code",
      "source": [],
      "metadata": {
        "id": "JXbo2EAUpan3"
      },
      "execution_count": null,
      "outputs": []
    }
  ]
}