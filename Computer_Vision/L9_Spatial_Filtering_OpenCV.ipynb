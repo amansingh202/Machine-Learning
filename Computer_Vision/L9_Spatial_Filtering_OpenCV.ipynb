{
 "cells": [
  {
   "cell_type": "markdown",
   "id": "dfb5e502",
   "metadata": {},
   "source": [
    "# Spatial Operations in Image Processing\n",
    "Spatial operations use pixels in a neighborhood to determine the present pixel value. Applications include filtering and sharpening. They are used in many steps in computer vision like segmentation and are a key building block in Artificial Intelligence algorithms.\n",
    "\n",
    "Linear Filtering<br>\n",
    "Filtering Noise<br>\n",
    "Gaussian Blur<br>\n",
    "Image Sharpening<br>\n",
    "Edges<br>\n",
    "Median<br>\n",
    "Threshold"
   ]
  },
  {
   "cell_type": "code",
   "execution_count": 1,
   "id": "2512c627",
   "metadata": {},
   "outputs": [],
   "source": [
    "import matplotlib.pyplot as plt\n",
    "import numpy as np\n",
    "import cv2"
   ]
  },
  {
   "cell_type": "code",
   "execution_count": null,
   "id": "52be645a",
   "metadata": {},
   "outputs": [],
   "source": []
  }
 ],
 "metadata": {
  "kernelspec": {
   "display_name": "Python 3 (ipykernel)",
   "language": "python",
   "name": "python3"
  },
  "language_info": {
   "codemirror_mode": {
    "name": "ipython",
    "version": 3
   },
   "file_extension": ".py",
   "mimetype": "text/x-python",
   "name": "python",
   "nbconvert_exporter": "python",
   "pygments_lexer": "ipython3",
   "version": "3.11.5"
  }
 },
 "nbformat": 4,
 "nbformat_minor": 5
}
