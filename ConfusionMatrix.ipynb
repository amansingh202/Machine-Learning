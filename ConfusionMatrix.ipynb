{
 "cells": [
  {
   "cell_type": "markdown",
   "id": "f5e92bf3",
   "metadata": {},
   "source": [
    "# Confusion Matrix\n",
    "Used in logistic regression"
   ]
  },
  {
   "cell_type": "markdown",
   "id": "691f6490",
   "metadata": {},
   "source": [
    "Table is used in Classification problems to assess where errors in the model were"
   ]
  },
  {
   "cell_type": "markdown",
   "id": "e9f7f98c",
   "metadata": {},
   "source": [
    "Rows represent the actual classes the outcomes should have been"
   ]
  },
  {
   "cell_type": "markdown",
   "id": "ee067fee",
   "metadata": {},
   "source": [
    "Columns represent the predictions that have been made"
   ]
  },
  {
   "cell_type": "markdown",
   "id": "72d8ab96",
   "metadata": {},
   "source": [
    "It is created by using predictions made from logistic regression\n"
   ]
  },
  {
   "cell_type": "code",
   "execution_count": 2,
   "id": "a4d3bb9a",
   "metadata": {},
   "outputs": [],
   "source": [
    "import numpy as np\n",
    "\n",
    "#predict probabality of 90% probability for 1000 samples\n",
    "\n",
    "actual = np.random.binomial(1, 0.9, 1000)\n",
    "predicted = np.random.binomial(1, 0.9, 1000)"
   ]
  },
  {
   "cell_type": "code",
   "execution_count": 4,
   "id": "b1c11926",
   "metadata": {},
   "outputs": [],
   "source": [
    "from sklearn import metrics\n",
    "confusuionMatrix = metrics.confusion_matrix(actual, predicted)\n",
    "\n",
    "cm_display = metrics.ConfusionMatrixDisplay(confusion_matrix=confusuionMatrix, display_labels=[False, True])"
   ]
  },
  {
   "cell_type": "code",
   "execution_count": 5,
   "id": "0ac6d553",
   "metadata": {},
   "outputs": [
    {
     "data": {
      "image/png": "[encoded data removed]",
      "text/plain": [
       "<Figure size 640x480 with 2 Axes>"
      ]
     },
     "metadata": {},
     "output_type": "display_data"
    }
   ],
   "source": [
    "import matplotlib.pyplot as plt\n",
    "\n",
    "cm_display.plot()\n",
    "plt.show()"
   ]
  },
  {
   "cell_type": "code",
   "execution_count": 7,
   "id": "ea13e5b1",
   "metadata": {},
   "outputs": [
    {
     "name": "stdout",
     "output_type": "stream",
     "text": [
      "0.795\n"
     ]
    }
   ],
   "source": [
    "# top-left quadrant: false negative\n",
    "# top-right quadrant: false positive\n",
    "# bottom-left quadrant: true neagtive\n",
    "# bottom-right quadrant: true positive\n",
    "\n",
    "#accuracy of the model\n",
    "#accuracy is basically true positive + true negative / total predictions\n",
    "accuracy = metrics.accuracy_score(actual, predicted)\n",
    "print(accuracy)"
   ]
  },
  {
   "cell_type": "markdown",
   "id": "63e59839",
   "metadata": {},
   "source": [
    "# Precision \n",
    "<br>of the positives predicted what percenatge is truly positive</br>\n",
    "true positive / true positive + false positive\n",
    "\n"
   ]
  },
  {
   "cell_type": "code",
   "execution_count": 9,
   "id": "72abc992",
   "metadata": {},
   "outputs": [
    {
     "name": "stdout",
     "output_type": "stream",
     "text": [
      "0.8933030646992054\n"
     ]
    }
   ],
   "source": [
    "precision = metrics.precision_score(actual, predicted)\n",
    "print(precision)"
   ]
  },
  {
   "cell_type": "markdown",
   "id": "736ce507",
   "metadata": {},
   "source": [
    "# Sensitivity \n",
    "of all positive cases what percentage are predicted positive<br>\n",
    "how good the model is at predicting positives <br>\n",
    "it looks at true positives and false negatives(which are positives that have been incorrectly predicted negative)\n"
   ]
  },
  {
   "cell_type": "code",
   "execution_count": 12,
   "id": "8357ecd7",
   "metadata": {},
   "outputs": [
    {
     "name": "stdout",
     "output_type": "stream",
     "text": [
      "0.876391982182628\n"
     ]
    }
   ],
   "source": [
    "#true positive / true positive + false negative\n",
    "\n",
    "sensitivity = metrics.recall_score(actual, predicted)\n",
    "print(sensitivity)"
   ]
  },
  {
   "cell_type": "markdown",
   "id": "8733ce7b",
   "metadata": {},
   "source": [
    "# Specificity\n",
    "how well the model is at predicting negative results<br>\n",
    "opposite of sensitivity\n",
    "true negative / true negative + false positive"
   ]
  },
  {
   "cell_type": "code",
   "execution_count": 13,
   "id": "3ae409e1",
   "metadata": {},
   "outputs": [
    {
     "name": "stdout",
     "output_type": "stream",
     "text": [
      "0.0784313725490196\n"
     ]
    }
   ],
   "source": [
    "specificity = metrics.recall_score(actual, predicted, pos_label=0)\n",
    "print(specificity)"
   ]
  },
  {
   "cell_type": "markdown",
   "id": "8761af28",
   "metadata": {},
   "source": [
    "# F-score \n",
    "to balance between both precision and accuracy\n",
    "harmonic mean of precision and sensitivity"
   ]
  },
  {
   "cell_type": "code",
   "execution_count": null,
   "id": "b05f134e",
   "metadata": {},
   "outputs": [],
   "source": [
    "f_score = 2*()"
   ]
  }
 ],
 "metadata": {
  "kernelspec": {
   "display_name": "Python 3 (ipykernel)",
   "language": "python",
   "name": "python3"
  },
  "language_info": {
   "codemirror_mode": {
    "name": "ipython",
    "version": 3
   },
   "file_extension": ".py",
   "mimetype": "text/x-python",
   "name": "python",
   "nbconvert_exporter": "python",
   "pygments_lexer": "ipython3",
   "version": "3.11.5"
  }
 },
 "nbformat": 4,
 "nbformat_minor": 5
}
