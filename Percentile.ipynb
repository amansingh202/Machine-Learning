{
 "cells": [
  {
   "cell_type": "code",
   "execution_count": 3,
   "id": "6812cb3c",
   "metadata": {},
   "outputs": [
    {
     "name": "stdout",
     "output_type": "stream",
     "text": [
      "41.5\n"
     ]
    }
   ],
   "source": [
    "import numpy as np\n",
    "\n",
    "ages = np.array([5,31,43,48,50,41,7,11,15,39,80.82,32,2,8,6,25,36,27,61,31])\n",
    "\n",
    "x = np.percentile(ages, 75)\n",
    "print(x)"
   ]
  },
  {
   "cell_type": "markdown",
   "id": "1ac4cc79",
   "metadata": {},
   "source": [
    "age of people below 90 percentile"
   ]
  },
  {
   "cell_type": "code",
   "execution_count": 5,
   "id": "4c6ab3c3",
   "metadata": {},
   "outputs": [
    {
     "name": "stdout",
     "output_type": "stream",
     "text": [
      "51.100000000000016\n"
     ]
    }
   ],
   "source": [
    "y = np.percentile(ages, 90)\n",
    "print(y)"
   ]
  },
  {
   "cell_type": "code",
   "execution_count": null,
   "id": "f3df6307",
   "metadata": {},
   "outputs": [],
   "source": []
  }
 ],
 "metadata": {
  "kernelspec": {
   "display_name": "Python 3 (ipykernel)",
   "language": "python",
   "name": "python3"
  },
  "language_info": {
   "codemirror_mode": {
    "name": "ipython",
    "version": 3
   },
   "file_extension": ".py",
   "mimetype": "text/x-python",
   "name": "python",
   "nbconvert_exporter": "python",
   "pygments_lexer": "ipython3",
   "version": "3.11.5"
  }
 },
 "nbformat": 4,
 "nbformat_minor": 5
}
