{
 "cells": [
  {
   "cell_type": "code",
   "execution_count": 108,
   "id": "58fd8d95",
   "metadata": {},
   "outputs": [],
   "source": [
    "import argparse\n",
    "import numpy as np\n",
    "import pandas as pd\n",
    "from scipy import signal\n",
    "from sklearn.model_selection import KFold\n",
    "from sklearn.utils import resample\n",
    "\n",
    "def model_to_string(coeffs, m, n):\n",
    "    ones = f\"{coeffs[0]} \"\n",
    "    cosines = [f\"{coeffs[j]:+} cos(2π * {j})\" for j in range(1, m + 1)]\n",
    "    sines = [f\"{coeffs[j]:+} sin(2π * {j - m})\" for j in range(m + 1, m + n + 1)]\n",
    "    return ones + \" \".join(cosines) + \" \" + \" \".join(sines)"
   ]
  },
  {
   "cell_type": "code",
   "execution_count": 109,
   "id": "f1f762dc",
   "metadata": {},
   "outputs": [],
   "source": [
    "def fit_model(data, m, n):\n",
    "    x_sample = data['x'].values.reshape(-1, 1)\n",
    "    y_sample = data['y'].values.reshape(-1, 1)\n",
    "    ones = np.ones_like(x_sample)\n",
    "    cosines = np.array([np.cos(2 * np.pi * j * x_sample) for j in range(1, m + 1)])[:, :, 0].T\n",
    "    sines = np.array([np.sin(2 * np.pi * j * x_sample) for j in range(1, n + 1)])[:, :, 0].T\n",
    "    dmatrix = np.concatenate([ones, cosines, sines], axis=1)\n",
    "\n",
    "    coeffs = np.linalg.lstsq(dmatrix, y_sample, rcond=None)[0]\n",
    "    return coeffs"
   ]
  },
  {
   "cell_type": "code",
   "execution_count": 110,
   "id": "93c5fae4",
   "metadata": {},
   "outputs": [],
   "source": [
    "def calculate_rmse(data, coeffs, m, n):\n",
    "    x_sample = data['x'].values.reshape(-1, 1)\n",
    "    y_sample = data['y'].values.reshape(-1, 1)\n",
    "    ones = np.ones_like(x_sample)\n",
    "    cosines = np.array([np.cos(2 * np.pi * j * x_sample) for j in range(1, m + 1)])[:, :, 0].T\n",
    "    sines = np.array([np.sin(2 * np.pi * j * x_sample) for j in range(1, n + 1)])[:, :, 0].T\n",
    "    dmatrix = np.concatenate([ones, cosines, sines], axis=1)\n",
    "\n",
    "    outputs = np.dot(dmatrix, coeffs)\n",
    "    resids = y_sample - outputs\n",
    "    rmse = np.sqrt(np.mean(np.square(resids.reshape(-1))))\n",
    "    return rmse"
   ]
  },
  {
   "cell_type": "code",
   "execution_count": 111,
   "id": "9e2b1ec3",
   "metadata": {},
   "outputs": [],
   "source": [
    "def aic(num_samples, rmse, m, n):\n",
    "    k = m + n + 1\n",
    "    rss = num_samples * (rmse ** 2)\n",
    "    aic = 2 * k + num_samples * np.log(rss/num_samples)\n",
    "    return aic\n"
   ]
  },
  {
   "cell_type": "code",
   "execution_count": 112,
   "id": "3623abe4",
   "metadata": {},
   "outputs": [],
   "source": [
    "# def k_fold_cross_validation(data, m, n, k):\n",
    "#     kf = KFold(n_splits=k)\n",
    "#     rmses = []\n",
    "#     for train_index, test_index in kf.split(data):\n",
    "#         train_data = data.iloc[train_index]\n",
    "#         test_data = data.iloc[test_index]\n",
    "#         coeffs = fit_model(train_data, m, n)\n",
    "#         rmse = calculate_rmse(test_data, coeffs, m, n)\n",
    "#         rmses.append(rmse)\n",
    "#     return np.mean(rmses)"
   ]
  },
  {
   "cell_type": "code",
   "execution_count": 113,
   "id": "02bef939",
   "metadata": {},
   "outputs": [],
   "source": [
    "def k_fold_cross_validation(data, m, n, k):\n",
    "    kf = KFold(n_splits=k)\n",
    "    rmses = []\n",
    "    for train_index, test_index in kf.split(data):\n",
    "        train_data = data.iloc[train_index]\n",
    "        test_data = data.iloc[test_index]\n",
    "        coeffs = fit_model(train_data, m, n)\n",
    "        rmse = calculate_rmse(test_data, coeffs, m, n)\n",
    "        rmses.append(rmse)\n",
    "    return np.mean(rmses)"
   ]
  },
  {
   "cell_type": "code",
   "execution_count": 114,
   "id": "8ce51044",
   "metadata": {},
   "outputs": [],
   "source": [
    "def bootstrap(data, m, n, num_bootstraps):\n",
    "    rmses = []\n",
    "    for _ in range(num_bootstraps):\n",
    "        boot_data = resample(data, replace=True)\n",
    "        coeffs = fit_model(boot_data, m, n)\n",
    "        rmse = calculate_rmse(data, coeffs, m, n)\n",
    "        rmses.append(rmse)\n",
    "    return np.mean(rmses)"
   ]
  },
  {
   "cell_type": "code",
   "execution_count": 115,
   "id": "74cc1509",
   "metadata": {},
   "outputs": [],
   "source": [
    "def generate_data(size, noise, output_file):\n",
    "    rng = np.random.default_rng()\n",
    "    x_sample = rng.uniform(-10, 10, size)\n",
    "    noise = rng.normal(0, noise, size)\n",
    "    offset = rng.uniform(1)\n",
    "    y_sample = signal.sawtooth(2 * np.pi * x_sample + offset) + noise\n",
    "\n",
    "    df = pd.DataFrame({'x': x_sample, 'y': y_sample})\n",
    "    df.to_csv(output_file, index=False)"
   ]
  },
  {
   "cell_type": "code",
   "execution_count": 116,
   "id": "be0c8282",
   "metadata": {},
   "outputs": [
    {
     "name": "stderr",
     "output_type": "stream",
     "text": [
      "usage: ipykernel_launcher.py [-h] [-s SIZE] [-N NOISE] [-f INPUT_FILE] m n\n",
      "ipykernel_launcher.py: error: the following arguments are required: m, n\n"
     ]
    },
    {
     "ename": "SystemExit",
     "evalue": "2",
     "output_type": "error",
     "traceback": [
      "An exception has occurred, use %tb to see the full traceback.\n",
      "\u001b[0;31mSystemExit\u001b[0m\u001b[0;31m:\u001b[0m 2\n"
     ]
    }
   ],
   "source": [
    "def main():\n",
    "    parser = argparse.ArgumentParser()\n",
    "    parser.add_argument(\"m\", help=\"Number of cosine terms\", type=int)\n",
    "    parser.add_argument(\"n\", help=\"Number of sine terms\", type=int)\n",
    "    parser.add_argument(\"-s\", \"--size\", help=\"Sample size\", type=int, default=10000)\n",
    "    parser.add_argument(\"-N\", \"--noise\", help=\"Magnitude of the noise\", type=float, default=0.1)\n",
    "    parser.add_argument(\"-f\", \"--input_file\", help=\"Name of input data file\", default=\"sample.csv\")\n",
    "    args = parser.parse_args()\n",
    "\n",
    "    # Generate new data\n",
    "    generate_data(args.size, args.noise, args.input_file)\n",
    "\n",
    "    data = pd.read_csv(args.input_file)\n",
    "\n",
    "    # Fit model\n",
    "    coeffs = fit_model(data, args.m, args.n)\n",
    "    model_stringified = model_to_string(coeffs.reshape(-1), args.m, args.n)\n",
    "    print(\"Model:\", model_stringified)\n",
    "\n",
    "    # Calculate RMSE\n",
    "    rmse = calculate_rmse(data, coeffs, args.m, args.n)\n",
    "    print(\"RMSE:\", rmse)\n",
    "    \n",
    "    #calculate AIC\n",
    "    aic = calculate_aic(data, coeffs, args.m, args.n)\n",
    "    print(\"AIC:\", aic)\n",
    "\n",
    "    # K-fold cross-validation (k = 5)\n",
    "    k_fold_rmse_5 = k_fold_cross_validation(data, args.m, args.n, 5)\n",
    "    print(\"5-Fold Cross Validation RMSE:\", k_fold_rmse_5)\n",
    "\n",
    "    # K-fold cross-validation (k = 10)\n",
    "    k_fold_rmse_10 = k_fold_cross_validation(data, args.m, args.n, 10)\n",
    "    print(\"10-Fold Cross Validation RMSE:\", k_fold_rmse_10)\n",
    "\n",
    "    # Bootstrapping\n",
    "    num_bootstraps = 100\n",
    "    bootstrap_rmse = bootstrap(data, args.m, args.n, num_bootstraps)\n",
    "    print(\"Bootstrap RMSE:\", bootstrap_rmse)\n",
    "\n",
    "if __name__ == \"__main__\":\n",
    "    main()"
   ]
  },
  {
   "cell_type": "code",
   "execution_count": 1,
   "id": "917fe5e6",
   "metadata": {},
   "outputs": [
    {
     "name": "stdout",
     "output_type": "stream",
     "text": [
      "Model: 9.137915627610373e-05 -0.5343737727809562 cos(2π * 1) -0.28657047067960384 cos(2π * 2) -0.02779117920390658 cos(2π * 3) -0.3436972035176224 sin(2π * 1) +0.1362547880415891 sin(2π * 2) +0.20835835723116083 sin(2π * 3) +0.10143087088253239 sin(2π * 4)\n",
      "RMSE: 0.2529675849412099\n",
      "AIC: -9095.107760407647\n",
      "5-Fold Cross Validation RMSE: 0.25311532279515425\n",
      "10-Fold Cross Validation RMSE: 0.2531815604374595\n",
      "Bootstrap RMSE: 0.2530624579458039\n"
     ]
    }
   ],
   "source": [
    "%run ML_assignment2_test.py 3 4\n",
    "\n"
   ]
  },
  {
   "cell_type": "code",
   "execution_count": 2,
   "id": "0d65c89e",
   "metadata": {},
   "outputs": [],
   "source": [
    "%run hamzaa_code.py 3 4\n"
   ]
  },
  {
   "cell_type": "code",
   "execution_count": null,
   "id": "3e424f5f",
   "metadata": {},
   "outputs": [],
   "source": []
  }
 ],
 "metadata": {
  "kernelspec": {
   "display_name": "Python 3 (ipykernel)",
   "language": "python",
   "name": "python3"
  },
  "language_info": {
   "codemirror_mode": {
    "name": "ipython",
    "version": 3
   },
   "file_extension": ".py",
   "mimetype": "text/x-python",
   "name": "python",
   "nbconvert_exporter": "python",
   "pygments_lexer": "ipython3",
   "version": "3.11.5"
  }
 },
 "nbformat": 4,
 "nbformat_minor": 5
}
