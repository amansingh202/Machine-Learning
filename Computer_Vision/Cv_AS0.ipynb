{
  "nbformat": 4,
  "nbformat_minor": 0,
  "metadata": {
    "colab": {
      "provenance": [],
      "toc_visible": true,
      "authorship_tag": "ABX9TyMmjVzwnRCb0O7Rc2cTZYr4",
      "include_colab_link": true
    },
    "kernelspec": {
      "name": "python3",
      "display_name": "Python 3"
    },
    "language_info": {
      "name": "python"
    }
  },
  "cells": [
    {
      "cell_type": "markdown",
      "metadata": {
        "id": "view-in-github",
        "colab_type": "text"
      },
      "source": [
        "<a href=\"https://colab.research.google.com/github/amansingh202/Machine-Learning/blob/main/Computer_Vision/Cv_AS0.ipynb\" target=\"_parent\"><img src=\"https://colab.research.google.com/assets/colab-badge.svg\" alt=\"Open In Colab\"/></a>"
      ]
    },
    {
      "cell_type": "markdown",
      "source": [
        "Name: Aman Kumar <br>\n",
        "Hawk Id: A20538809 <br>\n",
        "CS 512 (Computer Vision)"
      ],
      "metadata": {
        "id": "HYNH59ogg_yb"
      }
    },
    {
      "cell_type": "markdown",
      "source": [
        "**Part A: Vector Operations**\n",
        "Let, p = [2,-1,4], q = [0,3,5], r = [1,-2,2]"
      ],
      "metadata": {
        "id": "BPe34HnkgPC8"
      }
    },
    {
      "cell_type": "markdown",
      "source": [
        "**Find:**\n",
        "1. 3p+2q"
      ],
      "metadata": {
        "id": "q6GlClGog0Jh"
      }
    },
    {
      "cell_type": "code",
      "source": [
        "#Solution:\n",
        "import numpy as np"
      ],
      "metadata": {
        "id": "8WiEQwl7g6uv"
      },
      "execution_count": 3,
      "outputs": []
    },
    {
      "cell_type": "code",
      "source": [
        "#Solution Part A: 1\n",
        "p = np.array([2, -1, 4])\n",
        "q = np.array([0, 3, 5])\n",
        "\n",
        "result = 3*p + 2*q\n",
        "result"
      ],
      "metadata": {
        "colab": {
          "base_uri": "https://localhost:8080/"
        },
        "id": "jI8jzK1whTlx",
        "outputId": "1faeabe2-5b87-4ddd-d7e4-3796cd63256a"
      },
      "execution_count": 4,
      "outputs": [
        {
          "output_type": "execute_result",
          "data": {
            "text/plain": [
              "array([ 6,  3, 22])"
            ]
          },
          "metadata": {},
          "execution_count": 4
        }
      ]
    },
    {
      "cell_type": "markdown",
      "source": [
        "2. ^p: a unit vector in the direction of p"
      ],
      "metadata": {
        "id": "-pE4dwT-iqcm"
      }
    },
    {
      "cell_type": "code",
      "source": [
        "#Solution\n",
        "magnitude_p = np.linalg.norm(p)\n",
        "unit_vector_p = p/magnitude_p\n",
        "unit_vector_p"
      ],
      "metadata": {
        "colab": {
          "base_uri": "https://localhost:8080/"
        },
        "id": "83lN-Qe0ht4D",
        "outputId": "46688d14-2b9b-4373-8f7e-a21825ba4376"
      },
      "execution_count": 5,
      "outputs": [
        {
          "output_type": "execute_result",
          "data": {
            "text/plain": [
              "array([ 0.43643578, -0.21821789,  0.87287156])"
            ]
          },
          "metadata": {},
          "execution_count": 5
        }
      ]
    },
    {
      "cell_type": "markdown",
      "source": [
        "3. ||p|| and the angle of p relative to the positive y-axis"
      ],
      "metadata": {
        "id": "_IFB-4Qoj0Sp"
      }
    },
    {
      "cell_type": "code",
      "source": [
        "#Solution:\n",
        "magnitude_p = np.linalg.norm(p)\n",
        "angle_wrt_yAxis = np.arccos(p[1]/magnitude_p)\n",
        "angle_in_degrees = np.degrees(angle_wrt_yAxis)\n",
        "print(angle_in_degrees)"
      ],
      "metadata": {
        "colab": {
          "base_uri": "https://localhost:8080/"
        },
        "id": "X0VqFGqjjIyE",
        "outputId": "a00421d8-9084-495e-f456-35cc10a110f9"
      },
      "execution_count": 6,
      "outputs": [
        {
          "output_type": "stream",
          "name": "stdout",
          "text": [
            "102.60438264837919\n"
          ]
        }
      ]
    },
    {
      "cell_type": "markdown",
      "source": [
        "4. The direction cosines of p"
      ],
      "metadata": {
        "id": "umZs3u9vlW74"
      }
    },
    {
      "cell_type": "code",
      "source": [
        "#Solution:\n",
        "direction_cosines_p = p/magnitude_p\n",
        "direction_cosines_p"
      ],
      "metadata": {
        "colab": {
          "base_uri": "https://localhost:8080/"
        },
        "id": "A5xI9B83kAfW",
        "outputId": "7b474087-19e9-4382-fd34-2497b5159f36"
      },
      "execution_count": 7,
      "outputs": [
        {
          "output_type": "execute_result",
          "data": {
            "text/plain": [
              "array([ 0.43643578, -0.21821789,  0.87287156])"
            ]
          },
          "metadata": {},
          "execution_count": 7
        }
      ]
    },
    {
      "cell_type": "markdown",
      "source": [
        "5. The angle between p and q"
      ],
      "metadata": {
        "id": "yc01u9wTlmCu"
      }
    },
    {
      "cell_type": "code",
      "source": [
        "#Solution:\n",
        "dot_product_pq = np.dot(p,q)\n",
        "magnitude_q = np.linalg.norm(q)\n",
        "cosine_angle_pq = dot_product_pq/(magnitude_p*magnitude_q)\n",
        "angle_between_pq = np.arccos(cosine_angle_pq)\n",
        "angle_between_pq_degrees = np.degrees(angle_between_pq)\n",
        "angle_between_pq_degrees"
      ],
      "metadata": {
        "colab": {
          "base_uri": "https://localhost:8080/"
        },
        "id": "OswOqg8slkME",
        "outputId": "2cc8b44b-ee46-4c15-cb7c-e4fefc9ee77a"
      },
      "execution_count": 8,
      "outputs": [
        {
          "output_type": "execute_result",
          "data": {
            "text/plain": [
              "50.490287713806076"
            ]
          },
          "metadata": {},
          "execution_count": 8
        }
      ]
    },
    {
      "cell_type": "markdown",
      "source": [
        "6. p ⋅q and q ⋅ p"
      ],
      "metadata": {
        "id": "Qx1Wytx3nExA"
      }
    },
    {
      "cell_type": "code",
      "source": [
        "#Solution:\n",
        "p_dot_q = np.dot(p,q)\n",
        "print(p_dot_q)\n",
        "q_dot_p = np.dot(q,p)\n",
        "print(q_dot_p)\n",
        "print(\"As Dot product is commutative\")"
      ],
      "metadata": {
        "colab": {
          "base_uri": "https://localhost:8080/"
        },
        "id": "s1Hkt7D4mKsz",
        "outputId": "4b67cb81-7ccd-4c89-e7db-b49bfe7c2950"
      },
      "execution_count": 9,
      "outputs": [
        {
          "output_type": "stream",
          "name": "stdout",
          "text": [
            "17\n",
            "17\n",
            "As Dot product is commutative\n"
          ]
        }
      ]
    },
    {
      "cell_type": "markdown",
      "source": [
        "7. p⋅q using the angle between p and q"
      ],
      "metadata": {
        "id": "yTsfbPNLoBAw"
      }
    },
    {
      "cell_type": "code",
      "source": [
        "#Solution:\n",
        "p_dot_q_usingAngle = magnitude_p*magnitude_q*np.cos(angle_between_pq)\n",
        "print(p_dot_q_usingAngle)"
      ],
      "metadata": {
        "colab": {
          "base_uri": "https://localhost:8080/"
        },
        "id": "7h2P4FCknVni",
        "outputId": "4d0260d8-6ff5-4bef-a22c-780e009a7ee4"
      },
      "execution_count": 10,
      "outputs": [
        {
          "output_type": "stream",
          "name": "stdout",
          "text": [
            "17.0\n"
          ]
        }
      ]
    },
    {
      "cell_type": "markdown",
      "source": [
        "8. The scalar projection of q onto p"
      ],
      "metadata": {
        "id": "cOi7UlTzgPtj"
      }
    },
    {
      "cell_type": "code",
      "source": [
        "#Solution:\n",
        "scalar_proj_q_onto_p = np.dot(p,q)/magnitude_p\n",
        "scalar_proj_q_onto_p"
      ],
      "metadata": {
        "id": "8-YoKWm9oX1y",
        "colab": {
          "base_uri": "https://localhost:8080/"
        },
        "outputId": "7ac1e6cd-e211-4cb4-f13a-927318c405bf"
      },
      "execution_count": 11,
      "outputs": [
        {
          "output_type": "execute_result",
          "data": {
            "text/plain": [
              "3.709704134011871"
            ]
          },
          "metadata": {},
          "execution_count": 11
        }
      ]
    },
    {
      "cell_type": "markdown",
      "source": [
        "9. A vector that is perpendicular to p"
      ],
      "metadata": {
        "id": "Z20iRGZ1gzzG"
      }
    },
    {
      "cell_type": "code",
      "source": [
        "#Solution:\n",
        "perpendicular_to_p = np.cross(p, np.array([1,0,0]))\n",
        "perpendicular_to_p"
      ],
      "metadata": {
        "colab": {
          "base_uri": "https://localhost:8080/"
        },
        "id": "gNzN_z-zgS9X",
        "outputId": "e1ed6ab2-dd4f-4300-ebfe-1c8bb3b1530e"
      },
      "execution_count": 12,
      "outputs": [
        {
          "output_type": "execute_result",
          "data": {
            "text/plain": [
              "array([0, 4, 1])"
            ]
          },
          "metadata": {},
          "execution_count": 12
        }
      ]
    },
    {
      "cell_type": "markdown",
      "source": [],
      "metadata": {
        "id": "orTCkwkggy7Q"
      }
    }
  ]
}