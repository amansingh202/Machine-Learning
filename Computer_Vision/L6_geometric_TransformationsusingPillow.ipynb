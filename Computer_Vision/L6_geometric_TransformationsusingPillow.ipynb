{
 "cells": [
  {
   "cell_type": "markdown",
   "id": "a267c332",
   "metadata": {},
   "source": [
    "# Geometric Operations and Other Mathematical Tools¶"
   ]
  },
  {
   "cell_type": "markdown",
   "id": "32c62dd6",
   "metadata": {},
   "source": [
    "In the first part of the lab, you will apply geometric transformations to an image. This allows you to perform different operations like reshape translation, i.e. to shift, reshape and rotate the image. In the second part of the lab, you will learn how to apply some basic array and matrix operations to the image.\n",
    "\n",
    "Geometric Operations <br>\n",
    "Scaling<br>\n",
    "Translation<br>\n",
    "Rotation<br>\n",
    "Mathematical Operations<br>\n",
    "Array Operations<br>\n",
    "Matix Operations n"
   ]
  },
  {
   "cell_type": "code",
   "execution_count": 1,
   "id": "b767ed60",
   "metadata": {},
   "outputs": [],
   "source": [
    "import matplotlib.pyplot as plt\n",
    "from PIL import Image\n",
    "import numpy as np"
   ]
  },
  {
   "cell_type": "markdown",
   "id": "03938b5b",
   "metadata": {},
   "source": [
    "First, let's define a helper function to plot two images side-by-side. You will not need to understand this code this moment, but this function will be used repeatedly in this tutorial to showcase the results."
   ]
  },
  {
   "cell_type": "code",
   "execution_count": 2,
   "id": "a82da0e9",
   "metadata": {},
   "outputs": [],
   "source": [
    "def plot_image(image_1, image_2, title_1 = \"Original\", title_2 = \"New Image\"):\n",
    "    plt.figure(figsize=(10,10))\n",
    "    plt.subplot(1,2,1)\n",
    "    plt.imshow(image_1, cmap='gray')\n",
    "    plt.title(title_1)\n",
    "    plt.subplot(1,2,2)\n",
    "    plt.imshow(image_2, cmap='gray')\n",
    "    plt.title(title_2)\n",
    "    plt.show()"
   ]
  },
  {
   "cell_type": "code",
   "execution_count": null,
   "id": "6cee1514",
   "metadata": {},
   "outputs": [],
   "source": [
    "Geometric Transformations\n",
    "Geometric transformations allow you to perform different operations like translation, i.e. to shift, reshape and rotate the image.\n",
    "\n",
    "We can resize an image using the method resize() of PIL images, which takes the resized image's width and height as paramters.\n",
    "\n",
    "Consider the following image:"
   ]
  }
 ],
 "metadata": {
  "kernelspec": {
   "display_name": "Python 3 (ipykernel)",
   "language": "python",
   "name": "python3"
  },
  "language_info": {
   "codemirror_mode": {
    "name": "ipython",
    "version": 3
   },
   "file_extension": ".py",
   "mimetype": "text/x-python",
   "name": "python",
   "nbconvert_exporter": "python",
   "pygments_lexer": "ipython3",
   "version": "3.11.5"
  }
 },
 "nbformat": 4,
 "nbformat_minor": 5
}
