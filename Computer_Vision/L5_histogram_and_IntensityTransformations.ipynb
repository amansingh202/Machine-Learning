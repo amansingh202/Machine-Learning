{
 "cells": [
  {
   "cell_type": "markdown",
   "id": "3e930e46",
   "metadata": {},
   "source": [
    "# Histogram and Intensity Transformations¶"
   ]
  },
  {
   "cell_type": "markdown",
   "id": "11815565",
   "metadata": {},
   "source": [
    "Pixel Transforms are operations you perform one pixel at a time. In this lab, you will start by creating histograms. Histograms display the intensity of the image and can be used to optimize image characteristics. You will then apply Intensity Transformations, making objects easier to see by improving image contrast and brightness. In the last portion of the lab, you will use thresholding to segment objects from images.\n",
    "<br>\n",
    "Pixel Transforms<br>\n",
    "Histograms<br>\n",
    "Intensity Transformations<br>\n",
    "Thresholding and Simple Segmentation"
   ]
  },
  {
   "cell_type": "markdown",
   "id": "9efb0424",
   "metadata": {},
   "source": []
  },
  {
   "cell_type": "code",
   "execution_count": 2,
   "id": "8a658450",
   "metadata": {},
   "outputs": [],
   "source": [
    "import matplotlib.pyplot as plt\n",
    "import cv2\n",
    "import numpy as np"
   ]
  },
  {
   "cell_type": "code",
   "execution_count": 4,
   "id": "ba30ae3c",
   "metadata": {},
   "outputs": [],
   "source": [
    "#helper function"
   ]
  },
  {
   "cell_type": "code",
   "execution_count": 5,
   "id": "c920f2c5",
   "metadata": {},
   "outputs": [],
   "source": [
    "def plot_image(image_1, image_2, title_1 = \"Original\", title_2 = \"new Image\"):\n",
    "    plt.figure(figsize=(10,10))\n",
    "    plt.subplot(1,2,1)\n",
    "    plt.imshow(image_1, cmap = 'gray')\n",
    "    plt.title(title_1)\n",
    "    plt.subplot(1,2,2)\n",
    "    plt.imshow(image_2, cmap = 'gray')\n",
    "    plt.title(title_2)\n",
    "    plt.show()"
   ]
  },
  {
   "cell_type": "code",
   "execution_count": 6,
   "id": "e3fe1c01",
   "metadata": {},
   "outputs": [],
   "source": [
    "#histogram side by side"
   ]
  },
  {
   "cell_type": "code",
   "execution_count": null,
   "id": "81196381",
   "metadata": {},
   "outputs": [],
   "source": [
    "def plot_hist(old_image, new_image, title_old=\"Original\", title_new = \"New Image\"):\n",
    "    intensity_values = np.array([x for x in range(256)])\n",
    "    plt.subplot(1,2,1)\n",
    "    plt.bar(intensity_values, cv2.calcHist([old_image], [0],None,[256],[0,256])[:0], width = 5)\n",
    "    plt.title(title_old)\n",
    "    plt.xlabel('intensity')\n",
    "    plt.subplot(1,2,2)\n",
    "    plt.bar(intensity_values, cv2.calcHist([new_image],[0],None,[256],[0,256])[:0])"
   ]
  }
 ],
 "metadata": {
  "kernelspec": {
   "display_name": "Python 3 (ipykernel)",
   "language": "python",
   "name": "python3"
  },
  "language_info": {
   "codemirror_mode": {
    "name": "ipython",
    "version": 3
   },
   "file_extension": ".py",
   "mimetype": "text/x-python",
   "name": "python",
   "nbconvert_exporter": "python",
   "pygments_lexer": "ipython3",
   "version": "3.11.5"
  }
 },
 "nbformat": 4,
 "nbformat_minor": 5
}
