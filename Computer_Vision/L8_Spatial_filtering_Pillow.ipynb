{
 "cells": [
  {
   "cell_type": "markdown",
   "id": "fee1ea28",
   "metadata": {},
   "source": [
    "# Spatial_Fltering_Using_Pillow"
   ]
  },
  {
   "cell_type": "markdown",
   "id": "369de39d",
   "metadata": {},
   "source": [
    "# Geometric Operations and Other Mathematical Tools with Pillow"
   ]
  },
  {
   "cell_type": "markdown",
   "id": "8fcdf19f",
   "metadata": {},
   "source": [
    "Spatial Operations in Image Processing\n",
    "Spatial operations use pixels in a neighborhood to determine the present pixel value. Some applications include filtering and sharpening. They are used in many steps in computer vision, such as segmentation, and are a key building block in Artificial Intelligence algorithms.\n",
    "\n",
    "Linear Filtering  <br>\n",
    "Filtering Noise <br>\n",
    "Gaussian Blur <br>\n",
    "Image Sharpening <br>\n",
    "Edges <br>\n",
    "Median <br>"
   ]
  },
  {
   "cell_type": "code",
   "execution_count": 2,
   "id": "ff0c9dd0",
   "metadata": {},
   "outputs": [],
   "source": [
    "import matplotlib.pyplot as plt\n",
    "import numpy as np\n",
    "from PIL import Image"
   ]
  },
  {
   "cell_type": "code",
   "execution_count": null,
   "id": "4cf5f384",
   "metadata": {},
   "outputs": [],
   "source": [
    "def plot_image(image_1, image_2, title_1=\"Original\", title_2=\"New Image\"):\n",
    "    plt.figure(figsize=(10,10))\n",
    "    plt.subplot(1,2,1)\n",
    "    plt.imshow(image_1)\n",
    "    plt.title(title_1)\n",
    "    plt.subplot(1,2,2)\n",
    "    plt.imshow(image_2)\n",
    "    plt.title(title_2)\n",
    "    plt.show()"
   ]
  }
 ],
 "metadata": {
  "kernelspec": {
   "display_name": "Python 3 (ipykernel)",
   "language": "python",
   "name": "python3"
  },
  "language_info": {
   "codemirror_mode": {
    "name": "ipython",
    "version": 3
   },
   "file_extension": ".py",
   "mimetype": "text/x-python",
   "name": "python",
   "nbconvert_exporter": "python",
   "pygments_lexer": "ipython3",
   "version": "3.11.5"
  }
 },
 "nbformat": 4,
 "nbformat_minor": 5
}
