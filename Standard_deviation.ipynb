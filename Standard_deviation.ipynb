{
 "cells": [
  {
   "cell_type": "markdown",
   "id": "ab01fd0d",
   "metadata": {},
   "source": [
    "# Standard Deviation"
   ]
  },
  {
   "cell_type": "markdown",
   "id": "1050016f",
   "metadata": {},
   "source": [
    "It describes how spread the values are \n",
    "Low std means that most of the numbers are close to the mean (average)value\n",
    "A high std means that the values are spread out over a wider range"
   ]
  },
  {
   "cell_type": "code",
   "execution_count": 1,
   "id": "1955acd3",
   "metadata": {},
   "outputs": [
    {
     "name": "stdout",
     "output_type": "stream",
     "text": [
      "0.9035079029052513\n"
     ]
    }
   ],
   "source": [
    "import numpy as np\n",
    "speed = np.array([86,87,88,86,87,85,86])\n",
    "\n",
    "x = np.std(speed)\n",
    "print(x)"
   ]
  },
  {
   "cell_type": "markdown",
   "id": "1986617a",
   "metadata": {},
   "source": [
    "above 0.9 means that most of the values are wthin the range of 0.9 from the mean"
   ]
  },
  {
   "cell_type": "code",
   "execution_count": 2,
   "id": "ebcfff38",
   "metadata": {},
   "outputs": [
    {
     "name": "stdout",
     "output_type": "stream",
     "text": [
      "37.84501153334721\n"
     ]
    }
   ],
   "source": [
    "speed = np.array([32,111,138,28,59,77,97])\n",
    "\n",
    "y = np.std(speed)\n",
    "print(y)"
   ]
  },
  {
   "cell_type": "code",
   "execution_count": null,
   "id": "4c7a0113",
   "metadata": {},
   "outputs": [],
   "source": []
  }
 ],
 "metadata": {
  "kernelspec": {
   "display_name": "Python 3 (ipykernel)",
   "language": "python",
   "name": "python3"
  },
  "language_info": {
   "codemirror_mode": {
    "name": "ipython",
    "version": 3
   },
   "file_extension": ".py",
   "mimetype": "text/x-python",
   "name": "python",
   "nbconvert_exporter": "python",
   "pygments_lexer": "ipython3",
   "version": "3.11.5"
  }
 },
 "nbformat": 4,
 "nbformat_minor": 5
}
