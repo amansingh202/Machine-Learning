{
 "cells": [
  {
   "cell_type": "markdown",
   "id": "c83ce93e",
   "metadata": {},
   "source": [
    "# Geometric Operations and Other Mathematical Tools¶"
   ]
  },
  {
   "cell_type": "markdown",
   "id": "86a50d9c",
   "metadata": {},
   "source": [
    "In the first part of the lab, you will apply geometric transformations to an image. This allows you to perform different operations like reshape translation, i.e. to shift, reshape and rotate the image. In the second part of the lab, you will learn how to apply some basic array and matrix operations to the image.\n",
    "\n",
    "Geometric Operations <br>\n",
    "Scaling<br>\n",
    "Translation<br>\n",
    "Rotation<br>\n",
    "Mathematical Operations<br>\n",
    "Array Operations<br>\n",
    "Matix Operations n"
   ]
  },
  {
   "cell_type": "code",
   "execution_count": null,
   "id": "9fe4c97e",
   "metadata": {},
   "outputs": [],
   "source": [
    "import matplotlib.pyplot as plt\n",
    "from PIL import imag"
   ]
  }
 ],
 "metadata": {
  "kernelspec": {
   "display_name": "Python 3 (ipykernel)",
   "language": "python",
   "name": "python3"
  },
  "language_info": {
   "codemirror_mode": {
    "name": "ipython",
    "version": 3
   },
   "file_extension": ".py",
   "mimetype": "text/x-python",
   "name": "python",
   "nbconvert_exporter": "python",
   "pygments_lexer": "ipython3",
   "version": "3.11.5"
  }
 },
 "nbformat": 4,
 "nbformat_minor": 5
}
