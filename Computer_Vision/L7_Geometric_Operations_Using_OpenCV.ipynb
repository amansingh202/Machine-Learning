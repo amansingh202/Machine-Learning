{
 "cells": [
  {
   "cell_type": "markdown",
   "id": "da42f67f",
   "metadata": {},
   "source": [
    "# Geometric Operations using OpenCV"
   ]
  },
  {
   "cell_type": "markdown",
   "id": "fc446671",
   "metadata": {},
   "source": [
    "In the first part of the lab, you will apply geometric transformations to an image. This allows you to perform different operations like reshape translation i.e. to shift, reshape and rotate the image. In the second part of the lab, you will learn how to apply some basic array and matrix operations to the image.\n",
    "\n",
    "Geometric Operations<br>\n",
    "Scaling<br>\n",
    "Translation<br>\n",
    "Rotation<br>\n",
    "Mathematical Operations<br>\n",
    "Array Operations<br>\n",
    "Matix Operations n"
   ]
  },
  {
   "cell_type": "code",
   "execution_count": 1,
   "id": "fc9f1527",
   "metadata": {},
   "outputs": [],
   "source": [
    "import matplotlib.pyplot as plt\n",
    "import cv2\n",
    "import numpy as np"
   ]
  },
  {
   "cell_type": "markdown",
   "id": "f7e231b6",
   "metadata": {},
   "source": [
    "First, let's define a helper function to plot two images side-by-side. You will not need to understand this code this moment, but this function will be used repeatedly in this tutorial to showcase the results."
   ]
  },
  {
   "cell_type": "code",
   "execution_count": 2,
   "id": "8af8590e",
   "metadata": {},
   "outputs": [],
   "source": [
    "def plot_image(image_1, image_2, title_1 = \"Original\", title_2 = \"New Image\"):\n",
    "    plt.figure(figsize=(10,10))\n",
    "    plt.subplot(1,2,1)\n",
    "    plt.imshow(image_1, cmap=\"gray\")\n",
    "    plt.title(title_1)\n",
    "    plt.subplot(1,2,2)\n",
    "    plt.imshow(image_2, cmap='gray')\n",
    "    plt.title(title_2)\n",
    "    plt.show()"
   ]
  },
  {
   "cell_type": "markdown",
   "id": "d8e9b825",
   "metadata": {},
   "source": [
    "# Geometric Transformations\n",
    "Geometric transformations allow you to perform different operations like translation i.e. to shift, reshape and rotate the image.\n",
    "\n",
    "<h2>Scaling</h2>\n",
    "We can resize an image using the function resize() from cv2 module for this purpose. You can specify the scaling factor or the size of the image:\n",
    "\n",
    "Consider the following image with the corresponding intensity values:"
   ]
  },
  {
   "cell_type": "code",
   "execution_count": 3,
   "id": "53dc362c",
   "metadata": {},
   "outputs": [
    {
     "data": {
      "image/png": "[encoded data removed]",
      "text/plain": [
       "<Figure size 640x480 with 1 Axes>"
      ]
     },
     "metadata": {},
     "output_type": "display_data"
    },
    {
     "data": {
      "text/plain": [
       "array([[  0.,   0.,   0.,   0.,   0.,   0.],\n",
       "       [  0., 255., 255., 255., 255.,   0.],\n",
       "       [  0., 255.,   0.,   0., 255.,   0.],\n",
       "       [  0., 255.,   0.,   0., 255.,   0.],\n",
       "       [  0., 255., 255., 255., 255.,   0.],\n",
       "       [  0.,   0.,   0.,   0.,   0.,   0.]])"
      ]
     },
     "execution_count": 3,
     "metadata": {},
     "output_type": "execute_result"
    }
   ],
   "source": [
    "toy_image = np.zeros((6,6))\n",
    "toy_image[1:5, 1:5] = 255\n",
    "toy_image[2:4,2:4] = 0\n",
    "plt.imshow(toy_image, cmap = 'gray')\n",
    "plt.show()\n",
    "toy_image"
   ]
  },
  {
   "cell_type": "markdown",
   "id": "1307d0e8",
   "metadata": {},
   "source": [
    "We can rescale along a specific axis:\n",
    "\n",
    "fx: scale factor along the horizontal axis<br>\n",
    "fy: scale factor along the vertical axis<br>\n",
    "The parameter interpolation estimates pixel values based on neighboring pixels. INTER_NEAREST uses the nearest pixel and INTER_CUBIC uses several pixels near the pixel value we would like to estimate."
   ]
  },
  {
   "cell_type": "code",
   "execution_count": null,
   "id": "f3143e1b",
   "metadata": {},
   "outputs": [],
   "source": [
    "new_toy = cv2.resize(toy_image, None, fx=2, fy=1, interpolation = cv2.INTER_NEAREST)\n",
    "pl"
   ]
  }
 ],
 "metadata": {
  "kernelspec": {
   "display_name": "Python 3 (ipykernel)",
   "language": "python",
   "name": "python3"
  },
  "language_info": {
   "codemirror_mode": {
    "name": "ipython",
    "version": 3
   },
   "file_extension": ".py",
   "mimetype": "text/x-python",
   "name": "python",
   "nbconvert_exporter": "python",
   "pygments_lexer": "ipython3",
   "version": "3.11.5"
  }
 },
 "nbformat": 4,
 "nbformat_minor": 5
}
