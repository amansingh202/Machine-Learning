{
 "cells": [
  {
   "cell_type": "markdown",
   "id": "9c1f1cc8",
   "metadata": {},
   "source": [
    "# Cross Validation"
   ]
  },
  {
   "cell_type": "code",
   "execution_count": 5,
   "id": "82b74ec2",
   "metadata": {},
   "outputs": [],
   "source": [
    "from sklearn import datasets\n",
    "\n",
    "X, y = datasets.load_iris(return_X_y=True)"
   ]
  },
  {
   "cell_type": "markdown",
   "id": "4bc28e4f",
   "metadata": {},
   "source": [
    "Methods of Cross validation"
   ]
  },
  {
   "cell_type": "markdown",
   "id": "ef0e801a",
   "metadata": {},
   "source": [
    "# 1. K-fold cross validation"
   ]
  },
  {
   "cell_type": "code",
   "execution_count": 6,
   "id": "ab1de98f",
   "metadata": {},
   "outputs": [],
   "source": [
    "from sklearn.tree import DecisionTreeClassifier\n",
    "from sklearn.model_selection import KFold, cross_val_score\n",
    "\n",
    "clf = DecisionTreeClassifier(random_state=42)\n",
    "\n",
    "k_folds = KFold(n_splits=5)\n",
    "scores = cross_val_score(clf, X, y, cv = k_folds)"
   ]
  },
  {
   "cell_type": "code",
   "execution_count": 7,
   "id": "04df5f35",
   "metadata": {},
   "outputs": [
    {
     "name": "stdout",
     "output_type": "stream",
     "text": [
      "Cross validation scores:  [1.         1.         0.83333333 0.93333333 0.8       ]\n",
      "Average CV score:  0.9133333333333333\n",
      "Number of CV scores used in average 5\n"
     ]
    }
   ],
   "source": [
    "print(\"Cross validation scores: \", scores)\n",
    "print(\"Average CV score: \", scores.mean())\n",
    "print(\"Number of CV scores used in average\", len(scores))"
   ]
  },
  {
   "cell_type": "markdown",
   "id": "332e2a57",
   "metadata": {},
   "source": [
    "# 2. Stratified K-fold"
   ]
  },
  {
   "cell_type": "code",
   "execution_count": 11,
   "id": "6961fc88",
   "metadata": {},
   "outputs": [],
   "source": [
    "from sklearn.model_selection import StratifiedKFold, cross_val_score\n",
    "\n",
    "sk_folds = StratifiedKFold(n_splits=5)\n",
    "\n",
    "scores = cross_val_score(clf, X, y, cv = sk_folds)"
   ]
  },
  {
   "cell_type": "code",
   "execution_count": 12,
   "id": "c6267750",
   "metadata": {},
   "outputs": [
    {
     "name": "stdout",
     "output_type": "stream",
     "text": [
      "Stratified cross validation Scores:  [0.96666667 0.96666667 0.9        0.93333333 1.        ]\n",
      "Average CV score:  0.9533333333333334\n",
      "Number of CV scores used in average:  5\n"
     ]
    }
   ],
   "source": [
    "print(\"Stratified cross validation Scores: \", scores)\n",
    "print(\"Average CV score: \", scores.mean())\n",
    "print(\"Number of CV scores used in average: \", len(scores))"
   ]
  },
  {
   "cell_type": "markdown",
   "id": "cd869f35",
   "metadata": {},
   "source": [
    "# 3. Leave One out "
   ]
  },
  {
   "cell_type": "code",
   "execution_count": null,
   "id": "2ae5005c",
   "metadata": {},
   "outputs": [],
   "source": [
    "from sklearn.model_selection import LeaveOneOut, cross_val_score\n",
    "\n",
    "loo = LeaveOneOut()\n",
    "\n",
    "scores = cross_val_score(clf, X, y, cv = loo)\n",
    "\n",
    "print(\"Cross Vaidation scores: \", scores)\n",
    "print(\"Average Cv score: \", scores.mean())\n",
    "print()"
   ]
  }
 ],
 "metadata": {
  "kernelspec": {
   "display_name": "Python 3 (ipykernel)",
   "language": "python",
   "name": "python3"
  },
  "language_info": {
   "codemirror_mode": {
    "name": "ipython",
    "version": 3
   },
   "file_extension": ".py",
   "mimetype": "text/x-python",
   "name": "python",
   "nbconvert_exporter": "python",
   "pygments_lexer": "ipython3",
   "version": "3.11.5"
  }
 },
 "nbformat": 4,
 "nbformat_minor": 5
}
