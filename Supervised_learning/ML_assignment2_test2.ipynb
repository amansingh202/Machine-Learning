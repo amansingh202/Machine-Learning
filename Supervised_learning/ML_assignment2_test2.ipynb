{
 "cells": [
  {
   "cell_type": "code",
   "execution_count": 90,
   "id": "925dbb5a",
   "metadata": {},
   "outputs": [],
   "source": [
    "import numpy as np\n",
    "import pandas as pd\n",
    "from scipy import signal\n",
    "from sklearn.model_selection import KFold\n",
    "from sklearn.utils import resample\n",
    "import csv\n",
    "\n",
    "def model_to_string(coeffs, m, n):\n",
    "    ones = f\"{coeffs[0]} \"\n",
    "    cosines = [f\"{coeffs[j]:+} cos(2π * {j})\" for j in range(1, m + 1)]\n",
    "    sines = [f\"{coeffs[j]:+} sin(2π * {j - m})\" for j in range(m + 1, m + n + 1)]\n",
    "    return ones + \" \".join(cosines) + \" \" + \" \".join(sines)\n",
    "\n",
    "\n",
    "\n",
    "\n"
   ]
  },
  {
   "cell_type": "code",
   "execution_count": 91,
   "id": "2b44bdae",
   "metadata": {},
   "outputs": [],
   "source": [
    "def fit_model(m, n, x_sample, y_sample,  input_file=\"sample.csv\"):\n",
    "    data = []\n",
    "    with open(input_file, \"r\") as f:\n",
    "        reader = csv.DictReader(f)\n",
    "        for line in reader:\n",
    "            data.append(line)\n",
    "    ones = np.ones((len(x_sample), 1))\n",
    "    cosines = np.array([np.cos(2*np.pi*j*x_sample) for j in range(1,2*m+1)]).T  \n",
    "    sines = np.array([np.sin(2*np.pi*j*x_sample) for j in range(1,2*n+1)]).T \n",
    "    dmatrix = np.concatenate([ones, cosines, sines], axis=1) \n",
    "    u, s, vT = np.linalg.svd(dmatrix, full_matrices=False)\n",
    "    uT = np.transpose(u)\n",
    "    v = np.transpose(vT)\n",
    "    s_inv = np.power(s, -1)\n",
    "    p_inv = np.dot(v, np.dot(np.diag(s_inv), uT))\n",
    "    coeffs = np.dot(p_inv, y_sample)\n",
    "    model_stringified = model_to_string(coeffs.reshape(-1), m, n)\n",
    "    outputs = np.dot(dmatrix, coeffs)\n",
    "    resids = y_sample - outputs\n",
    "    rmse = np.sqrt(np.mean(np.square(resids.reshape(-1))))\n",
    "    return rmse, model_stringified, coeffs, dmatrix"
   ]
  },
  {
   "cell_type": "code",
   "execution_count": 92,
   "id": "9298179a",
   "metadata": {},
   "outputs": [],
   "source": [
    "def generate_data(size=10000, noise=0.1, output_file=\"sample.csv\"):\n",
    "    rng = np.random.default_rng()\n",
    "    x_sample = rng.uniform(-10,10, size)\n",
    "    noise = rng.normal(0, noise, size)\n",
    "    offset = rng.uniform(1)\n",
    "    y_sample = signal.sawtooth(2*np.pi*x_sample + offset) + noise\n",
    "    with open(output_file, \"w\", newline='') as f:\n",
    "        writer = csv.writer(f)\n",
    "        writer.writerow([\"x\", \"y\"])\n",
    "        for x, y in zip(x_sample, y_sample):\n",
    "            writer.writerow([x,y])  \n",
    "    return x_sample, y_sample"
   ]
  },
  {
   "cell_type": "code",
   "execution_count": 93,
   "id": "f9c15ac8",
   "metadata": {},
   "outputs": [],
   "source": [
    "def calculate_log_likelihood(data, coeffs, m, n):\n",
    "    x_sample = data['x'].values.reshape(-1, 1)\n",
    "    y_sample = data['y'].values.reshape(-1, 1)\n",
    "    ones = np.ones_like(x_sample)\n",
    "    cosines = np.array([np.cos(2 * np.pi * j * x_sample) for j in range(1, m + 1)])[:, :, 0].T\n",
    "    sines = np.array([np.sin(2 * np.pi * j * x_sample) for j in range(1, n + 1)])[:, :, 0].T\n",
    "    dmatrix = np.concatenate([ones, cosines, sines], axis=1)\n",
    "    \n",
    "    outputs = np.dot(dmatrix, coeffs)\n",
    "    residuals = y_sample - outputs\n",
    "    rss = np.sum(residuals**2)\n",
    "    \n",
    "    n_samples = len(data)\n",
    "    num_params = m + n + 1  # Number of parameters including intercept\n",
    "    dof = n_samples - num_params  # Degrees of freedom\n",
    "    log_likelihood = -0.5 * n_samples * np.log(2 * np.pi * rss / dof)  # assuming normal distribution\n",
    "    \n",
    "    return log_likelihood"
   ]
  },
  {
   "cell_type": "code",
   "execution_count": 94,
   "id": "e65db5e5",
   "metadata": {},
   "outputs": [],
   "source": [
    "def calculate_aic(data, coeffs, m, n):\n",
    "    k = m + n +1\n",
    "    aic = 2*k - 2*np.log(calculate_log_likelihood(data, coeffs, m, n))\n",
    "    return aic"
   ]
  },
  {
   "cell_type": "code",
   "execution_count": 95,
   "id": "ca47b888",
   "metadata": {},
   "outputs": [],
   "source": [
    "def calculate_rmse(data, coeffs, m, n):\n",
    "    x_sample = data['x'].values.reshape(-1, 1)\n",
    "    y_sample = data['y'].values.reshape(-1, 1)\n",
    "    ones = np.ones_like(x_sample)\n",
    "    cosines = np.array([np.cos(2 * np.pi * j * x_sample) for j in range(1, m + 1)])[:, :, 0].T\n",
    "    sines = np.array([np.sin(2 * np.pi * j * x_sample) for j in range(1, n + 1)])[:, :, 0].T\n",
    "    dmatrix = np.concatenate([ones, cosines, sines], axis=1)\n",
    "\n",
    "    outputs = np.dot(dmatrix, coeffs)\n",
    "    resids = y_sample - outputs\n",
    "    rmse = np.sqrt(np.mean(np.square(resids.reshape(-1))))\n",
    "    return rmse"
   ]
  },
  {
   "cell_type": "code",
   "execution_count": 96,
   "id": "6754f5cd",
   "metadata": {},
   "outputs": [],
   "source": [
    "def k_fold_cross_validation(data, m, n, k):\n",
    "    kf = KFold(n_splits=k)\n",
    "    rmses = []\n",
    "    for train_index, test_index in kf.split(data):\n",
    "        train_data = data.iloc[train_index]\n",
    "        test_data = data.iloc[test_index]\n",
    "        coeffs = fit_model(train_data, m, n)\n",
    "        rmse = calculate_rmse(test_data, coeffs, m, n)\n",
    "        rmses.append(rmse)\n",
    "    return np.mean(rmses)"
   ]
  },
  {
   "cell_type": "code",
   "execution_count": 97,
   "id": "27c8599a",
   "metadata": {},
   "outputs": [],
   "source": [
    "def bootstrap(data, m, n, num_bootstraps):\n",
    "    rmses = []\n",
    "    for _ in range(num_bootstraps):\n",
    "        boot_data = resample(data, replace=True)\n",
    "        coeffs = fit_model(boot_data, m, n)\n",
    "        rmse = calculate_rmse(data, coeffs, m, n)\n",
    "        rmses.append(rmse)\n",
    "    return np.mean(rmses)"
   ]
  },
  {
   "cell_type": "code",
   "execution_count": 98,
   "id": "12f4f813",
   "metadata": {},
   "outputs": [
    {
     "name": "stdout",
     "output_type": "stream",
     "text": [
      "Noise Level: 0.01, m: 3, n: 3\n"
     ]
    },
    {
     "ename": "AttributeError",
     "evalue": "'tuple' object has no attribute 'reshape'",
     "output_type": "error",
     "traceback": [
      "\u001b[0;31m---------------------------------------------------------------------------\u001b[0m",
      "\u001b[0;31mAttributeError\u001b[0m                            Traceback (most recent call last)",
      "Cell \u001b[0;32mIn[98], line 50\u001b[0m\n\u001b[1;32m     47\u001b[0m     \u001b[38;5;28mprint\u001b[39m(\u001b[38;5;124mf\u001b[39m\u001b[38;5;124m\"\u001b[39m\u001b[38;5;124mMinimum AIC: \u001b[39m\u001b[38;5;132;01m{\u001b[39;00mmin_aic\u001b[38;5;132;01m}\u001b[39;00m\u001b[38;5;124m, m: \u001b[39m\u001b[38;5;132;01m{\u001b[39;00mbest_m\u001b[38;5;132;01m}\u001b[39;00m\u001b[38;5;124m, n: \u001b[39m\u001b[38;5;132;01m{\u001b[39;00mbest_n\u001b[38;5;132;01m}\u001b[39;00m\u001b[38;5;124m\"\u001b[39m)\n\u001b[1;32m     49\u001b[0m \u001b[38;5;28;01mif\u001b[39;00m \u001b[38;5;18m__name__\u001b[39m \u001b[38;5;241m==\u001b[39m \u001b[38;5;124m\"\u001b[39m\u001b[38;5;124m__main__\u001b[39m\u001b[38;5;124m\"\u001b[39m:\n\u001b[0;32m---> 50\u001b[0m     main()\n",
      "Cell \u001b[0;32mIn[98], line 22\u001b[0m, in \u001b[0;36mmain\u001b[0;34m()\u001b[0m\n\u001b[1;32m     20\u001b[0m x_sample, y_sample \u001b[38;5;241m=\u001b[39m generate_data(\u001b[38;5;28mlen\u001b[39m(data), noise)\n\u001b[1;32m     21\u001b[0m coeffs \u001b[38;5;241m=\u001b[39m fit_model(m, n, x_sample, y_sample, )\n\u001b[0;32m---> 22\u001b[0m model_stringified \u001b[38;5;241m=\u001b[39m model_to_string(coeffs\u001b[38;5;241m.\u001b[39mreshape(\u001b[38;5;241m-\u001b[39m\u001b[38;5;241m1\u001b[39m), m, n)\n\u001b[1;32m     23\u001b[0m \u001b[38;5;28mprint\u001b[39m(\u001b[38;5;124m\"\u001b[39m\u001b[38;5;124mModel:\u001b[39m\u001b[38;5;124m\"\u001b[39m, model_stringified)\n\u001b[1;32m     24\u001b[0m rmse \u001b[38;5;241m=\u001b[39m calculate_rmse(synthetic_data, coeffs, m, n)\n",
      "\u001b[0;31mAttributeError\u001b[0m: 'tuple' object has no attribute 'reshape'"
     ]
    }
   ],
   "source": [
    "def main():\n",
    "    input_file = \"sample.csv\"\n",
    "\n",
    "    data = pd.read_csv(input_file)\n",
    "    \n",
    "    noise_stds = [0.01, 0.05, 0.1]\n",
    "    m_values = [3, 4, 5]\n",
    "    n_values = [3, 4, 5]\n",
    "    \n",
    "    min_aic = np.inf\n",
    "    best_m = None\n",
    "    best_n = None\n",
    "    \n",
    "\n",
    "    #for size in sample_sizes:\n",
    "    for noise in noise_stds:\n",
    "        for m in m_values:\n",
    "            for n in n_values:\n",
    "                print(f\"Noise Level: {noise}, m: {m}, n: {n}\")\n",
    "                x_sample, y_sample = generate_data(len(data), noise)\n",
    "                coeffs = fit_model(m, n, x_sample, y_sample, )\n",
    "                model_stringified = model_to_string(coeffs.reshape(-1), m, n)\n",
    "                print(\"Model:\", model_stringified)\n",
    "                rmse = calculate_rmse(synthetic_data, coeffs, m, n)\n",
    "                print(\"RMSE:\", rmse)\n",
    "                    \n",
    "                    \n",
    "                aic = calculate_aic(synthetic_data, coeffs, m, n)\n",
    "                print(\"AIC:\", aic)\n",
    "                if aic < min_aic:\n",
    "                    min_aic = aic\n",
    "                    best_m = m\n",
    "                    best_n = n\n",
    "                    \n",
    "                    \n",
    "                k_fold_rmse_5 = k_fold_cross_validation(synthetic_data, m, n, 5)\n",
    "                print(\"5-Fold Cross Validation RMSE:\", k_fold_rmse_5)\n",
    "                k_fold_rmse_10 = k_fold_cross_validation(synthetic_data, m, n, 10)\n",
    "                print(\"10-Fold Cross Validation RMSE:\", k_fold_rmse_10)\n",
    "                    \n",
    "                num_bootstraps = 100\n",
    "                bootstrap_rmse = bootstrap(synthetic_data, m, n, num_bootstraps)\n",
    "                print(\"Bootstrap RMSE:\", bootstrap_rmse)\n",
    "                print()\n",
    "                    \n",
    "          \n",
    "    print(f\"Minimum AIC: {min_aic}, m: {best_m}, n: {best_n}\")\n",
    "\n",
    "if __name__ == \"__main__\":\n",
    "    main()"
   ]
  }
 ],
 "metadata": {
  "kernelspec": {
   "display_name": "Python 3 (ipykernel)",
   "language": "python",
   "name": "python3"
  },
  "language_info": {
   "codemirror_mode": {
    "name": "ipython",
    "version": 3
   },
   "file_extension": ".py",
   "mimetype": "text/x-python",
   "name": "python",
   "nbconvert_exporter": "python",
   "pygments_lexer": "ipython3",
   "version": "3.11.5"
  }
 },
 "nbformat": 4,
 "nbformat_minor": 5
}
